{
  "nbformat": 4,
  "nbformat_minor": 0,
  "metadata": {
    "colab": {
      "name": "capstone_GRU.ipynb",
      "provenance": [],
      "collapsed_sections": []
    },
    "kernelspec": {
      "name": "python3",
      "display_name": "Python 3"
    }
  },
  "cells": [
    {
      "cell_type": "code",
      "metadata": {
        "id": "eIKhOXFS_Leq",
        "colab": {
          "base_uri": "https://localhost:8080/"
        },
        "outputId": "04dfa07f-4ea8-496f-e994-2098f7beacd2"
      },
      "source": [
        "%tensorflow_version 1.x"
      ],
      "execution_count": null,
      "outputs": [
        {
          "output_type": "stream",
          "text": [
            "TensorFlow 1.x selected.\n"
          ],
          "name": "stdout"
        }
      ]
    },
    {
      "cell_type": "code",
      "metadata": {
        "id": "2bZcbXcFPONm",
        "colab": {
          "base_uri": "https://localhost:8080/"
        },
        "outputId": "62f9cccd-1d9b-44b7-dbc9-ef0bfbeda274"
      },
      "source": [
        "! pip install konlpy"
      ],
      "execution_count": null,
      "outputs": [
        {
          "output_type": "stream",
          "text": [
            "Collecting konlpy\n",
            "\u001b[?25l  Downloading https://files.pythonhosted.org/packages/85/0e/f385566fec837c0b83f216b2da65db9997b35dd675e107752005b7d392b1/konlpy-0.5.2-py2.py3-none-any.whl (19.4MB)\n",
            "\u001b[K     |████████████████████████████████| 19.4MB 67.2MB/s \n",
            "\u001b[?25hCollecting colorama\n",
            "  Downloading https://files.pythonhosted.org/packages/44/98/5b86278fbbf250d239ae0ecb724f8572af1c91f4a11edf4d36a206189440/colorama-0.4.4-py2.py3-none-any.whl\n",
            "Collecting JPype1>=0.7.0\n",
            "\u001b[?25l  Downloading https://files.pythonhosted.org/packages/b7/21/9e2c0dbf9df856e6392a1aec1d18006c60b175aa4e31d351e8278a8a63c0/JPype1-1.2.0-cp36-cp36m-manylinux2010_x86_64.whl (453kB)\n",
            "\u001b[K     |████████████████████████████████| 460kB 50.3MB/s \n",
            "\u001b[?25hCollecting tweepy>=3.7.0\n",
            "  Downloading https://files.pythonhosted.org/packages/67/c3/6bed87f3b1e5ed2f34bd58bf7978e308c86e255193916be76e5a5ce5dfca/tweepy-3.10.0-py2.py3-none-any.whl\n",
            "Requirement already satisfied: numpy>=1.6 in /usr/local/lib/python3.6/dist-packages (from konlpy) (1.19.4)\n",
            "Requirement already satisfied: lxml>=4.1.0 in /usr/local/lib/python3.6/dist-packages (from konlpy) (4.2.6)\n",
            "Collecting beautifulsoup4==4.6.0\n",
            "\u001b[?25l  Downloading https://files.pythonhosted.org/packages/9e/d4/10f46e5cfac773e22707237bfcd51bbffeaf0a576b0a847ec7ab15bd7ace/beautifulsoup4-4.6.0-py3-none-any.whl (86kB)\n",
            "\u001b[K     |████████████████████████████████| 92kB 10.0MB/s \n",
            "\u001b[?25hRequirement already satisfied: typing-extensions; python_version < \"3.8\" in /usr/local/lib/python3.6/dist-packages (from JPype1>=0.7.0->konlpy) (3.7.4.3)\n",
            "Requirement already satisfied: requests-oauthlib>=0.7.0 in /usr/local/lib/python3.6/dist-packages (from tweepy>=3.7.0->konlpy) (1.3.0)\n",
            "Requirement already satisfied: requests[socks]>=2.11.1 in /usr/local/lib/python3.6/dist-packages (from tweepy>=3.7.0->konlpy) (2.23.0)\n",
            "Requirement already satisfied: six>=1.10.0 in /usr/local/lib/python3.6/dist-packages (from tweepy>=3.7.0->konlpy) (1.15.0)\n",
            "Requirement already satisfied: oauthlib>=3.0.0 in /usr/local/lib/python3.6/dist-packages (from requests-oauthlib>=0.7.0->tweepy>=3.7.0->konlpy) (3.1.0)\n",
            "Requirement already satisfied: chardet<4,>=3.0.2 in /usr/local/lib/python3.6/dist-packages (from requests[socks]>=2.11.1->tweepy>=3.7.0->konlpy) (3.0.4)\n",
            "Requirement already satisfied: certifi>=2017.4.17 in /usr/local/lib/python3.6/dist-packages (from requests[socks]>=2.11.1->tweepy>=3.7.0->konlpy) (2020.12.5)\n",
            "Requirement already satisfied: urllib3!=1.25.0,!=1.25.1,<1.26,>=1.21.1 in /usr/local/lib/python3.6/dist-packages (from requests[socks]>=2.11.1->tweepy>=3.7.0->konlpy) (1.24.3)\n",
            "Requirement already satisfied: idna<3,>=2.5 in /usr/local/lib/python3.6/dist-packages (from requests[socks]>=2.11.1->tweepy>=3.7.0->konlpy) (2.10)\n",
            "Requirement already satisfied: PySocks!=1.5.7,>=1.5.6; extra == \"socks\" in /usr/local/lib/python3.6/dist-packages (from requests[socks]>=2.11.1->tweepy>=3.7.0->konlpy) (1.7.1)\n",
            "Installing collected packages: colorama, JPype1, tweepy, beautifulsoup4, konlpy\n",
            "  Found existing installation: tweepy 3.6.0\n",
            "    Uninstalling tweepy-3.6.0:\n",
            "      Successfully uninstalled tweepy-3.6.0\n",
            "  Found existing installation: beautifulsoup4 4.6.3\n",
            "    Uninstalling beautifulsoup4-4.6.3:\n",
            "      Successfully uninstalled beautifulsoup4-4.6.3\n",
            "Successfully installed JPype1-1.2.0 beautifulsoup4-4.6.0 colorama-0.4.4 konlpy-0.5.2 tweepy-3.10.0\n"
          ],
          "name": "stdout"
        }
      ]
    },
    {
      "cell_type": "code",
      "metadata": {
        "id": "cVcskUbkPCMJ"
      },
      "source": [
        "import pandas as pd\n",
        "import numpy as np\n",
        "%matplotlib inline\n",
        "import matplotlib.pyplot as plt\n",
        "import re\n",
        "import urllib.request\n",
        "from konlpy.tag import Okt\n",
        "from tensorflow.keras.preprocessing.text import Tokenizer\n",
        "from tensorflow.keras.preprocessing.sequence import pad_sequences\n",
        "import re"
      ],
      "execution_count": null,
      "outputs": []
    },
    {
      "cell_type": "code",
      "metadata": {
        "id": "fbkFMXkkPTnE"
      },
      "source": [
        "class Emotion:\n",
        "  def __init__(self, data, test_data, data_label, test_label):\n",
        "    self.tokenizer = Tokenizer()\n",
        "    self.okt = Okt()\n",
        "    self. stopwords = ['백주부','ㅋ','ㅎ','ㅠ','ㅜㅜ','^^','의','(','가','이','은','들','는','좀','잘','걍','과','도','를','으로','자','에','와','한','하다', 'ㄴ','ㅠ',',','0',';','ㅜ','/','~','!','?','♥♥','♡♡','♡','♥']\n",
        "\n",
        "    self.train_D = self.tokenize(data)\n",
        "    self.test_D = self.tokenize(test_data)\n",
        "    self.train_L = np.array(data_label)\n",
        "    self.test_L = np.array(test_label)\n",
        "    self.tokenizer.fit_on_texts(self.train_D)\n",
        "\n",
        "\n",
        "    #drop_train = [index for index, sentence in enumerate(X_train) if len(sentence) < 1]\n",
        "\n",
        "  def tokenize(self, data):\n",
        "    emoji_pattern = re.compile(\"[\"\n",
        "        u\"\\U0001F600-\\U0001F64F\"  # emoticons\n",
        "        u\"\\U0001F300-\\U0001F5FF\"  # symbols & pictographs\n",
        "        u\"\\U0001F680-\\U0001F6FF\"  # transport & map symbols\n",
        "        u\"\\U0001F1E0-\\U0001F1FF\"  # flags (iOS)\n",
        "                           \"]+\", flags=re.UNICODE)\n",
        "    han = re.compile(r'[ㄱ-ㅎㅏ-ㅣ!?~,\".\\n\\r#\\ufeff\\u200d]')\n",
        "\n",
        "    arr  =[]\n",
        "    for sen in data:\n",
        "      sen = re.sub(emoji_pattern, \"\", sen)\n",
        "      sen = re.sub(han, \"\", sen)\n",
        "      temp = self.okt.morphs(sen, stem = True)#True\n",
        "      temp = [word for word in temp if not word in self.stopwords]\n",
        "      arr.append(temp)\n",
        "    return arr\n",
        "\n"
      ],
      "execution_count": null,
      "outputs": []
    },
    {
      "cell_type": "code",
      "metadata": {
        "id": "0l-0mLNAS9xL"
      },
      "source": [
        "import pandas as pd \n",
        "dataset = pd.read_excel('한국어_단발성_대화_데이터셋.xlsx', usecols = ['Sentence','Emotion'],)"
      ],
      "execution_count": null,
      "outputs": []
    },
    {
      "cell_type": "code",
      "metadata": {
        "id": "bHhxIONgVo_M"
      },
      "source": [
        "data_csv = pd.DataFrame(dataset)"
      ],
      "execution_count": null,
      "outputs": []
    },
    {
      "cell_type": "code",
      "metadata": {
        "id": "ZWIRCStaWkKs"
      },
      "source": [
        "#공포 놀람 분노 슬픔 중립 행복 혐오 "
      ],
      "execution_count": null,
      "outputs": []
    },
    {
      "cell_type": "code",
      "metadata": {
        "id": "JRTwnyUojd22"
      },
      "source": [
        "#분노 슬픔 중립 행복"
      ],
      "execution_count": null,
      "outputs": []
    },
    {
      "cell_type": "code",
      "metadata": {
        "id": "t6jf8fOzV7qV",
        "colab": {
          "base_uri": "https://localhost:8080/"
        },
        "outputId": "dcbe15ab-3714-42d7-a7ec-86e3a002e027"
      },
      "source": [
        "from sklearn.preprocessing import LabelEncoder\n",
        "one = LabelEncoder()\n",
        "data_csv['Emotion'] = one.fit_transform(np.array(data_csv['Emotion']).reshape(-1,1))\n"
      ],
      "execution_count": null,
      "outputs": [
        {
          "output_type": "stream",
          "text": [
            "/usr/local/lib/python3.6/dist-packages/sklearn/preprocessing/_label.py:251: DataConversionWarning: A column-vector y was passed when a 1d array was expected. Please change the shape of y to (n_samples, ), for example using ravel().\n",
            "  y = column_or_1d(y, warn=True)\n"
          ],
          "name": "stderr"
        }
      ]
    },
    {
      "cell_type": "code",
      "metadata": {
        "id": "d0s1t2ANi_MQ",
        "colab": {
          "base_uri": "https://localhost:8080/",
          "height": 399
        },
        "outputId": "e1e88130-7f94-4e4e-b2ec-7dd0145c75c4"
      },
      "source": [
        "data_csv[data_csv['Emotion']== 1]"
      ],
      "execution_count": null,
      "outputs": [
        {
          "output_type": "execute_result",
          "data": {
            "text/html": [
              "<div>\n",
              "<style scoped>\n",
              "    .dataframe tbody tr th:only-of-type {\n",
              "        vertical-align: middle;\n",
              "    }\n",
              "\n",
              "    .dataframe tbody tr th {\n",
              "        vertical-align: top;\n",
              "    }\n",
              "\n",
              "    .dataframe thead th {\n",
              "        text-align: right;\n",
              "    }\n",
              "</style>\n",
              "<table border=\"1\" class=\"dataframe\">\n",
              "  <thead>\n",
              "    <tr style=\"text-align: right;\">\n",
              "      <th></th>\n",
              "      <th>Sentence</th>\n",
              "      <th>Emotion</th>\n",
              "    </tr>\n",
              "  </thead>\n",
              "  <tbody>\n",
              "    <tr>\n",
              "      <th>5468</th>\n",
              "      <td>7로 나온다든데 아니었나</td>\n",
              "      <td>1</td>\n",
              "    </tr>\n",
              "    <tr>\n",
              "      <th>5469</th>\n",
              "      <td>의사양반 내가고자라니!</td>\n",
              "      <td>1</td>\n",
              "    </tr>\n",
              "    <tr>\n",
              "      <th>5470</th>\n",
              "      <td>이 사람 얼굴이 약간 전라도 사람처럼 생겼네</td>\n",
              "      <td>1</td>\n",
              "    </tr>\n",
              "    <tr>\n",
              "      <th>5471</th>\n",
              "      <td>아직도 안잡았냐??</td>\n",
              "      <td>1</td>\n",
              "    </tr>\n",
              "    <tr>\n",
              "      <th>5472</th>\n",
              "      <td>이분 ~~진짜 욕먹는건 이제 신의 영역에 들어선거같다~~ㅋㅋ</td>\n",
              "      <td>1</td>\n",
              "    </tr>\n",
              "    <tr>\n",
              "      <th>...</th>\n",
              "      <td>...</td>\n",
              "      <td>...</td>\n",
              "    </tr>\n",
              "    <tr>\n",
              "      <th>11361</th>\n",
              "      <td>시대가 어느시대인데 사람이 뽑냐</td>\n",
              "      <td>1</td>\n",
              "    </tr>\n",
              "    <tr>\n",
              "      <th>11362</th>\n",
              "      <td>진심 내 인생 드라마임..</td>\n",
              "      <td>1</td>\n",
              "    </tr>\n",
              "    <tr>\n",
              "      <th>11363</th>\n",
              "      <td>대단하다... 진짜</td>\n",
              "      <td>1</td>\n",
              "    </tr>\n",
              "    <tr>\n",
              "      <th>11364</th>\n",
              "      <td>헐 김종민이가 대상급인가?</td>\n",
              "      <td>1</td>\n",
              "    </tr>\n",
              "    <tr>\n",
              "      <th>11365</th>\n",
              "      <td>7로 나온다든데 아니었나</td>\n",
              "      <td>1</td>\n",
              "    </tr>\n",
              "  </tbody>\n",
              "</table>\n",
              "<p>5898 rows × 2 columns</p>\n",
              "</div>"
            ],
            "text/plain": [
              "                                Sentence  Emotion\n",
              "5468                       7로 나온다든데 아니었나        1\n",
              "5469                        의사양반 내가고자라니!        1\n",
              "5470            이 사람 얼굴이 약간 전라도 사람처럼 생겼네        1\n",
              "5471                          아직도 안잡았냐??        1\n",
              "5472   이분 ~~진짜 욕먹는건 이제 신의 영역에 들어선거같다~~ㅋㅋ        1\n",
              "...                                  ...      ...\n",
              "11361                  시대가 어느시대인데 사람이 뽑냐        1\n",
              "11362                     진심 내 인생 드라마임..        1\n",
              "11363                         대단하다... 진짜        1\n",
              "11364                     헐 김종민이가 대상급인가?        1\n",
              "11365                      7로 나온다든데 아니었나        1\n",
              "\n",
              "[5898 rows x 2 columns]"
            ]
          },
          "metadata": {
            "tags": []
          },
          "execution_count": 1162
        }
      ]
    },
    {
      "cell_type": "code",
      "metadata": {
        "id": "uoDtMFD-kHEo"
      },
      "source": [
        "for i in range(len(data_csv)):\n",
        "  if data_csv['Emotion'][i] == 0 or data_csv['Emotion'][i] == 1 or data_csv['Emotion'][i] == 6: #or data_csv['Emotion'][i] == 2:\n",
        "    data_csv = data_csv.drop(i)"
      ],
      "execution_count": null,
      "outputs": []
    },
    {
      "cell_type": "code",
      "metadata": {
        "id": "dTGyxvALkyCz"
      },
      "source": [
        "data_csv.to_csv('dataset.csv', index = False)"
      ],
      "execution_count": null,
      "outputs": []
    },
    {
      "cell_type": "code",
      "metadata": {
        "id": "Ebvv5JzWmQnj"
      },
      "source": [
        "data  = pd.read_csv('dataset.csv')"
      ],
      "execution_count": null,
      "outputs": []
    },
    {
      "cell_type": "code",
      "metadata": {
        "id": "cubTCpxw6tzs"
      },
      "source": [
        "#data.loc[data['Emotion'] ==3, 'Emotion']=2 #슬픔 화남 합치자"
      ],
      "execution_count": null,
      "outputs": []
    },
    {
      "cell_type": "code",
      "metadata": {
        "id": "Ibb3TDjjmSqA",
        "colab": {
          "base_uri": "https://localhost:8080/",
          "height": 399
        },
        "outputId": "f60f800a-e53a-49e6-cb47-c2f88fe82349"
      },
      "source": [
        "data"
      ],
      "execution_count": null,
      "outputs": [
        {
          "output_type": "execute_result",
          "data": {
            "text/html": [
              "<div>\n",
              "<style scoped>\n",
              "    .dataframe tbody tr th:only-of-type {\n",
              "        vertical-align: middle;\n",
              "    }\n",
              "\n",
              "    .dataframe tbody tr th {\n",
              "        vertical-align: top;\n",
              "    }\n",
              "\n",
              "    .dataframe thead th {\n",
              "        text-align: right;\n",
              "    }\n",
              "</style>\n",
              "<table border=\"1\" class=\"dataframe\">\n",
              "  <thead>\n",
              "    <tr style=\"text-align: right;\">\n",
              "      <th></th>\n",
              "      <th>Sentence</th>\n",
              "      <th>Emotion</th>\n",
              "    </tr>\n",
              "  </thead>\n",
              "  <tbody>\n",
              "    <tr>\n",
              "      <th>0</th>\n",
              "      <td>서해 수자원도 한류라서 그동안 불법조업 방치했나?</td>\n",
              "      <td>2</td>\n",
              "    </tr>\n",
              "    <tr>\n",
              "      <th>1</th>\n",
              "      <td>니가 인간이가.</td>\n",
              "      <td>2</td>\n",
              "    </tr>\n",
              "    <tr>\n",
              "      <th>2</th>\n",
              "      <td>강아지를 때리고 유기하는것만 학대는 아닙니다!</td>\n",
              "      <td>2</td>\n",
              "    </tr>\n",
              "    <tr>\n",
              "      <th>3</th>\n",
              "      <td>하여간 우리나라 교육엔 미래가 없어!!</td>\n",
              "      <td>2</td>\n",
              "    </tr>\n",
              "    <tr>\n",
              "      <th>4</th>\n",
              "      <td>채널에이 군부 개인거 인증하냐 동아일보야!!</td>\n",
              "      <td>2</td>\n",
              "    </tr>\n",
              "    <tr>\n",
              "      <th>...</th>\n",
              "      <td>...</td>\n",
              "      <td>...</td>\n",
              "    </tr>\n",
              "    <tr>\n",
              "      <th>21859</th>\n",
              "      <td>그냥 그래</td>\n",
              "      <td>4</td>\n",
              "    </tr>\n",
              "    <tr>\n",
              "      <th>21860</th>\n",
              "      <td>그저 그런 정도?</td>\n",
              "      <td>4</td>\n",
              "    </tr>\n",
              "    <tr>\n",
              "      <th>21861</th>\n",
              "      <td>좋아</td>\n",
              "      <td>5</td>\n",
              "    </tr>\n",
              "    <tr>\n",
              "      <th>21862</th>\n",
              "      <td>오 그거 좋은데?</td>\n",
              "      <td>5</td>\n",
              "    </tr>\n",
              "    <tr>\n",
              "      <th>21863</th>\n",
              "      <td>아주 훌륭해 그렇게 진행해</td>\n",
              "      <td>5</td>\n",
              "    </tr>\n",
              "  </tbody>\n",
              "</table>\n",
              "<p>21864 rows × 2 columns</p>\n",
              "</div>"
            ],
            "text/plain": [
              "                          Sentence  Emotion\n",
              "0      서해 수자원도 한류라서 그동안 불법조업 방치했나?        2\n",
              "1                         니가 인간이가.        2\n",
              "2        강아지를 때리고 유기하는것만 학대는 아닙니다!        2\n",
              "3            하여간 우리나라 교육엔 미래가 없어!!        2\n",
              "4         채널에이 군부 개인거 인증하냐 동아일보야!!        2\n",
              "...                            ...      ...\n",
              "21859                        그냥 그래        4\n",
              "21860                    그저 그런 정도?        4\n",
              "21861                           좋아        5\n",
              "21862                    오 그거 좋은데?        5\n",
              "21863               아주 훌륭해 그렇게 진행해        5\n",
              "\n",
              "[21864 rows x 2 columns]"
            ]
          },
          "metadata": {
            "tags": []
          },
          "execution_count": 1167
        }
      ]
    },
    {
      "cell_type": "code",
      "metadata": {
        "id": "x3H3eo_bdtB-",
        "colab": {
          "base_uri": "https://localhost:8080/"
        },
        "outputId": "41dedea1-a149-494e-f8a9-8c60d4121d43"
      },
      "source": [
        "from sklearn.preprocessing import LabelEncoder\n",
        "one2 = LabelEncoder()\n",
        "data['Emotion'] = one2.fit_transform(np.array(data['Emotion']).reshape(-1,1))"
      ],
      "execution_count": null,
      "outputs": [
        {
          "output_type": "stream",
          "text": [
            "/usr/local/lib/python3.6/dist-packages/sklearn/preprocessing/_label.py:251: DataConversionWarning: A column-vector y was passed when a 1d array was expected. Please change the shape of y to (n_samples, ), for example using ravel().\n",
            "  y = column_or_1d(y, warn=True)\n"
          ],
          "name": "stderr"
        }
      ]
    },
    {
      "cell_type": "code",
      "metadata": {
        "id": "J5V2L6vfxs4p",
        "colab": {
          "base_uri": "https://localhost:8080/",
          "height": 399
        },
        "outputId": "342907d9-29f4-4b81-87b1-3f3ec286d59e"
      },
      "source": [
        "data"
      ],
      "execution_count": null,
      "outputs": [
        {
          "output_type": "execute_result",
          "data": {
            "text/html": [
              "<div>\n",
              "<style scoped>\n",
              "    .dataframe tbody tr th:only-of-type {\n",
              "        vertical-align: middle;\n",
              "    }\n",
              "\n",
              "    .dataframe tbody tr th {\n",
              "        vertical-align: top;\n",
              "    }\n",
              "\n",
              "    .dataframe thead th {\n",
              "        text-align: right;\n",
              "    }\n",
              "</style>\n",
              "<table border=\"1\" class=\"dataframe\">\n",
              "  <thead>\n",
              "    <tr style=\"text-align: right;\">\n",
              "      <th></th>\n",
              "      <th>Sentence</th>\n",
              "      <th>Emotion</th>\n",
              "    </tr>\n",
              "  </thead>\n",
              "  <tbody>\n",
              "    <tr>\n",
              "      <th>0</th>\n",
              "      <td>서해 수자원도 한류라서 그동안 불법조업 방치했나?</td>\n",
              "      <td>0</td>\n",
              "    </tr>\n",
              "    <tr>\n",
              "      <th>1</th>\n",
              "      <td>니가 인간이가.</td>\n",
              "      <td>0</td>\n",
              "    </tr>\n",
              "    <tr>\n",
              "      <th>2</th>\n",
              "      <td>강아지를 때리고 유기하는것만 학대는 아닙니다!</td>\n",
              "      <td>0</td>\n",
              "    </tr>\n",
              "    <tr>\n",
              "      <th>3</th>\n",
              "      <td>하여간 우리나라 교육엔 미래가 없어!!</td>\n",
              "      <td>0</td>\n",
              "    </tr>\n",
              "    <tr>\n",
              "      <th>4</th>\n",
              "      <td>채널에이 군부 개인거 인증하냐 동아일보야!!</td>\n",
              "      <td>0</td>\n",
              "    </tr>\n",
              "    <tr>\n",
              "      <th>...</th>\n",
              "      <td>...</td>\n",
              "      <td>...</td>\n",
              "    </tr>\n",
              "    <tr>\n",
              "      <th>21859</th>\n",
              "      <td>그냥 그래</td>\n",
              "      <td>2</td>\n",
              "    </tr>\n",
              "    <tr>\n",
              "      <th>21860</th>\n",
              "      <td>그저 그런 정도?</td>\n",
              "      <td>2</td>\n",
              "    </tr>\n",
              "    <tr>\n",
              "      <th>21861</th>\n",
              "      <td>좋아</td>\n",
              "      <td>3</td>\n",
              "    </tr>\n",
              "    <tr>\n",
              "      <th>21862</th>\n",
              "      <td>오 그거 좋은데?</td>\n",
              "      <td>3</td>\n",
              "    </tr>\n",
              "    <tr>\n",
              "      <th>21863</th>\n",
              "      <td>아주 훌륭해 그렇게 진행해</td>\n",
              "      <td>3</td>\n",
              "    </tr>\n",
              "  </tbody>\n",
              "</table>\n",
              "<p>21864 rows × 2 columns</p>\n",
              "</div>"
            ],
            "text/plain": [
              "                          Sentence  Emotion\n",
              "0      서해 수자원도 한류라서 그동안 불법조업 방치했나?        0\n",
              "1                         니가 인간이가.        0\n",
              "2        강아지를 때리고 유기하는것만 학대는 아닙니다!        0\n",
              "3            하여간 우리나라 교육엔 미래가 없어!!        0\n",
              "4         채널에이 군부 개인거 인증하냐 동아일보야!!        0\n",
              "...                            ...      ...\n",
              "21859                        그냥 그래        2\n",
              "21860                    그저 그런 정도?        2\n",
              "21861                           좋아        3\n",
              "21862                    오 그거 좋은데?        3\n",
              "21863               아주 훌륭해 그렇게 진행해        3\n",
              "\n",
              "[21864 rows x 2 columns]"
            ]
          },
          "metadata": {
            "tags": []
          },
          "execution_count": 1169
        }
      ]
    },
    {
      "cell_type": "code",
      "metadata": {
        "id": "PGXtwz7Md1F_"
      },
      "source": [
        "rdata = data[:-65].sample(frac=1).reset_index(drop=True)"
      ],
      "execution_count": null,
      "outputs": []
    },
    {
      "cell_type": "code",
      "metadata": {
        "id": "dzCM899FldOW",
        "colab": {
          "base_uri": "https://localhost:8080/",
          "height": 399
        },
        "outputId": "b4232129-c6a2-4846-a052-7923b577c53f"
      },
      "source": [
        "rdata"
      ],
      "execution_count": null,
      "outputs": [
        {
          "output_type": "execute_result",
          "data": {
            "text/html": [
              "<div>\n",
              "<style scoped>\n",
              "    .dataframe tbody tr th:only-of-type {\n",
              "        vertical-align: middle;\n",
              "    }\n",
              "\n",
              "    .dataframe tbody tr th {\n",
              "        vertical-align: top;\n",
              "    }\n",
              "\n",
              "    .dataframe thead th {\n",
              "        text-align: right;\n",
              "    }\n",
              "</style>\n",
              "<table border=\"1\" class=\"dataframe\">\n",
              "  <thead>\n",
              "    <tr style=\"text-align: right;\">\n",
              "      <th></th>\n",
              "      <th>Sentence</th>\n",
              "      <th>Emotion</th>\n",
              "    </tr>\n",
              "  </thead>\n",
              "  <tbody>\n",
              "    <tr>\n",
              "      <th>0</th>\n",
              "      <td>sns마케팅하면 스베누지 질은 쓰레기</td>\n",
              "      <td>0</td>\n",
              "    </tr>\n",
              "    <tr>\n",
              "      <th>1</th>\n",
              "      <td>그냥 편의점이라 생각했는뎅 로또가 있더라구요... ㅠㅠ</td>\n",
              "      <td>1</td>\n",
              "    </tr>\n",
              "    <tr>\n",
              "      <th>2</th>\n",
              "      <td>개인정보 사용자 동의 없는 유출로 법적 처벌 받아야 한다</td>\n",
              "      <td>2</td>\n",
              "    </tr>\n",
              "    <tr>\n",
              "      <th>3</th>\n",
              "      <td>즉각 퇴진ㆍ구속 수사!!</td>\n",
              "      <td>0</td>\n",
              "    </tr>\n",
              "    <tr>\n",
              "      <th>4</th>\n",
              "      <td>헐~ 이게 2016년???????</td>\n",
              "      <td>2</td>\n",
              "    </tr>\n",
              "    <tr>\n",
              "      <th>...</th>\n",
              "      <td>...</td>\n",
              "      <td>...</td>\n",
              "    </tr>\n",
              "    <tr>\n",
              "      <th>21794</th>\n",
              "      <td>은숙작가는 한번쓴배우 또 쓰는편인듯</td>\n",
              "      <td>2</td>\n",
              "    </tr>\n",
              "    <tr>\n",
              "      <th>21795</th>\n",
              "      <td>솔저 오브 포츈이 생각난다.</td>\n",
              "      <td>2</td>\n",
              "    </tr>\n",
              "    <tr>\n",
              "      <th>21796</th>\n",
              "      <td>몰카가 진짜면 큰일인데요.....</td>\n",
              "      <td>0</td>\n",
              "    </tr>\n",
              "    <tr>\n",
              "      <th>21797</th>\n",
              "      <td>전 이공연 조명,음향등 억대로 들어가는데 누가 이돈을 내고 있는지 참 궁금합니다.</td>\n",
              "      <td>2</td>\n",
              "    </tr>\n",
              "    <tr>\n",
              "      <th>21798</th>\n",
              "      <td>한국선 절대 불가능한 일이지</td>\n",
              "      <td>0</td>\n",
              "    </tr>\n",
              "  </tbody>\n",
              "</table>\n",
              "<p>21799 rows × 2 columns</p>\n",
              "</div>"
            ],
            "text/plain": [
              "                                            Sentence  Emotion\n",
              "0                               sns마케팅하면 스베누지 질은 쓰레기        0\n",
              "1                     그냥 편의점이라 생각했는뎅 로또가 있더라구요... ㅠㅠ        1\n",
              "2                    개인정보 사용자 동의 없는 유출로 법적 처벌 받아야 한다        2\n",
              "3                                      즉각 퇴진ㆍ구속 수사!!        0\n",
              "4                                 헐~ 이게 2016년???????        2\n",
              "...                                              ...      ...\n",
              "21794                            은숙작가는 한번쓴배우 또 쓰는편인듯        2\n",
              "21795                                솔저 오브 포츈이 생각난다.        2\n",
              "21796                             몰카가 진짜면 큰일인데요.....        0\n",
              "21797  전 이공연 조명,음향등 억대로 들어가는데 누가 이돈을 내고 있는지 참 궁금합니다.        2\n",
              "21798                                한국선 절대 불가능한 일이지        0\n",
              "\n",
              "[21799 rows x 2 columns]"
            ]
          },
          "metadata": {
            "tags": []
          },
          "execution_count": 1171
        }
      ]
    },
    {
      "cell_type": "code",
      "metadata": {
        "id": "Y6NPiEbekNn9"
      },
      "source": [
        "#rdata = pd.concat([rdata[:10000],data[-65:]], axis = 0, ignore_index=True)"
      ],
      "execution_count": null,
      "outputs": []
    },
    {
      "cell_type": "code",
      "metadata": {
        "id": "vsu5jYqt6ezx"
      },
      "source": [
        "rdata.to_csv('train.csv', index = False, header = True)"
      ],
      "execution_count": null,
      "outputs": []
    },
    {
      "cell_type": "code",
      "metadata": {
        "id": "A0GjG3frmsqM"
      },
      "source": [
        "#rdata = data[-65:].sample(frac = 1).reset_index(drop=True)"
      ],
      "execution_count": null,
      "outputs": []
    },
    {
      "cell_type": "code",
      "metadata": {
        "id": "RrvyV-r_mz-D"
      },
      "source": [
        "rdata = rdata.sample(frac = 1).reset_index(drop = True)"
      ],
      "execution_count": null,
      "outputs": []
    },
    {
      "cell_type": "code",
      "metadata": {
        "id": "rvUFZC7-l5nc"
      },
      "source": [
        "#!pip install git+https://github.com/ssut/py-hanspell.git\n"
      ],
      "execution_count": null,
      "outputs": []
    },
    {
      "cell_type": "code",
      "metadata": {
        "id": "8SemjKHXlqi_"
      },
      "source": [
        "# from hanspell import spell_checker\n",
        "\n",
        "# for i in range(len(data)):\n",
        "#   spelled_sent = spell_checker.check(data['Sentence'][i])\n",
        "\n",
        "#   data['Sentence'][i] = spelled_sent.checked"
      ],
      "execution_count": null,
      "outputs": []
    },
    {
      "cell_type": "code",
      "metadata": {
        "id": "2Iz6LOgu5ldU"
      },
      "source": [
        "rdata =pd.read_csv('train.csv')"
      ],
      "execution_count": null,
      "outputs": []
    },
    {
      "cell_type": "code",
      "metadata": {
        "id": "_4Gd-SLaZups"
      },
      "source": [
        "from sklearn.model_selection import train_test_split\n",
        "train_D, test_D , train_L, test_L = train_test_split(rdata['Sentence'], rdata['Emotion'], train_size = 0.8, random_state = 42, shuffle = True)"
      ],
      "execution_count": null,
      "outputs": []
    },
    {
      "cell_type": "code",
      "metadata": {
        "id": "vFCa7x1Pa7wz"
      },
      "source": [
        "dataset2 = pd.read_excel('train_ver.xlsx', usecols = ['Sentence','Label'])"
      ],
      "execution_count": null,
      "outputs": []
    },
    {
      "cell_type": "code",
      "metadata": {
        "id": "6xUi4kNKCSoq"
      },
      "source": [
        "dataset3 = pd.read_excel('train_ver_2.xlsx', usecols = ['Sentence', 'Label'])"
      ],
      "execution_count": null,
      "outputs": []
    },
    {
      "cell_type": "code",
      "metadata": {
        "id": "qRNQQhx07tMQ"
      },
      "source": [
        "#dataset2.loc[dataset2['Label'] ==1, 'Label']= 0 #슬픔 화남 합치자"
      ],
      "execution_count": null,
      "outputs": []
    },
    {
      "cell_type": "code",
      "metadata": {
        "id": "miVI7uhMciXE"
      },
      "source": [
        "#dataset3.loc[dataset3['Label']==1, 'Label'] = 0"
      ],
      "execution_count": null,
      "outputs": []
    },
    {
      "cell_type": "code",
      "metadata": {
        "id": "xlBYrgI3H88W"
      },
      "source": [
        "dataset2.rename(columns = {'Label' : 'Emotion'}, inplace = True)\n",
        "\n",
        "dataset3.rename(columns =  {'Label': 'Emotion'}, inplace = True )"
      ],
      "execution_count": null,
      "outputs": []
    },
    {
      "cell_type": "code",
      "metadata": {
        "id": "4D2j646b8DRR"
      },
      "source": [
        "#one2 = LabelEncoder()\n",
        "#dataset2['Emotion'] = one2.fit_transform(np.array(dataset2['Emotion']).reshape(-1,1))"
      ],
      "execution_count": null,
      "outputs": []
    },
    {
      "cell_type": "code",
      "metadata": {
        "id": "jbr9RcKY8PFs"
      },
      "source": [
        "#dataset3['Emotion'] = one2.fit_transform(np.array(dataset3['Emotion']).reshape(-1,1))"
      ],
      "execution_count": null,
      "outputs": []
    },
    {
      "cell_type": "code",
      "metadata": {
        "id": "q2ML1dwga3lF"
      },
      "source": [
        "data2 = pd.concat([data[-65:], pd.DataFrame(dataset2)], ignore_index = True)#.sample(frac = 1).reset_index(drop=True)"
      ],
      "execution_count": null,
      "outputs": []
    },
    {
      "cell_type": "code",
      "metadata": {
        "id": "E8In_pjrCZWM"
      },
      "source": [
        "data2 = pd.concat([data2, dataset3], ignore_index= True)"
      ],
      "execution_count": null,
      "outputs": []
    },
    {
      "cell_type": "code",
      "metadata": {
        "id": "EN6o6kZXc4tk",
        "colab": {
          "base_uri": "https://localhost:8080/",
          "height": 399
        },
        "outputId": "5e2d9e54-af43-4821-badd-31a0dfe12b42"
      },
      "source": [
        "data2"
      ],
      "execution_count": null,
      "outputs": [
        {
          "output_type": "execute_result",
          "data": {
            "text/html": [
              "<div>\n",
              "<style scoped>\n",
              "    .dataframe tbody tr th:only-of-type {\n",
              "        vertical-align: middle;\n",
              "    }\n",
              "\n",
              "    .dataframe tbody tr th {\n",
              "        vertical-align: top;\n",
              "    }\n",
              "\n",
              "    .dataframe thead th {\n",
              "        text-align: right;\n",
              "    }\n",
              "</style>\n",
              "<table border=\"1\" class=\"dataframe\">\n",
              "  <thead>\n",
              "    <tr style=\"text-align: right;\">\n",
              "      <th></th>\n",
              "      <th>Sentence</th>\n",
              "      <th>Emotion</th>\n",
              "    </tr>\n",
              "  </thead>\n",
              "  <tbody>\n",
              "    <tr>\n",
              "      <th>0</th>\n",
              "      <td>그 사람이 죽어버렸으면 좋겠어요</td>\n",
              "      <td>0</td>\n",
              "    </tr>\n",
              "    <tr>\n",
              "      <th>1</th>\n",
              "      <td>오늘 진짜 짜증나</td>\n",
              "      <td>0</td>\n",
              "    </tr>\n",
              "    <tr>\n",
              "      <th>2</th>\n",
              "      <td>맛집이라 해서 갔는데 맛이 쓰레기야</td>\n",
              "      <td>0</td>\n",
              "    </tr>\n",
              "    <tr>\n",
              "      <th>3</th>\n",
              "      <td>과제가 너무 많아</td>\n",
              "      <td>0</td>\n",
              "    </tr>\n",
              "    <tr>\n",
              "      <th>4</th>\n",
              "      <td>오늘도 야근이야</td>\n",
              "      <td>0</td>\n",
              "    </tr>\n",
              "    <tr>\n",
              "      <th>...</th>\n",
              "      <td>...</td>\n",
              "      <td>...</td>\n",
              "    </tr>\n",
              "    <tr>\n",
              "      <th>582</th>\n",
              "      <td>나아지고 있는 거 같아</td>\n",
              "      <td>3</td>\n",
              "    </tr>\n",
              "    <tr>\n",
              "      <th>583</th>\n",
              "      <td>주말이야</td>\n",
              "      <td>3</td>\n",
              "    </tr>\n",
              "    <tr>\n",
              "      <th>584</th>\n",
              "      <td>너무 고마워</td>\n",
              "      <td>3</td>\n",
              "    </tr>\n",
              "    <tr>\n",
              "      <th>585</th>\n",
              "      <td>결혼할 거 같아</td>\n",
              "      <td>3</td>\n",
              "    </tr>\n",
              "    <tr>\n",
              "      <th>586</th>\n",
              "      <td>행복한 하루야</td>\n",
              "      <td>3</td>\n",
              "    </tr>\n",
              "  </tbody>\n",
              "</table>\n",
              "<p>587 rows × 2 columns</p>\n",
              "</div>"
            ],
            "text/plain": [
              "                Sentence  Emotion\n",
              "0      그 사람이 죽어버렸으면 좋겠어요        0\n",
              "1              오늘 진짜 짜증나        0\n",
              "2    맛집이라 해서 갔는데 맛이 쓰레기야        0\n",
              "3              과제가 너무 많아        0\n",
              "4               오늘도 야근이야        0\n",
              "..                   ...      ...\n",
              "582         나아지고 있는 거 같아        3\n",
              "583                 주말이야        3\n",
              "584               너무 고마워        3\n",
              "585             결혼할 거 같아        3\n",
              "586              행복한 하루야        3\n",
              "\n",
              "[587 rows x 2 columns]"
            ]
          },
          "metadata": {
            "tags": []
          },
          "execution_count": 1189
        }
      ]
    },
    {
      "cell_type": "code",
      "metadata": {
        "id": "6EjHo4GJNCOy"
      },
      "source": [
        "#data2[data2['Emotion']==3] #77 389 , , 90"
      ],
      "execution_count": null,
      "outputs": []
    },
    {
      "cell_type": "code",
      "metadata": {
        "id": "hTvDuOCANUa-"
      },
      "source": [
        ""
      ],
      "execution_count": null,
      "outputs": []
    },
    {
      "cell_type": "code",
      "metadata": {
        "id": "mvdbt_Pnc7PO"
      },
      "source": [
        "#data2.to_csv('train2.csv', header = True, index = False)\n",
        "data2 = pd.read_csv(\"train2.csv\")"
      ],
      "execution_count": null,
      "outputs": []
    },
    {
      "cell_type": "code",
      "metadata": {
        "id": "VxJLd56j6xnQ"
      },
      "source": [
        "#data_real = pd.concat([rdata, data2], axis = 0)"
      ],
      "execution_count": null,
      "outputs": []
    },
    {
      "cell_type": "code",
      "metadata": {
        "id": "LnyP6b8P62cI",
        "colab": {
          "base_uri": "https://localhost:8080/",
          "height": 399
        },
        "outputId": "d57ac287-5005-4a60-d248-e3a85b76c235"
      },
      "source": [
        "#data_real"
      ],
      "execution_count": null,
      "outputs": [
        {
          "output_type": "execute_result",
          "data": {
            "text/html": [
              "<div>\n",
              "<style scoped>\n",
              "    .dataframe tbody tr th:only-of-type {\n",
              "        vertical-align: middle;\n",
              "    }\n",
              "\n",
              "    .dataframe tbody tr th {\n",
              "        vertical-align: top;\n",
              "    }\n",
              "\n",
              "    .dataframe thead th {\n",
              "        text-align: right;\n",
              "    }\n",
              "</style>\n",
              "<table border=\"1\" class=\"dataframe\">\n",
              "  <thead>\n",
              "    <tr style=\"text-align: right;\">\n",
              "      <th></th>\n",
              "      <th>Sentence</th>\n",
              "      <th>Emotion</th>\n",
              "    </tr>\n",
              "  </thead>\n",
              "  <tbody>\n",
              "    <tr>\n",
              "      <th>0</th>\n",
              "      <td>마약검사도 추가해주시면 땡큐~</td>\n",
              "      <td>2</td>\n",
              "    </tr>\n",
              "    <tr>\n",
              "      <th>1</th>\n",
              "      <td>설현 기획사에서 넘 밀어주는듯..</td>\n",
              "      <td>2</td>\n",
              "    </tr>\n",
              "    <tr>\n",
              "      <th>2</th>\n",
              "      <td>김연아 선수를 알게 된 건 행운입니다.</td>\n",
              "      <td>3</td>\n",
              "    </tr>\n",
              "    <tr>\n",
              "      <th>3</th>\n",
              "      <td>나나 첨부터 외모가 냉철해보이긴하는데 예능에서 애교떠는거 놀랬음</td>\n",
              "      <td>3</td>\n",
              "    </tr>\n",
              "    <tr>\n",
              "      <th>4</th>\n",
              "      <td>박주영이 대표팀복귀 해야 한다</td>\n",
              "      <td>2</td>\n",
              "    </tr>\n",
              "    <tr>\n",
              "      <th>...</th>\n",
              "      <td>...</td>\n",
              "      <td>...</td>\n",
              "    </tr>\n",
              "    <tr>\n",
              "      <th>582</th>\n",
              "      <td>나아지고 있는 거 같아</td>\n",
              "      <td>3</td>\n",
              "    </tr>\n",
              "    <tr>\n",
              "      <th>583</th>\n",
              "      <td>주말이야</td>\n",
              "      <td>3</td>\n",
              "    </tr>\n",
              "    <tr>\n",
              "      <th>584</th>\n",
              "      <td>너무 고마워</td>\n",
              "      <td>3</td>\n",
              "    </tr>\n",
              "    <tr>\n",
              "      <th>585</th>\n",
              "      <td>결혼할 거 같아</td>\n",
              "      <td>3</td>\n",
              "    </tr>\n",
              "    <tr>\n",
              "      <th>586</th>\n",
              "      <td>행복한 하루야</td>\n",
              "      <td>3</td>\n",
              "    </tr>\n",
              "  </tbody>\n",
              "</table>\n",
              "<p>22386 rows × 2 columns</p>\n",
              "</div>"
            ],
            "text/plain": [
              "                                Sentence  Emotion\n",
              "0                       마약검사도 추가해주시면 땡큐~        2\n",
              "1                     설현 기획사에서 넘 밀어주는듯..        2\n",
              "2                  김연아 선수를 알게 된 건 행운입니다.        3\n",
              "3    나나 첨부터 외모가 냉철해보이긴하는데 예능에서 애교떠는거 놀랬음        3\n",
              "4                       박주영이 대표팀복귀 해야 한다        2\n",
              "..                                   ...      ...\n",
              "582                         나아지고 있는 거 같아        3\n",
              "583                                 주말이야        3\n",
              "584                               너무 고마워        3\n",
              "585                             결혼할 거 같아        3\n",
              "586                              행복한 하루야        3\n",
              "\n",
              "[22386 rows x 2 columns]"
            ]
          },
          "metadata": {
            "tags": []
          },
          "execution_count": 40
        }
      ]
    },
    {
      "cell_type": "markdown",
      "metadata": {
        "id": "rn_sYSRhCRqB"
      },
      "source": [
        "### 위는 데이터 분류. 여기서부터 실행 ㄱ"
      ]
    },
    {
      "cell_type": "code",
      "metadata": {
        "id": "hmyZFi42CSPi"
      },
      "source": [
        "data2 = pd.read_csv('train.csv')\n",
        "#data2 = pd.read_csv('insta_dataset.csv')"
      ],
      "execution_count": null,
      "outputs": []
    },
    {
      "cell_type": "code",
      "metadata": {
        "colab": {
          "base_uri": "https://localhost:8080/",
          "height": 399
        },
        "id": "0NVbv9dvZxSW",
        "outputId": "dd0b36b6-e880-4c71-9393-a71199d7a3eb"
      },
      "source": [
        "data2"
      ],
      "execution_count": null,
      "outputs": [
        {
          "output_type": "execute_result",
          "data": {
            "text/html": [
              "<div>\n",
              "<style scoped>\n",
              "    .dataframe tbody tr th:only-of-type {\n",
              "        vertical-align: middle;\n",
              "    }\n",
              "\n",
              "    .dataframe tbody tr th {\n",
              "        vertical-align: top;\n",
              "    }\n",
              "\n",
              "    .dataframe thead th {\n",
              "        text-align: right;\n",
              "    }\n",
              "</style>\n",
              "<table border=\"1\" class=\"dataframe\">\n",
              "  <thead>\n",
              "    <tr style=\"text-align: right;\">\n",
              "      <th></th>\n",
              "      <th>Sentence</th>\n",
              "      <th>Emotion</th>\n",
              "    </tr>\n",
              "  </thead>\n",
              "  <tbody>\n",
              "    <tr>\n",
              "      <th>0</th>\n",
              "      <td>마약검사도 추가해주시면 땡큐~</td>\n",
              "      <td>2</td>\n",
              "    </tr>\n",
              "    <tr>\n",
              "      <th>1</th>\n",
              "      <td>설현 기획사에서 넘 밀어주는듯..</td>\n",
              "      <td>2</td>\n",
              "    </tr>\n",
              "    <tr>\n",
              "      <th>2</th>\n",
              "      <td>김연아 선수를 알게 된 건 행운입니다.</td>\n",
              "      <td>3</td>\n",
              "    </tr>\n",
              "    <tr>\n",
              "      <th>3</th>\n",
              "      <td>나나 첨부터 외모가 냉철해보이긴하는데 예능에서 애교떠는거 놀랬음</td>\n",
              "      <td>3</td>\n",
              "    </tr>\n",
              "    <tr>\n",
              "      <th>4</th>\n",
              "      <td>박주영이 대표팀복귀 해야 한다</td>\n",
              "      <td>2</td>\n",
              "    </tr>\n",
              "    <tr>\n",
              "      <th>...</th>\n",
              "      <td>...</td>\n",
              "      <td>...</td>\n",
              "    </tr>\n",
              "    <tr>\n",
              "      <th>21794</th>\n",
              "      <td>저거...얼마나갈까.대우조선...삼성..현대....대한민국 조선소가 힘들다....뭐...</td>\n",
              "      <td>0</td>\n",
              "    </tr>\n",
              "    <tr>\n",
              "      <th>21795</th>\n",
              "      <td>인간이 영화따라하나 영화가 미래를 내다보나?</td>\n",
              "      <td>2</td>\n",
              "    </tr>\n",
              "    <tr>\n",
              "      <th>21796</th>\n",
              "      <td>항상 기다릴테니까!</td>\n",
              "      <td>3</td>\n",
              "    </tr>\n",
              "    <tr>\n",
              "      <th>21797</th>\n",
              "      <td>일본은 항상 먼가 먼저 이루지만 한국과 중국에 항상 뺏겨서..ㅋ초기에 즐겨라~ㅋ나중...</td>\n",
              "      <td>3</td>\n",
              "    </tr>\n",
              "    <tr>\n",
              "      <th>21798</th>\n",
              "      <td>이드라마는 김유정 캐스팅이 신의한수였음</td>\n",
              "      <td>2</td>\n",
              "    </tr>\n",
              "  </tbody>\n",
              "</table>\n",
              "<p>21799 rows × 2 columns</p>\n",
              "</div>"
            ],
            "text/plain": [
              "                                                Sentence  Emotion\n",
              "0                                       마약검사도 추가해주시면 땡큐~        2\n",
              "1                                     설현 기획사에서 넘 밀어주는듯..        2\n",
              "2                                  김연아 선수를 알게 된 건 행운입니다.        3\n",
              "3                    나나 첨부터 외모가 냉철해보이긴하는데 예능에서 애교떠는거 놀랬음        3\n",
              "4                                       박주영이 대표팀복귀 해야 한다        2\n",
              "...                                                  ...      ...\n",
              "21794  저거...얼마나갈까.대우조선...삼성..현대....대한민국 조선소가 힘들다....뭐...        0\n",
              "21795                           인간이 영화따라하나 영화가 미래를 내다보나?        2\n",
              "21796                                         항상 기다릴테니까!        3\n",
              "21797  일본은 항상 먼가 먼저 이루지만 한국과 중국에 항상 뺏겨서..ㅋ초기에 즐겨라~ㅋ나중...        3\n",
              "21798                              이드라마는 김유정 캐스팅이 신의한수였음        2\n",
              "\n",
              "[21799 rows x 2 columns]"
            ]
          },
          "metadata": {
            "tags": []
          },
          "execution_count": 6
        }
      ]
    },
    {
      "cell_type": "code",
      "metadata": {
        "id": "YTNuXDxy6-kx"
      },
      "source": [
        "from sklearn.model_selection import train_test_split\n",
        "\n",
        "train_D, test_D , train_L, test_L = train_test_split(data2['Sentence'], data2['Emotion'], train_size = 0.8, random_state = 42, shuffle = True)"
      ],
      "execution_count": null,
      "outputs": []
    },
    {
      "cell_type": "code",
      "metadata": {
        "id": "AUt_N2lrFl3E"
      },
      "source": [
        "save_test_data = {}\r\n",
        "save_test_data['Sentence'] = test_D\r\n",
        "save_test_data['Emotion'] = test_L\r\n",
        "pd.DataFrame(save_test_data).to_csv('AIHub_test_dataset.csv', index = False)"
      ],
      "execution_count": null,
      "outputs": []
    },
    {
      "cell_type": "code",
      "metadata": {
        "id": "ipfR9EAjvNQW"
      },
      "source": [
        "#train_D2, test_D2 , train_L2, test_L2 = train_test_split(data2['Sentence'], data2['Emotion'], train_size = 0.99, random_state = 42, shuffle = True)"
      ],
      "execution_count": null,
      "outputs": []
    },
    {
      "cell_type": "code",
      "metadata": {
        "id": "1JMgWAlybZ5e"
      },
      "source": [
        "# train_D.append(train_D2)\n",
        "# test_D.append(test_D2)\n",
        "# train_L.append(train_L2)\n",
        "# test_L.append(test_L2)"
      ],
      "execution_count": null,
      "outputs": []
    },
    {
      "cell_type": "code",
      "metadata": {
        "id": "NOQIvf6UaR-Z"
      },
      "source": [
        "emotion = Emotion(train_D, test_D, train_L, test_L)"
      ],
      "execution_count": null,
      "outputs": []
    },
    {
      "cell_type": "code",
      "metadata": {
        "id": "0NFBenyZLNLS"
      },
      "source": [
        "#emotion2 = Emotion(train_D2, test_D2, train_L2, test_L2)"
      ],
      "execution_count": null,
      "outputs": []
    },
    {
      "cell_type": "code",
      "metadata": {
        "id": "kxbXqaO4rRgN"
      },
      "source": [
        "# from sklearn.feature_extraction.text import CountVectorizer\n",
        "# from sklearn.feature_extraction.text import TfidfTransformer\n",
        "# from sklearn.feature_extraction.text import TfidfVectorizer"
      ],
      "execution_count": null,
      "outputs": []
    },
    {
      "cell_type": "code",
      "metadata": {
        "id": "mXSdbMYgrTXC"
      },
      "source": [
        "\n",
        "# def tfidf_featurizer(corpus_train,corpus_test):\n",
        "#     count_vectorizer = CountVectorizer()\n",
        "#     count_vectorizer.fit_transform(corpus_train)\n",
        "#     freq_term_matrix = count_vectorizer.transform(corpus_train)\n",
        "#     tfidf = TfidfTransformer(norm=\"l2\")\n",
        "#     tfidf.fit(freq_term_matrix)\n",
        "#     # unigram features\n",
        "#     tfidf_token = TfidfVectorizer(ngram_range=(1,1),max_features=3000)\n",
        "#     token_tfidf_total = tfidf_token.fit_transform(corpus_train+corpus_test)\n",
        "#     token_tfidf_total_mat = token_tfidf_total.toarray()\n",
        "#     # bigram features\n",
        "#     tfidf_bi_token = TfidfVectorizer(ngram_range=(1,2),max_features=3000)\n",
        "#     token_tfidf_bi_total = tfidf_bi_token.fit_transform(corpus_train+corpus_test)\n",
        "#     token_tfidf_bi_total_mat = token_tfidf_bi_total.toarray()\n",
        "#     return token_tfidf_total_mat,token_tfidf_bi_total_mat"
      ],
      "execution_count": null,
      "outputs": []
    },
    {
      "cell_type": "code",
      "metadata": {
        "id": "86O8cYtA8DCI"
      },
      "source": [
        "word_index = emotion.tokenizer.word_index"
      ],
      "execution_count": null,
      "outputs": []
    },
    {
      "cell_type": "code",
      "metadata": {
        "id": "KH8cj829avC8"
      },
      "source": [
        "#emotion.train_D\n",
        "emotion.train_D"
      ],
      "execution_count": null,
      "outputs": []
    },
    {
      "cell_type": "code",
      "metadata": {
        "id": "hF3Hwbo0cBcq",
        "colab": {
          "base_uri": "https://localhost:8080/"
        },
        "outputId": "7ab949f2-4f1a-455b-8779-f3d1cda218b6"
      },
      "source": [
        "len(emotion.tokenizer.word_index)"
      ],
      "execution_count": null,
      "outputs": [
        {
          "output_type": "execute_result",
          "data": {
            "text/plain": [
              "15797"
            ]
          },
          "metadata": {
            "tags": []
          },
          "execution_count": 64
        }
      ]
    },
    {
      "cell_type": "code",
      "metadata": {
        "id": "AmTkrlDWfRWH",
        "colab": {
          "base_uri": "https://localhost:8080/"
        },
        "outputId": "64c741e4-4f80-4af8-f9ab-5bf23074ee84"
      },
      "source": [
        "threshold = 1\n",
        "total_cnt = len(emotion.tokenizer.word_index) # 단어의 수\n",
        "rare_cnt = 0 # 등장 빈도수가 threshold보다 작은 단어의 개수를 카운트\n",
        "total_freq = 0 # 훈련 데이터의 전체 단어 빈도수 총 합\n",
        "rare_freq = 0 # 등장 빈도수가 threshold보다 작은 단어의 등장 빈도수의 총 합\n",
        "\n",
        "# 단어와 빈도수의 쌍(pair)을 key와 value로 받는다.\n",
        "for key, value in emotion.tokenizer.word_counts.items():\n",
        "    total_freq = total_freq + value\n",
        "\n",
        "    # 단어의 등장 빈도수가 threshold보다 작으면\n",
        "    if(value < threshold):\n",
        "        rare_cnt = rare_cnt + 1\n",
        "        rare_freq = rare_freq + value\n",
        "\n",
        "print('단어 집합(vocabulary)의 크기 :',total_cnt)\n",
        "print('등장 빈도가 %s번 이하인 희귀 단어의 수: %s'%(threshold - 1, rare_cnt))\n",
        "print(\"단어 집합에서 희귀 단어의 비율:\", (rare_cnt / total_cnt)*100)\n",
        "print(\"전체 등장 빈도에서 희귀 단어 등장 빈도 비율:\", (rare_freq / total_freq)*100)"
      ],
      "execution_count": null,
      "outputs": [
        {
          "output_type": "stream",
          "text": [
            "단어 집합(vocabulary)의 크기 : 15797\n",
            "등장 빈도가 0번 이하인 희귀 단어의 수: 0\n",
            "단어 집합에서 희귀 단어의 비율: 0.0\n",
            "전체 등장 빈도에서 희귀 단어 등장 빈도 비율: 0.0\n"
          ],
          "name": "stdout"
        }
      ]
    },
    {
      "cell_type": "code",
      "metadata": {
        "id": "Zn1iTG_sdlTB"
      },
      "source": [
        "# vocab_size = total_cnt - rare_cnt + 2 #+ len(emotion.tokenizer.word_index)\n",
        "# print('단어 집합의 크기 :',vocab_size)\n",
        "vocab_size = total_cnt + 1"
      ],
      "execution_count": null,
      "outputs": []
    },
    {
      "cell_type": "code",
      "metadata": {
        "id": "0-pceIW09Xh1"
      },
      "source": [
        "import json\n",
        "json = json.dumps(emotion.tokenizer.word_index)\n",
        "f3 = open(\"base_wordIndex.json\", \"w\")\n",
        "f3.write(json)\n",
        "f3.close()"
      ],
      "execution_count": null,
      "outputs": []
    },
    {
      "cell_type": "code",
      "metadata": {
        "id": "8VZni0Np8tVV"
      },
      "source": [
        "f3"
      ],
      "execution_count": null,
      "outputs": []
    },
    {
      "cell_type": "code",
      "metadata": {
        "id": "1cxi4wk1d2Gf"
      },
      "source": [
        "\n",
        "X_train = tokenizer.texts_to_sequences(emotion.train_D)\n",
        "X_test = tokenizer.texts_to_sequences(emotion.test_D)"
      ],
      "execution_count": null,
      "outputs": []
    },
    {
      "cell_type": "code",
      "metadata": {
        "colab": {
          "base_uri": "https://localhost:8080/"
        },
        "id": "fC8Kfo3rAFO7",
        "outputId": "aeae8828-f312-412f-f8de-2cf3091d143e"
      },
      "source": [
        "import json\r\n",
        "to = Tokenizer(vocab_size)\r\n",
        "with open('./base_wordIndex.json') as json_file:\r\n",
        "  word_index = json.load(json_file)\r\n",
        "  to.word_index = word_index\r\n",
        "to.texts_to_sequences(emotion.test_D[:10])"
      ],
      "execution_count": null,
      "outputs": [
        {
          "output_type": "execute_result",
          "data": {
            "text/plain": [
              "[[1310, 2875, 369, 1],\n",
              " [1304, 7261, 8, 100, 17, 1022, 7, 27, 99, 56, 295],\n",
              " [571, 31, 745, 869, 16, 380, 296],\n",
              " [742, 6758, 1160, 1475, 206, 22],\n",
              " [214, 2525, 130, 231, 440, 7327, 14, 14475, 1, 5, 397, 101, 379, 1, 2944],\n",
              " [4698, 6155, 61, 63, 956, 41, 696, 3607, 6492, 87, 230, 236, 8276, 1, 84, 9],\n",
              " [752,\n",
              "  7,\n",
              "  88,\n",
              "  4773,\n",
              "  759,\n",
              "  5660,\n",
              "  94,\n",
              "  1585,\n",
              "  16,\n",
              "  29,\n",
              "  17,\n",
              "  494,\n",
              "  36,\n",
              "  359,\n",
              "  26,\n",
              "  350,\n",
              "  55,\n",
              "  80,\n",
              "  2157,\n",
              "  1548,\n",
              "  267,\n",
              "  1381,\n",
              "  220],\n",
              " [516, 6, 11559, 222, 834, 3],\n",
              " [1211, 3285, 218, 590],\n",
              " [635, 1737, 117, 1247, 275, 132, 1127, 164, 253, 698, 105, 170]]"
            ]
          },
          "metadata": {
            "tags": []
          },
          "execution_count": 71
        }
      ]
    },
    {
      "cell_type": "code",
      "metadata": {
        "id": "nXV0WOUjd_Vs"
      },
      "source": [
        "drop_train = [index for index, sentence in enumerate(X_train) if len(sentence) < 1]"
      ],
      "execution_count": null,
      "outputs": []
    },
    {
      "cell_type": "code",
      "metadata": {
        "id": "ukxz7_2E27AI"
      },
      "source": [
        "# tokenizer2 = Tokenizer(vocab_size, oov_token ='OOV')\n",
        "# tokenizer2.fit_on_texts(emotion2.train_D)\n",
        "# X_train_2 = tokenizer2.texts_to_sequences(emotion2.train_D)\n",
        "# X_test_2 = tokenizer2.texts_to_sequences(emotion2.test_D)"
      ],
      "execution_count": null,
      "outputs": []
    },
    {
      "cell_type": "code",
      "metadata": {
        "id": "Hs5zDOby3geE",
        "colab": {
          "base_uri": "https://localhost:8080/"
        },
        "outputId": "f951c3e5-35f8-4af9-bcbc-16954089a495"
      },
      "source": [
        "drop_train"
      ],
      "execution_count": null,
      "outputs": [
        {
          "output_type": "execute_result",
          "data": {
            "text/plain": [
              "[3157, 8623, 13165, 13554]"
            ]
          },
          "metadata": {
            "tags": []
          },
          "execution_count": 73
        }
      ]
    },
    {
      "cell_type": "code",
      "metadata": {
        "id": "Hkmthxb02nGa",
        "colab": {
          "base_uri": "https://localhost:8080/"
        },
        "outputId": "d3d68f12-f084-4dfd-b5f9-92f14fc3919f"
      },
      "source": [
        "print(np.asarray(X_train).shape)"
      ],
      "execution_count": null,
      "outputs": [
        {
          "output_type": "stream",
          "text": [
            "(17439,)\n"
          ],
          "name": "stdout"
        },
        {
          "output_type": "stream",
          "text": [
            "/usr/local/lib/python3.6/dist-packages/numpy/core/_asarray.py:83: VisibleDeprecationWarning: Creating an ndarray from ragged nested sequences (which is a list-or-tuple of lists-or-tuples-or ndarrays with different lengths or shapes) is deprecated. If you meant to do this, you must specify 'dtype=object' when creating the ndarray\n",
            "  return array(a, dtype, copy=False, order=order)\n"
          ],
          "name": "stderr"
        }
      ]
    },
    {
      "cell_type": "code",
      "metadata": {
        "id": "duJlExWT3kUp"
      },
      "source": [
        "#X_train.extend(X_train_2)"
      ],
      "execution_count": null,
      "outputs": []
    },
    {
      "cell_type": "code",
      "metadata": {
        "id": "GbPpRn4K3mRm",
        "colab": {
          "base_uri": "https://localhost:8080/"
        },
        "outputId": "ef40b3e9-504f-46e3-84f5-78a85243e59c"
      },
      "source": [
        "print(np.asarray(X_train).shape)"
      ],
      "execution_count": null,
      "outputs": [
        {
          "output_type": "stream",
          "text": [
            "(17439,)\n"
          ],
          "name": "stdout"
        },
        {
          "output_type": "stream",
          "text": [
            "/usr/local/lib/python3.6/dist-packages/numpy/core/_asarray.py:83: VisibleDeprecationWarning: Creating an ndarray from ragged nested sequences (which is a list-or-tuple of lists-or-tuples-or ndarrays with different lengths or shapes) is deprecated. If you meant to do this, you must specify 'dtype=object' when creating the ndarray\n",
            "  return array(a, dtype, copy=False, order=order)\n"
          ],
          "name": "stderr"
        }
      ]
    },
    {
      "cell_type": "code",
      "metadata": {
        "id": "rapCNb0730NL"
      },
      "source": [
        "#X_test.extend(X_test_2)"
      ],
      "execution_count": null,
      "outputs": []
    },
    {
      "cell_type": "code",
      "metadata": {
        "id": "dShJo6c22NCw"
      },
      "source": [
        "#train_L = np.append(emotion.train_L, emotion2.train_L ,axis = 0)"
      ],
      "execution_count": null,
      "outputs": []
    },
    {
      "cell_type": "code",
      "metadata": {
        "id": "-goLFf2f34rH"
      },
      "source": [
        "#test_L = np.append(emotion.test_L, emotion2.test_L, axis= 0)"
      ],
      "execution_count": null,
      "outputs": []
    },
    {
      "cell_type": "code",
      "metadata": {
        "id": "ekvgPCl22uwL",
        "colab": {
          "base_uri": "https://localhost:8080/"
        },
        "outputId": "1aaade01-054b-4753-ec47-a732dd6cf4d1"
      },
      "source": [
        "X_test[:10]"
      ],
      "execution_count": null,
      "outputs": [
        {
          "output_type": "execute_result",
          "data": {
            "text/plain": [
              "[[1310, 2875, 369, 1],\n",
              " [1304, 7261, 8, 100, 17, 1022, 7, 27, 99, 56, 295],\n",
              " [571, 31, 745, 869, 16, 380, 296],\n",
              " [742, 6758, 1160, 1475, 206, 22],\n",
              " [214, 2525, 130, 231, 440, 7327, 14, 14475, 1, 5, 397, 101, 379, 1, 2944],\n",
              " [4698, 6155, 61, 63, 956, 41, 696, 3607, 6492, 87, 230, 236, 8276, 1, 84, 9],\n",
              " [752,\n",
              "  7,\n",
              "  88,\n",
              "  4773,\n",
              "  759,\n",
              "  5660,\n",
              "  94,\n",
              "  1585,\n",
              "  16,\n",
              "  29,\n",
              "  17,\n",
              "  494,\n",
              "  36,\n",
              "  359,\n",
              "  26,\n",
              "  350,\n",
              "  55,\n",
              "  80,\n",
              "  2157,\n",
              "  1548,\n",
              "  267,\n",
              "  1381,\n",
              "  220],\n",
              " [516, 6, 11559, 222, 834, 3],\n",
              " [1211, 3285, 218, 590],\n",
              " [635, 1737, 117, 1247, 275, 132, 1127, 164, 253, 698, 105, 170]]"
            ]
          },
          "metadata": {
            "tags": []
          },
          "execution_count": 77
        }
      ]
    },
    {
      "cell_type": "code",
      "metadata": {
        "colab": {
          "base_uri": "https://localhost:8080/"
        },
        "id": "UKm2Tb9LL62C",
        "outputId": "6515c77e-ed69-4f6c-d1bc-1afeb37b1a7f"
      },
      "source": [
        "print(train_D)"
      ],
      "execution_count": null,
      "outputs": [
        {
          "output_type": "stream",
          "text": [
            "14323                 이미내려갈팀을 구해낸분인데\n",
            "17385               아 내가 평균 이상이다!!!!\n",
            "17959                  공짜돈 쓰는게 임자입니다\n",
            "5244              맛있는것 많이 해줘서 감사해요~~\n",
            "10925                일날 뭘 보고 살아야 하나요\n",
            "                    ...             \n",
            "11964      꼭 다른나라가서 못해서 퇴출되서오면 잘하더라~\n",
            "21575      순ㅅ ㅣ라 너 땜에 올림픽도 개최몬한다어쩔래?\n",
            "5390     돈없는데 게임하고 싶으면 어떻게 해야 할까요..?\n",
            "860            그리고 출산선물은 어떻게 좋을까요 ㅜㅜ\n",
            "15795                   소녀시대가 원탑인 듯.\n",
            "Name: Sentence, Length: 17439, dtype: object\n"
          ],
          "name": "stdout"
        }
      ]
    },
    {
      "cell_type": "code",
      "metadata": {
        "id": "7FgPCthMeFmu",
        "colab": {
          "base_uri": "https://localhost:8080/"
        },
        "outputId": "6891f917-806f-4bf1-ef7e-f25d21db0d60"
      },
      "source": [
        "train_D = np.delete(X_train, drop_train, axis=0)\n",
        "train_L = np.delete(emotion.train_L, drop_train, axis=0)\n",
        "print(len(train_D))\n",
        "print(len(train_L))"
      ],
      "execution_count": null,
      "outputs": [
        {
          "output_type": "stream",
          "text": [
            "17435\n",
            "17435\n"
          ],
          "name": "stdout"
        },
        {
          "output_type": "stream",
          "text": [
            "/usr/local/lib/python3.6/dist-packages/numpy/core/_asarray.py:83: VisibleDeprecationWarning: Creating an ndarray from ragged nested sequences (which is a list-or-tuple of lists-or-tuples-or ndarrays with different lengths or shapes) is deprecated. If you meant to do this, you must specify 'dtype=object' when creating the ndarray\n",
            "  return array(a, dtype, copy=False, order=order)\n"
          ],
          "name": "stderr"
        }
      ]
    },
    {
      "cell_type": "code",
      "metadata": {
        "id": "XFcEDdG-efCU",
        "colab": {
          "base_uri": "https://localhost:8080/",
          "height": 315
        },
        "outputId": "e4ba3a39-9d92-41a1-bac2-ed710d1c2869"
      },
      "source": [
        "print(' 최대 길이 :',max(len(l) for l in train_D))\n",
        "print(' 평균 길이 :',sum(map(len, train_D))/len(train_D))\n",
        "plt.hist([len(s) for s in train_D], bins=50)\n",
        "plt.xlabel('length of samples')\n",
        "plt.ylabel('number of samples')\n",
        "plt.show()"
      ],
      "execution_count": null,
      "outputs": [
        {
          "output_type": "stream",
          "text": [
            " 최대 길이 : 75\n",
            " 평균 길이 : 7.1949526813880125\n"
          ],
          "name": "stdout"
        },
        {
          "output_type": "display_data",
          "data": {
            "image/png": "[encoded data removed]",
            "text/plain": [
              "<Figure size 432x288 with 1 Axes>"
            ]
          },
          "metadata": {
            "tags": [],
            "needs_background": "light"
          }
        }
      ]
    },
    {
      "cell_type": "code",
      "metadata": {
        "id": "0TQeSR9Te2H8"
      },
      "source": [
        "def below_threshold_len(max_len, nested_list):\n",
        "  cnt = 0\n",
        "  for s in nested_list:\n",
        "    if(len(s) <= max_len):\n",
        "        cnt = cnt + 1\n",
        "  print('전체 샘플 중 길이가 %s 이하인 샘플의 비율: %s'%(max_len, (cnt / len(nested_list))*100))"
      ],
      "execution_count": null,
      "outputs": []
    },
    {
      "cell_type": "code",
      "metadata": {
        "id": "siBVUBX_e3C6",
        "colab": {
          "base_uri": "https://localhost:8080/"
        },
        "outputId": "68dcbd93-8e60-4860-ffb8-cba5fe68816e"
      },
      "source": [
        "max_len = 8\n",
        "below_threshold_len(max_len, train_D)"
      ],
      "execution_count": null,
      "outputs": [
        {
          "output_type": "stream",
          "text": [
            "전체 샘플 중 길이가 8 이하인 샘플의 비율: 70.84026383710926\n"
          ],
          "name": "stdout"
        }
      ]
    },
    {
      "cell_type": "code",
      "metadata": {
        "id": "0DfBO5EZe-vg"
      },
      "source": [
        "train_D = pad_sequences(train_D, maxlen = max_len)\n",
        "test_D = pad_sequences(X_test, maxlen = max_len)"
      ],
      "execution_count": null,
      "outputs": []
    },
    {
      "cell_type": "code",
      "metadata": {
        "id": "nZ1mV7o8Kl2U",
        "colab": {
          "base_uri": "https://localhost:8080/"
        },
        "outputId": "2f5c5040-654d-430d-f5e4-f1aa544fb1a6"
      },
      "source": [
        "train_L"
      ],
      "execution_count": null,
      "outputs": [
        {
          "output_type": "execute_result",
          "data": {
            "text/plain": [
              "array([3, 3, 2, ..., 1, 1, 2])"
            ]
          },
          "metadata": {
            "tags": []
          },
          "execution_count": 28
        }
      ]
    },
    {
      "cell_type": "code",
      "metadata": {
        "id": "Te_F5YXWhVGS"
      },
      "source": [
        "from sklearn.preprocessing import OneHotEncoder\n",
        "one = OneHotEncoder()\n",
        "train_L = one.fit_transform(np.array(train_L).reshape(-1,1)).toarray()\n",
        "test_L = one.transform(np.array(emotion.test_L).reshape(-1,1)).toarray()\n"
      ],
      "execution_count": null,
      "outputs": []
    },
    {
      "cell_type": "code",
      "metadata": {
        "id": "xy1kjSoMfhgr"
      },
      "source": [
        "from tensorflow.keras.layers import Embedding, Dense, LSTM, Dropout, GRU, Conv1D,Flatten,GlobalMaxPooling1D\n",
        "from tensorflow.keras.models import Sequential\n",
        "from tensorflow.keras.models import load_model\n",
        "from tensorflow.keras.callbacks import EarlyStopping, ModelCheckpoint, TensorBoard\n",
        "from keras.layers import Bidirectional"
      ],
      "execution_count": null,
      "outputs": []
    },
    {
      "cell_type": "code",
      "metadata": {
        "id": "oFHIJ8aJpspK",
        "colab": {
          "base_uri": "https://localhost:8080/"
        },
        "outputId": "188e703c-4f18-4491-8aeb-17714d109a98"
      },
      "source": [
        "train_D.shape"
      ],
      "execution_count": null,
      "outputs": [
        {
          "output_type": "execute_result",
          "data": {
            "text/plain": [
              "(17435, 8)"
            ]
          },
          "metadata": {
            "tags": []
          },
          "execution_count": 31
        }
      ]
    },
    {
      "cell_type": "code",
      "metadata": {
        "colab": {
          "base_uri": "https://localhost:8080/"
        },
        "id": "i7e830b3dhdu",
        "outputId": "9eea1a77-89f1-44a9-8082-04ad224a2bb5"
      },
      "source": [
        "test_D.shape"
      ],
      "execution_count": null,
      "outputs": [
        {
          "output_type": "execute_result",
          "data": {
            "text/plain": [
              "(4360, 8)"
            ]
          },
          "metadata": {
            "tags": []
          },
          "execution_count": 32
        }
      ]
    },
    {
      "cell_type": "code",
      "metadata": {
        "id": "gQZUitkSfihk"
      },
      "source": [
        "# model = Sequential()\n",
        "# model.add(Embedding(vocab_size, 100))\n",
        "# model.add(Conv1D(100, 3,activation = 'relu'))\n",
        "# model.add(GlobalMaxPooling1D())\n",
        "# model.add(Dropout(0.2))\n",
        "# model.add(Dense(64, activation = 'relu'))\n",
        "# model.add(Flatten())\n",
        "# model.add(Dense(train_L.shape[1], activation='softmax'))"
      ],
      "execution_count": null,
      "outputs": []
    },
    {
      "cell_type": "code",
      "metadata": {
        "id": "cHvutHnGHP7s"
      },
      "source": [
        "model = Sequential()\n",
        "model.add(Embedding(vocab_size, 50))#, trainable = True))\n",
        "model.add((GRU(128, activation = 'tanh')))\n",
        "model.add(Dropout(0.5))\n",
        "# model.add(Dense(32))\n",
        "# model.add(Dropout(0.5))\n",
        "model.add(Dense(train_L.shape[1], activation='softmax'))"
      ],
      "execution_count": null,
      "outputs": []
    },
    {
      "cell_type": "code",
      "metadata": {
        "id": "GPt5O01BpnSW",
        "colab": {
          "base_uri": "https://localhost:8080/"
        },
        "outputId": "2fddd0f1-5928-4e89-8289-dc1119e6eb49"
      },
      "source": [
        "model.summary()"
      ],
      "execution_count": null,
      "outputs": [
        {
          "output_type": "stream",
          "text": [
            "Model: \"sequential\"\n",
            "_________________________________________________________________\n",
            "Layer (type)                 Output Shape              Param #   \n",
            "=================================================================\n",
            "embedding (Embedding)        (None, None, 50)          789950    \n",
            "_________________________________________________________________\n",
            "gru (GRU)                    (None, 128)               68736     \n",
            "_________________________________________________________________\n",
            "dropout (Dropout)            (None, 128)               0         \n",
            "_________________________________________________________________\n",
            "dense (Dense)                (None, 4)                 516       \n",
            "=================================================================\n",
            "Total params: 859,202\n",
            "Trainable params: 859,202\n",
            "Non-trainable params: 0\n",
            "_________________________________________________________________\n"
          ],
          "name": "stdout"
        }
      ]
    },
    {
      "cell_type": "code",
      "metadata": {
        "id": "U_TPuebag_JH"
      },
      "source": [
        "#test_L\n",
        "from keras import optimizers\n",
        "adam = optimizers.Adam(lr = 1e-3, clipvalue = 0.6)#lr = 1e-3, decay = 1e-5, clipvalue = 0.6)"
      ],
      "execution_count": null,
      "outputs": []
    },
    {
      "cell_type": "code",
      "metadata": {
        "id": "F9Iss5wYfj6D"
      },
      "source": [
        "es = EarlyStopping(monitor='val_loss', mode='min', verbose=1, patience=4)\n",
        "mc = ModelCheckpoint('base_model.h5', monitor='val_acc', mode='max', verbose=1, save_best_only=True)"
      ],
      "execution_count": null,
      "outputs": []
    },
    {
      "cell_type": "code",
      "metadata": {
        "id": "f86w4Ca2holq"
      },
      "source": [
        "import datetime\r\n",
        "log_dir= 'logs/fit/' + datetime.datetime.now().strftime(\"%Y%m%d - %H%M%S\")\r\n",
        "tensorboard_callback = TensorBoard(log_dir= log_dir, histogram_freq = 1)\r\n"
      ],
      "execution_count": null,
      "outputs": []
    },
    {
      "cell_type": "code",
      "metadata": {
        "id": "oO4LdBFGflSK",
        "colab": {
          "base_uri": "https://localhost:8080/"
        },
        "outputId": "f1f38244-ecbe-4bd9-cc89-33b7b0418d36"
      },
      "source": [
        "model.compile(optimizer='adam', loss='categorical_crossentropy', metrics=['acc'])\n",
        "history = model.fit(train_D, train_L, epochs=15, callbacks=[es, mc], batch_size=30, validation_split = 0.2)# 30, 2"
      ],
      "execution_count": null,
      "outputs": [
        {
          "output_type": "stream",
          "text": [
            "Train on 13948 samples, validate on 3487 samples\n",
            "Epoch 1/15\n",
            "13890/13948 [============================>.] - ETA: 0s - loss: 1.0767 - acc: 0.5204\n",
            "Epoch 00001: val_acc improved from -inf to 0.62661, saving model to base_model.h5\n",
            "13948/13948 [==============================] - 15s 1ms/sample - loss: 1.0757 - acc: 0.5210 - val_loss: 0.8955 - val_acc: 0.6266\n",
            "Epoch 2/15\n",
            "13890/13948 [============================>.] - ETA: 0s - loss: 0.6780 - acc: 0.7443\n",
            "Epoch 00002: val_acc did not improve from 0.62661\n",
            "13948/13948 [==============================] - 12s 894us/sample - loss: 0.6780 - acc: 0.7444 - val_loss: 0.9477 - val_acc: 0.6235\n",
            "Epoch 3/15\n",
            "13920/13948 [============================>.] - ETA: 0s - loss: 0.4394 - acc: 0.8412\n",
            "Epoch 00003: val_acc did not improve from 0.62661\n",
            "13948/13948 [==============================] - 13s 898us/sample - loss: 0.4396 - acc: 0.8411 - val_loss: 1.1237 - val_acc: 0.6100\n",
            "Epoch 4/15\n",
            "13890/13948 [============================>.] - ETA: 0s - loss: 0.2877 - acc: 0.9027\n",
            "Epoch 00004: val_acc did not improve from 0.62661\n",
            "13948/13948 [==============================] - 13s 903us/sample - loss: 0.2873 - acc: 0.9029 - val_loss: 1.1888 - val_acc: 0.6157\n",
            "Epoch 5/15\n",
            "13890/13948 [============================>.] - ETA: 0s - loss: 0.2075 - acc: 0.9275\n",
            "Epoch 00005: val_acc did not improve from 0.62661\n",
            "13948/13948 [==============================] - 12s 894us/sample - loss: 0.2073 - acc: 0.9276 - val_loss: 1.4854 - val_acc: 0.6020\n",
            "Epoch 00005: early stopping\n"
          ],
          "name": "stdout"
        }
      ]
    },
    {
      "cell_type": "code",
      "metadata": {
        "id": "Bs4bG1G0ZPXT"
      },
      "source": [
        "# import json\r\n",
        "# with open('lux_gru_without_validation.json', 'w') as f:\r\n",
        "#   json.dump(history.history, f)"
      ],
      "execution_count": null,
      "outputs": []
    },
    {
      "cell_type": "code",
      "metadata": {
        "colab": {
          "base_uri": "https://localhost:8080/"
        },
        "id": "GOP2WWBWar__",
        "outputId": "80eb458c-9969-4aa9-b4c9-614abfc028a8"
      },
      "source": [
        "# with open('lux_gru.json', 'r') as f:\r\n",
        "#   j = json.load(f)\r\n",
        "# print(j)"
      ],
      "execution_count": null,
      "outputs": [
        {
          "output_type": "stream",
          "text": [
            "{'loss': [1.1083629131317139, 0.7087929844856262, 0.4813916087150574, 0.3357672393321991, 0.25985777378082275], 'acc': [0.5101089477539062, 0.7310725450515747, 0.8341697454452515, 0.8888012766838074, 0.9181961417198181], 'val_loss': [0.8991413712501526, 0.9174095988273621, 1.0305854082107544, 1.2319316864013672, 1.3788293600082397], 'val_acc': [0.6194436550140381, 0.6372239589691162, 0.6185833215713501, 0.5999426245689392, 0.5965012907981873]}\n"
          ],
          "name": "stdout"
        }
      ]
    },
    {
      "cell_type": "code",
      "metadata": {
        "id": "5VoNsxhX7czq"
      },
      "source": [
        "#model.save('base_model.h5')"
      ],
      "execution_count": null,
      "outputs": []
    },
    {
      "cell_type": "code",
      "metadata": {
        "id": "W5d0ypr2i_p5"
      },
      "source": [
        "#%reload_ext tensorboard"
      ],
      "execution_count": null,
      "outputs": []
    },
    {
      "cell_type": "code",
      "metadata": {
        "id": "rsAeYJluncCm"
      },
      "source": [
        "#rm -rf ./logs/"
      ],
      "execution_count": null,
      "outputs": []
    },
    {
      "cell_type": "code",
      "metadata": {
        "id": "Dx7Bzi0qtFHo"
      },
      "source": [
        "#!kill 719"
      ],
      "execution_count": null,
      "outputs": []
    },
    {
      "cell_type": "code",
      "metadata": {
        "id": "Poyf1GtujE30"
      },
      "source": [
        "#%tensorboard --logdir logs/fit"
      ],
      "execution_count": null,
      "outputs": []
    },
    {
      "cell_type": "code",
      "metadata": {
        "id": "ii0GUDG8OCEK"
      },
      "source": [
        "#model.compile()"
      ],
      "execution_count": null,
      "outputs": []
    },
    {
      "cell_type": "code",
      "metadata": {
        "id": "HDt4I-6Z8bN1",
        "colab": {
          "base_uri": "https://localhost:8080/"
        },
        "outputId": "6f6d474f-9f19-4b9d-ba3c-b831b7e50ffb"
      },
      "source": [
        "test_D.shape"
      ],
      "execution_count": null,
      "outputs": [
        {
          "output_type": "execute_result",
          "data": {
            "text/plain": [
              "(4360, 8)"
            ]
          },
          "metadata": {
            "tags": []
          },
          "execution_count": 39
        }
      ]
    },
    {
      "cell_type": "code",
      "metadata": {
        "id": "Ag7JGkdV8dct",
        "colab": {
          "base_uri": "https://localhost:8080/"
        },
        "outputId": "c371ec32-115e-4fb8-b5f5-91686f4121e1"
      },
      "source": [
        "test_L.shape"
      ],
      "execution_count": null,
      "outputs": [
        {
          "output_type": "execute_result",
          "data": {
            "text/plain": [
              "(4360, 4)"
            ]
          },
          "metadata": {
            "tags": []
          },
          "execution_count": 40
        }
      ]
    },
    {
      "cell_type": "code",
      "metadata": {
        "id": "piDkmFBTiXR1",
        "colab": {
          "base_uri": "https://localhost:8080/"
        },
        "outputId": "2cbd633c-90ef-42b8-fe45-f984b837a428"
      },
      "source": [
        "loaded_model = load_model('base_model.h5')\n",
        "print(\"\\n 테스트 정확도: %.4f\" % (loaded_model.evaluate(test_D,test_L )[1]))"
      ],
      "execution_count": null,
      "outputs": [
        {
          "output_type": "stream",
          "text": [
            "4360/4360 [==============================] - 1s 143us/sample - loss: 0.8956 - acc: 0.6142\n",
            "\n",
            " 테스트 정확도: 0.6142\n"
          ],
          "name": "stdout"
        }
      ]
    },
    {
      "cell_type": "code",
      "metadata": {
        "colab": {
          "base_uri": "https://localhost:8080/"
        },
        "id": "-mUOQ_LUdDoj",
        "outputId": "c1153fe0-c974-4754-f7a1-51aff69a9860"
      },
      "source": [
        "len(test_D)"
      ],
      "execution_count": null,
      "outputs": [
        {
          "output_type": "execute_result",
          "data": {
            "text/plain": [
              "4360"
            ]
          },
          "metadata": {
            "tags": []
          },
          "execution_count": 42
        }
      ]
    },
    {
      "cell_type": "code",
      "metadata": {
        "colab": {
          "base_uri": "https://localhost:8080/"
        },
        "id": "q_dZH0Xs0N9D",
        "outputId": "e5dd2307-252b-48d0-d3a9-55a67d95dcc1"
      },
      "source": [
        "test_D"
      ],
      "execution_count": null,
      "outputs": [
        {
          "output_type": "execute_result",
          "data": {
            "text/plain": [
              "array([[   0,    0,    0, ..., 2876,  370,    2],\n",
              "       [1023,    1,    8, ...,   57,    1,  296],\n",
              "       [   0,  572,   32, ...,   17,  381,  297],\n",
              "       ...,\n",
              "       [   0,    0,    0, ..., 7132,  402,   14],\n",
              "       [   0,    0,    0, ...,  213, 2356,    6],\n",
              "       [   0,    0,    0, ..., 8074, 4878, 3401]], dtype=int32)"
            ]
          },
          "metadata": {
            "tags": []
          },
          "execution_count": 47
        }
      ]
    },
    {
      "cell_type": "code",
      "metadata": {
        "colab": {
          "base_uri": "https://localhost:8080/",
          "height": 736
        },
        "id": "jSZZZC5nMOSk",
        "outputId": "14b28e14-081c-4229-a344-3a90ac086d44"
      },
      "source": [
        "from sklearn.metrics import precision_recall_fscore_support, accuracy_score, confusion_matrix\r\n",
        "pred = loaded_model.predict(test_D)\r\n",
        "prediction = []\r\n",
        "for p in pred:\r\n",
        "  prediction.append(np.argmax(p))\r\n",
        "label = []\r\n",
        "for l in test_L:\r\n",
        "  label.append(np.argmax(l)) \r\n",
        "print('accuracy:', accuracy_score(label, prediction))\r\n",
        "#test_L\r\n",
        "#prediction\r\n",
        "confusion = confusion_matrix(label, prediction)\r\n",
        "import seaborn as sns\r\n",
        "import matplotlib.pyplot as plt \r\n",
        "plt.figure(figsize = (12,12))\r\n",
        "sns.heatmap(confusion, annot = True)"
      ],
      "execution_count": null,
      "outputs": [
        {
          "output_type": "stream",
          "text": [
            "accuracy: 0.6142201834862385\n"
          ],
          "name": "stdout"
        },
        {
          "output_type": "execute_result",
          "data": {
            "text/plain": [
              "<matplotlib.axes._subplots.AxesSubplot at 0x7fb60c785048>"
            ]
          },
          "metadata": {
            "tags": []
          },
          "execution_count": 91
        },
        {
          "output_type": "display_data",
          "data": {
            "image/png": "[encoded data removed]",
            "text/plain": [
              "<Figure size 864x864 with 2 Axes>"
            ]
          },
          "metadata": {
            "tags": [],
            "needs_background": "light"
          }
        }
      ]
    },
    {
      "cell_type": "code",
      "metadata": {
        "id": "f1A6x9tw7w7P",
        "colab": {
          "base_uri": "https://localhost:8080/"
        },
        "outputId": "0b6818a9-d761-424b-ded7-18058a8d0f99"
      },
      "source": [
        "#loaded_model.get_config()\r\n",
        "from sklearn.metrics import precision_recall_fscore_support, accuracy_score, confusion_matrix\r\n",
        "accuracy_result = accuracy_score(label, prediction)\r\n",
        "result = precision_recall_fscore_support(label, prediction)\r\n",
        "confusion = confusion_matrix(label, prediction)\r\n",
        "print(result)"
      ],
      "execution_count": null,
      "outputs": [
        {
          "output_type": "stream",
          "text": [
            "(array([0.6162707 , 0.69146608, 0.46315789, 0.7804878 ]), array([0.72358411, 0.63326653, 0.44534413, 0.72544081]), array([0.66562986, 0.66108787, 0.45407637, 0.75195822]), array([1183,  998,  988, 1191]))\n"
          ],
          "name": "stdout"
        }
      ]
    },
    {
      "cell_type": "code",
      "metadata": {
        "id": "tI2GISXloHcD"
      },
      "source": [
        "def sentiment_predict(new_sentence):\n",
        "  new_sentence = emotion.okt.morphs(new_sentence, stem=True) # 토큰화\n",
        "  new_sentence = [word for word in new_sentence if not word in emotion.stopwords] # 불용어 제거\n",
        "  print(new_sentence)\n",
        "  encoded = emotion.tokenizer.texts_to_sequences([new_sentence]) # 정수 인코딩\n",
        "  pad_new = pad_sequences(encoded, maxlen = max_len) # 패딩\n",
        "  #print(pad_new)\n",
        "\n",
        "  pred= loaded_model.predict(pad_new) # 예측\n",
        "  return pred"
      ],
      "execution_count": null,
      "outputs": []
    },
    {
      "cell_type": "code",
      "metadata": {
        "id": "MyE0GgftoS80",
        "colab": {
          "base_uri": "https://localhost:8080/"
        },
        "outputId": "df2b3a97-aa9f-4d9f-961f-7555c6fe3c65"
      },
      "source": [
        "(sentiment_predict('내가 얼마나 힘들었는지 알아?'))"
      ],
      "execution_count": null,
      "outputs": [
        {
          "output_type": "stream",
          "text": [
            "['내', '얼마나', '힘들다', '알', '아']\n"
          ],
          "name": "stdout"
        },
        {
          "output_type": "execute_result",
          "data": {
            "text/plain": [
              "array([[1.3088878e-03, 9.9256426e-01, 9.9120149e-04, 5.1357239e-03]],\n",
              "      dtype=float32)"
            ]
          },
          "metadata": {
            "tags": []
          },
          "execution_count": 84
        }
      ]
    },
    {
      "cell_type": "code",
      "metadata": {
        "id": "A0C1N4-l-CKB"
      },
      "source": [
        "#부정 중립 행복"
      ],
      "execution_count": null,
      "outputs": []
    },
    {
      "cell_type": "code",
      "metadata": {
        "id": "5HvlU6kHooTO"
      },
      "source": [
        "#화남 슬픔 중립  행복"
      ],
      "execution_count": null,
      "outputs": []
    },
    {
      "cell_type": "markdown",
      "metadata": {
        "id": "KCSkq7gAxI7l"
      },
      "source": [
        "#make_data"
      ]
    },
    {
      "cell_type": "code",
      "metadata": {
        "id": "BUaHbnOZ1Ju6"
      },
      "source": [
        "import lightgbm"
      ],
      "execution_count": null,
      "outputs": []
    },
    {
      "cell_type": "code",
      "metadata": {
        "id": "ceMFQkBd1pWU",
        "colab": {
          "base_uri": "https://localhost:8080/"
        },
        "outputId": "326e1d7e-8a08-4665-9a6b-e7aadd76364c"
      },
      "source": [
        "train_L.shape"
      ],
      "execution_count": null,
      "outputs": [
        {
          "output_type": "execute_result",
          "data": {
            "text/plain": [
              "(469, 4)"
            ]
          },
          "metadata": {
            "tags": []
          },
          "execution_count": 72
        }
      ]
    },
    {
      "cell_type": "code",
      "metadata": {
        "id": "PU98fNrF1M3o"
      },
      "source": [
        "lgbm = lightgbm.LGBMClassifier()"
      ],
      "execution_count": null,
      "outputs": []
    },
    {
      "cell_type": "code",
      "metadata": {
        "id": "rh3LTrg61R-A",
        "colab": {
          "base_uri": "https://localhost:8080/"
        },
        "outputId": "dad0f4f9-b753-4a40-b0c5-3713c0f50e28"
      },
      "source": [
        "lgbm.fit(train_D, np.argmax(train_L, axis= 1))"
      ],
      "execution_count": null,
      "outputs": [
        {
          "output_type": "execute_result",
          "data": {
            "text/plain": [
              "LGBMClassifier(boosting_type='gbdt', class_weight=None, colsample_bytree=1.0,\n",
              "               importance_type='split', learning_rate=0.1, max_depth=-1,\n",
              "               min_child_samples=20, min_child_weight=0.001, min_split_gain=0.0,\n",
              "               n_estimators=100, n_jobs=-1, num_leaves=31, objective=None,\n",
              "               random_state=None, reg_alpha=0.0, reg_lambda=0.0, silent=True,\n",
              "               subsample=1.0, subsample_for_bin=200000, subsample_freq=0)"
            ]
          },
          "metadata": {
            "tags": []
          },
          "execution_count": 74
        }
      ]
    },
    {
      "cell_type": "code",
      "metadata": {
        "id": "hK8N0Ezd2MPO"
      },
      "source": [
        "pred = lgbm.predict(test_D)#, np.argmax(test_L, axis =1))"
      ],
      "execution_count": null,
      "outputs": []
    },
    {
      "cell_type": "code",
      "metadata": {
        "id": "9TcqynqG2Q7_"
      },
      "source": [
        "from sklearn.metrics import classification_report\n",
        "from sklearn.metrics import confusion_matrix"
      ],
      "execution_count": null,
      "outputs": []
    },
    {
      "cell_type": "code",
      "metadata": {
        "id": "Fx5WXHNy2ZMD",
        "colab": {
          "base_uri": "https://localhost:8080/"
        },
        "outputId": "710a5098-e17d-4b78-8e21-0237d855bd40"
      },
      "source": [
        "confusion_matrix(pred, np.argmax(test_L, axis =1 ))"
      ],
      "execution_count": null,
      "outputs": [
        {
          "output_type": "execute_result",
          "data": {
            "text/plain": [
              "array([[ 1,  0,  0,  2],\n",
              "       [11, 74,  4, 17],\n",
              "       [ 0,  0,  1,  0],\n",
              "       [ 0,  4,  0,  4]])"
            ]
          },
          "metadata": {
            "tags": []
          },
          "execution_count": 77
        }
      ]
    },
    {
      "cell_type": "code",
      "metadata": {
        "id": "N7XZMJXZ2hRZ"
      },
      "source": [
        "from sklearn.metrics import accuracy_score"
      ],
      "execution_count": null,
      "outputs": []
    },
    {
      "cell_type": "code",
      "metadata": {
        "id": "U-QcAX2E38GG",
        "colab": {
          "base_uri": "https://localhost:8080/"
        },
        "outputId": "e8620011-8f01-455b-998d-8520567e15cd"
      },
      "source": [
        "accuracy_score(pred, np.argmax(test_L, axis =1))"
      ],
      "execution_count": null,
      "outputs": [
        {
          "output_type": "execute_result",
          "data": {
            "text/plain": [
              "0.6779661016949152"
            ]
          },
          "metadata": {
            "tags": []
          },
          "execution_count": 79
        }
      ]
    },
    {
      "cell_type": "code",
      "metadata": {
        "id": "wZXxGAHS3_ok"
      },
      "source": [
        "from sklearn.feature_extraction.text import TfidfVectorizer"
      ],
      "execution_count": null,
      "outputs": []
    }
  ]
}