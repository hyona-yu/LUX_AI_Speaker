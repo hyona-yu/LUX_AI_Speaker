{
  "nbformat": 4,
  "nbformat_minor": 0,
  "metadata": {
    "accelerator": "GPU",
    "colab": {
      "name": "insta_test.ipynb",
      "provenance": [],
      "collapsed_sections": []
    },
    "kernelspec": {
      "display_name": "Python 3",
      "name": "python3"
    }
  },
  "cells": [
    {
      "cell_type": "code",
      "metadata": {
        "colab": {
          "base_uri": "https://localhost:8080/"
        },
        "id": "VJFKL1C4OwrU",
        "outputId": "9b036095-364b-4f18-c81f-23b771e6f828"
      },
      "source": [
        "! pip install konlpy\r\n",
        "% tensorflow_version 1.x"
      ],
      "execution_count": 1,
      "outputs": [
        {
          "output_type": "stream",
          "text": [
            "Collecting konlpy\n",
            "\u001b[?25l  Downloading https://files.pythonhosted.org/packages/85/0e/f385566fec837c0b83f216b2da65db9997b35dd675e107752005b7d392b1/konlpy-0.5.2-py2.py3-none-any.whl (19.4MB)\n",
            "\u001b[K     |████████████████████████████████| 19.4MB 1.6MB/s \n",
            "\u001b[?25hCollecting colorama\n",
            "  Downloading https://files.pythonhosted.org/packages/44/98/5b86278fbbf250d239ae0ecb724f8572af1c91f4a11edf4d36a206189440/colorama-0.4.4-py2.py3-none-any.whl\n",
            "Requirement already satisfied: lxml>=4.1.0 in /usr/local/lib/python3.6/dist-packages (from konlpy) (4.2.6)\n",
            "Collecting JPype1>=0.7.0\n",
            "\u001b[?25l  Downloading https://files.pythonhosted.org/packages/de/af/93f92b38ec1ff3091cd38982ed19cea2800fefb609b5801c41fc43c0781e/JPype1-1.2.1-cp36-cp36m-manylinux2010_x86_64.whl (457kB)\n",
            "\u001b[K     |████████████████████████████████| 460kB 33.4MB/s \n",
            "\u001b[?25hCollecting beautifulsoup4==4.6.0\n",
            "\u001b[?25l  Downloading https://files.pythonhosted.org/packages/9e/d4/10f46e5cfac773e22707237bfcd51bbffeaf0a576b0a847ec7ab15bd7ace/beautifulsoup4-4.6.0-py3-none-any.whl (86kB)\n",
            "\u001b[K     |████████████████████████████████| 92kB 10.6MB/s \n",
            "\u001b[?25hCollecting tweepy>=3.7.0\n",
            "  Downloading https://files.pythonhosted.org/packages/67/c3/6bed87f3b1e5ed2f34bd58bf7978e308c86e255193916be76e5a5ce5dfca/tweepy-3.10.0-py2.py3-none-any.whl\n",
            "Requirement already satisfied: numpy>=1.6 in /usr/local/lib/python3.6/dist-packages (from konlpy) (1.19.5)\n",
            "Requirement already satisfied: typing-extensions; python_version < \"3.8\" in /usr/local/lib/python3.6/dist-packages (from JPype1>=0.7.0->konlpy) (3.7.4.3)\n",
            "Requirement already satisfied: six>=1.10.0 in /usr/local/lib/python3.6/dist-packages (from tweepy>=3.7.0->konlpy) (1.15.0)\n",
            "Requirement already satisfied: requests-oauthlib>=0.7.0 in /usr/local/lib/python3.6/dist-packages (from tweepy>=3.7.0->konlpy) (1.3.0)\n",
            "Requirement already satisfied: requests[socks]>=2.11.1 in /usr/local/lib/python3.6/dist-packages (from tweepy>=3.7.0->konlpy) (2.23.0)\n",
            "Requirement already satisfied: oauthlib>=3.0.0 in /usr/local/lib/python3.6/dist-packages (from requests-oauthlib>=0.7.0->tweepy>=3.7.0->konlpy) (3.1.0)\n",
            "Requirement already satisfied: chardet<4,>=3.0.2 in /usr/local/lib/python3.6/dist-packages (from requests[socks]>=2.11.1->tweepy>=3.7.0->konlpy) (3.0.4)\n",
            "Requirement already satisfied: certifi>=2017.4.17 in /usr/local/lib/python3.6/dist-packages (from requests[socks]>=2.11.1->tweepy>=3.7.0->konlpy) (2020.12.5)\n",
            "Requirement already satisfied: idna<3,>=2.5 in /usr/local/lib/python3.6/dist-packages (from requests[socks]>=2.11.1->tweepy>=3.7.0->konlpy) (2.10)\n",
            "Requirement already satisfied: urllib3!=1.25.0,!=1.25.1,<1.26,>=1.21.1 in /usr/local/lib/python3.6/dist-packages (from requests[socks]>=2.11.1->tweepy>=3.7.0->konlpy) (1.24.3)\n",
            "Requirement already satisfied: PySocks!=1.5.7,>=1.5.6; extra == \"socks\" in /usr/local/lib/python3.6/dist-packages (from requests[socks]>=2.11.1->tweepy>=3.7.0->konlpy) (1.7.1)\n",
            "Installing collected packages: colorama, JPype1, beautifulsoup4, tweepy, konlpy\n",
            "  Found existing installation: beautifulsoup4 4.6.3\n",
            "    Uninstalling beautifulsoup4-4.6.3:\n",
            "      Successfully uninstalled beautifulsoup4-4.6.3\n",
            "  Found existing installation: tweepy 3.6.0\n",
            "    Uninstalling tweepy-3.6.0:\n",
            "      Successfully uninstalled tweepy-3.6.0\n",
            "Successfully installed JPype1-1.2.1 beautifulsoup4-4.6.0 colorama-0.4.4 konlpy-0.5.2 tweepy-3.10.0\n",
            "TensorFlow 1.x selected.\n"
          ],
          "name": "stdout"
        }
      ]
    },
    {
      "cell_type": "code",
      "metadata": {
        "id": "bFzWhTr4qwAq"
      },
      "source": [
        "#! unzip '/content/crowling_folder-20210102T151343Z-001.zip'"
      ],
      "execution_count": null,
      "outputs": []
    },
    {
      "cell_type": "code",
      "metadata": {
        "id": "xl9o8N07rDQK"
      },
      "source": [
        "path = 'crowling_folder/'"
      ],
      "execution_count": null,
      "outputs": []
    },
    {
      "cell_type": "code",
      "metadata": {
        "colab": {
          "base_uri": "https://localhost:8080/"
        },
        "id": "YsIAlvqgPUmT",
        "outputId": "237311cb-c297-43a4-82ce-9cf38995a493"
      },
      "source": [
        "import numpy as np\r\n",
        "import pandas\r\n",
        "import tensorflow_hub as hub\r\n",
        "import tensorflow as tf\r\n",
        "import urllib.request\r\n",
        "import time\r\n",
        "from keras.models import Model\r\n",
        "from keras.layers import Dense, Lambda, Input, Dropout\r\n",
        "from keras import optimizers\r\n",
        "from konlpy.tag import Okt\r\n",
        "from tensorflow.keras.preprocessing.text import Tokenizer\r\n",
        "from tensorflow.keras.models import load_model\r\n",
        "from tensorflow.keras.preprocessing.sequence import pad_sequences\r\n",
        "import re\r\n",
        "import json"
      ],
      "execution_count": null,
      "outputs": [
        {
          "output_type": "stream",
          "text": [
            "Using TensorFlow backend.\n"
          ],
          "name": "stderr"
        }
      ]
    },
    {
      "cell_type": "code",
      "metadata": {
        "id": "pBxlaexj4PAt"
      },
      "source": [
        "# import numpy as np\r\n",
        "# import pandas\r\n",
        "# import tensorflow_hub as hub\r\n",
        "# import tensorflow as tf\r\n",
        "# import urllib.request\r\n",
        "# import time\r\n",
        "# from keras.models import Model\r\n",
        "# from keras.layers import Dense, Lambda, Input, Dropout\r\n",
        "# from keras import optimizers\r\n",
        "# from konlpy.tag import Okt\r\n",
        "# from tensorflow.keras.preprocessing.text import Tokenizer\r\n",
        "# from tensorflow.keras.models import load_model\r\n",
        "# from tensorflow.keras.preprocessing.sequence import pad_sequences\r\n",
        "# import re\r\n",
        "# import json\r\n",
        "# #####  리눅스 최종 version  #####\r\n",
        "# ### tensorflow version: 1.15.2, tensorflow_hub version : 0.10.0 (걍 깔면 이거 됨), keras 2.3.1\r\n",
        "# ### h5py version 2.10.0\r\n",
        "# #이거 서버에 올린거니깐 신경 ㄴㄴ\r\n",
        "# class ELMO():\r\n",
        "#   def __init__(self):\r\n",
        "#     self.elmo = hub.Module(\"https://tfhub.dev/google/elmo/1\", trainable=True)\r\n",
        "#     self.okt = Okt()\r\n",
        "#   def ELMoEmbedding(self, x):\r\n",
        "#     return self.elmo(tf.squeeze(tf.cast(x, tf.string)))\r\n",
        "#   def elmo_model(self):\r\n",
        "#     input_text = Input(shape=(1,), dtype=tf.string)\r\n",
        "#     embedding_layer = Lambda(self.ELMoEmbedding, output_shape=(1024, ))(input_text)\r\n",
        "#     hidden_layer = Dense(256, activation='relu')(embedding_layer)\r\n",
        "#     dropout = Dropout(0.5)(hidden_layer)\r\n",
        "#     output_layer = Dense(4, activation='softmax')(dropout)\r\n",
        "#     model = Model(inputs = [input_text], outputs = output_layer)\r\n",
        "#     model.load_weights('./params/real_elmo_weight.h5')\r\n",
        "#     return model\r\n",
        "\r\n",
        "#   def tokenize(self, data):\r\n",
        "#       stopwords = ['ㅋ','ㅎ','ㅠㅠ','ㅜㅜ','^^','의','을','(','가','이','은','들','는','좀','잘','걍','과','도','를','으로','자','에','와','한','하다']\r\n",
        "#       emoji_pattern = re.compile(\"[\"\r\n",
        "#         u\"\\U0001F600-\\U0001F64F\"  # emoticons\r\n",
        "#         u\"\\U0001F300-\\U0001F5FF\"  # symbols & pictographs\r\n",
        "#         u\"\\U0001F680-\\U0001F6FF\"  # transport & map symbols\r\n",
        "#         u\"\\U0001F1E0-\\U0001F1FF\"  # flags (iOS)\r\n",
        "#                            \"]+\", flags=re.UNICODE)\r\n",
        "#       han = re.compile(r\"[^ㄱ-ㅎㅏ-ㅣ가-힣 ]\")\r\n",
        "#       arr = []\r\n",
        "#       for sen in data:\r\n",
        "#           sen = re.sub(emoji_pattern, \"\", sen)\r\n",
        "#           sen = re.sub(han, \"\", sen)\r\n",
        "#           temp = self.okt.morphs(sen, stem = True)#True\r\n",
        "#           temp = [word for word in temp if not word in stopwords]\r\n",
        "#           arr.append(' '.join(temp))\r\n",
        "#       return arr\r\n",
        "\r\n",
        "#   def elmo_model_2(self):\r\n",
        "#     input_text = Input(shape=(1,), dtype=tf.string)\r\n",
        "#     embedding_layer = Lambda(self.ELMoEmbedding, output_shape=(1024, ))(input_text)\r\n",
        "#     hidden_layer = Dense(256, activation='relu')(embedding_layer)\r\n",
        "#     dropout = Dropout(0.5)(hidden_layer)\r\n",
        "#     output_layer = Dense(4, activation='softmax')(dropout)\r\n",
        "#     model = Model(inputs = [input_text], outputs = output_layer)\r\n",
        "#     model.load_weights('./params/best_t_elmo_model_onlytrain_weight.h5')\r\n",
        "\r\n",
        "#     return model\r\n",
        "\r\n",
        "# class GRU_model():\r\n",
        "#     def __init__(self):\r\n",
        "#         self.max_len = 8\r\n",
        "#         self.okt = Okt()\r\n",
        "#         self.num_words = 15798\r\n",
        "#         self.tokenizer = Tokenizer(self.num_words+3)\r\n",
        "#         with open('./params/base_wordIndex.json') as json_file:\r\n",
        "#             word_index = json.load(json_file)\r\n",
        "#             self.tokenizer.word_index = word_index\r\n",
        "#     def base_model(self):\r\n",
        "#         model = load_model('./params/base_t_model.h5')\r\n",
        "#         return model\r\n",
        "\r\n",
        "\r\n",
        "#     def tokenize(self, multi_data):\r\n",
        "#         stopwords = stopwords = ['백주부','ㅋ','ㅎ','ㅠ','ㅜㅜ','^^','의','(','가','이','은','들','는','좀','잘','걍','과','도','를','으로','자','에','와','한','하다', 'ㄴ','ㅠ',',','0',';','ㅜ','/','~','!','?','♥♥','♡♡','♡','♥']\r\n",
        "#         emoji_pattern = re.compile(\"[\"\r\n",
        "#         u\"\\U0001F600-\\U0001F64F\"  # emoticons\r\n",
        "#         u\"\\U0001F300-\\U0001F5FF\"  # symbols & pictographs\r\n",
        "#         u\"\\U0001F680-\\U0001F6FF\"  # transport & map symbols\r\n",
        "#         u\"\\U0001F1E0-\\U0001F1FF\"  # flags (iOS)\r\n",
        "#                            \"]+\", flags=re.UNICODE)\r\n",
        "#         han = re.compile(r'[ㄱ-ㅎㅏ-ㅣ!?~,\".\\n\\r#\\ufeff\\u200d]')\r\n",
        "#         arr=  []\r\n",
        "#         for sen in multi_data:\r\n",
        "#           sen = re.sub(emoji_pattern, \"\", sen)\r\n",
        "#           sen = re.sub(han, \"\", sen)\r\n",
        "#           temp = self.okt.morphs(sen, stem = True)#True\r\n",
        "#           temp = [word for word in temp if not word in stopwords]\r\n",
        "#           arr.append(temp)\r\n",
        "        \r\n",
        "#         return arr\r\n",
        "\r\n",
        "\r\n",
        "# class predicts():\r\n",
        "#     def __init__(self):\r\n",
        "#         self.gru = GRU_model()\r\n",
        "#         self.elmo = ELMO()\r\n",
        "#         self.base_model = self.gru.base_model()\r\n",
        "#         self.loaded_model = self.elmo.elmo_model()\r\n",
        "#         self.train_loaded_model = self.elmo.elmo_model_2()\r\n",
        "\r\n",
        "\r\n",
        "#     def predict_base(self, new_sentence):\r\n",
        "#         new_sen = self.gru.tokenize(new_sentence)\r\n",
        "#         encoded = self.gru.tokenizer.texts_to_sequences(new_sen)\r\n",
        "#         print(encoded)\r\n",
        "#         pad_new = pad_sequences(encoded, maxlen = self.gru.max_len)\r\n",
        "#         pred = self.base_model.predict(pad_new)\r\n",
        "#         return pred\r\n",
        "\r\n",
        "#     def predict_elmo(self, new_sentence):\r\n",
        "#         data = new_sentence\r\n",
        "#         new_sen = self.elmo.tokenize(data)\r\n",
        "#         pred = self.loaded_model.predict(np.array(new_sen))\r\n",
        "#         return pred\r\n",
        "#     def predict_train_elmo(self, new_sentence):\r\n",
        "#         data = new_sentence\r\n",
        "#         new_sen = self.elmo.tokenize(data)\r\n",
        "#         pred = self.train_loaded_model.predict(np.array(new_sen))\r\n",
        "#         return pred\r\n",
        "\r\n",
        "#     def soft_voting_ensemble(self, p1, p2):\r\n",
        "#         return p1 + p2\r\n",
        "\r\n",
        "#     def predict(self, new_sentence):\r\n",
        "#         pred = self.predict_elmo(new_sentence)\r\n",
        "#         pred_base = self.predict_base(new_sentence)\r\n",
        "#         pred_train_elmo = self.predict_train_elmo(new_sentence)\r\n",
        "\r\n",
        "#         # if np.max(pred[0])>=0.6:\r\n",
        "#         #     return np.argmax(pred[0]), np.max(pred[0])\r\n",
        "#         #     print('%.2f'%(np.max(pred[0])*100) +'% 의 확률로 ',emotion_dic[np.argmax(pred[0])])\r\n",
        "#         # #return pred_base\r\n",
        "#         # else:\r\n",
        "#         #voting_pred = self.soft_voting_ensemble(pred_train_elmo[0], pred_base)\r\n",
        "#         return pred_base\r\n",
        "#         #return np.argmax(voting_pred[0]), np.max(voting_pred[0])/2\r\n",
        "#             #print('%.2f'%(np.max(voting_pred[0])*100/3) +'% 의 확률로 ',emotion_dic[np.argmax(voting_pred[0])])\r\n",
        "\r\n"
      ],
      "execution_count": null,
      "outputs": []
    },
    {
      "cell_type": "code",
      "metadata": {
        "id": "VtGN64i99EUD"
      },
      "source": [
        "import pandas as pd\r\n",
        "import numpy as np \r\n",
        "from models import predict"
      ],
      "execution_count": null,
      "outputs": []
    },
    {
      "cell_type": "code",
      "metadata": {
        "colab": {
          "base_uri": "https://localhost:8080/"
        },
        "id": "30HN0esnOq2X",
        "outputId": "fff6d2de-62e4-43f4-b698-83bc2011668c"
      },
      "source": [
        "predict_class= predict()"
      ],
      "execution_count": null,
      "outputs": [
        {
          "output_type": "stream",
          "text": [
            "WARNING:tensorflow:From /tensorflow-1.15.2/python3.6/tensorflow_core/python/keras/initializers.py:119: calling RandomUniform.__init__ (from tensorflow.python.ops.init_ops) with dtype is deprecated and will be removed in a future version.\n",
            "Instructions for updating:\n",
            "Call initializer instance with the dtype argument instead of passing it to the constructor\n"
          ],
          "name": "stdout"
        },
        {
          "output_type": "stream",
          "text": [
            "WARNING:tensorflow:From /tensorflow-1.15.2/python3.6/tensorflow_core/python/keras/initializers.py:119: calling RandomUniform.__init__ (from tensorflow.python.ops.init_ops) with dtype is deprecated and will be removed in a future version.\n",
            "Instructions for updating:\n",
            "Call initializer instance with the dtype argument instead of passing it to the constructor\n"
          ],
          "name": "stderr"
        },
        {
          "output_type": "stream",
          "text": [
            "WARNING:tensorflow:From /tensorflow-1.15.2/python3.6/tensorflow_core/python/ops/resource_variable_ops.py:1630: calling BaseResourceVariable.__init__ (from tensorflow.python.ops.resource_variable_ops) with constraint is deprecated and will be removed in a future version.\n",
            "Instructions for updating:\n",
            "If using Keras pass *_constraint arguments to layers.\n"
          ],
          "name": "stdout"
        },
        {
          "output_type": "stream",
          "text": [
            "WARNING:tensorflow:From /tensorflow-1.15.2/python3.6/tensorflow_core/python/ops/resource_variable_ops.py:1630: calling BaseResourceVariable.__init__ (from tensorflow.python.ops.resource_variable_ops) with constraint is deprecated and will be removed in a future version.\n",
            "Instructions for updating:\n",
            "If using Keras pass *_constraint arguments to layers.\n"
          ],
          "name": "stderr"
        },
        {
          "output_type": "stream",
          "text": [
            "WARNING:tensorflow:From /tensorflow-1.15.2/python3.6/tensorflow_core/python/ops/init_ops.py:97: calling GlorotUniform.__init__ (from tensorflow.python.ops.init_ops) with dtype is deprecated and will be removed in a future version.\n",
            "Instructions for updating:\n",
            "Call initializer instance with the dtype argument instead of passing it to the constructor\n"
          ],
          "name": "stdout"
        },
        {
          "output_type": "stream",
          "text": [
            "WARNING:tensorflow:From /tensorflow-1.15.2/python3.6/tensorflow_core/python/ops/init_ops.py:97: calling GlorotUniform.__init__ (from tensorflow.python.ops.init_ops) with dtype is deprecated and will be removed in a future version.\n",
            "Instructions for updating:\n",
            "Call initializer instance with the dtype argument instead of passing it to the constructor\n"
          ],
          "name": "stderr"
        },
        {
          "output_type": "stream",
          "text": [
            "WARNING:tensorflow:From /tensorflow-1.15.2/python3.6/tensorflow_core/python/ops/init_ops.py:97: calling Orthogonal.__init__ (from tensorflow.python.ops.init_ops) with dtype is deprecated and will be removed in a future version.\n",
            "Instructions for updating:\n",
            "Call initializer instance with the dtype argument instead of passing it to the constructor\n"
          ],
          "name": "stdout"
        },
        {
          "output_type": "stream",
          "text": [
            "WARNING:tensorflow:From /tensorflow-1.15.2/python3.6/tensorflow_core/python/ops/init_ops.py:97: calling Orthogonal.__init__ (from tensorflow.python.ops.init_ops) with dtype is deprecated and will be removed in a future version.\n",
            "Instructions for updating:\n",
            "Call initializer instance with the dtype argument instead of passing it to the constructor\n"
          ],
          "name": "stderr"
        },
        {
          "output_type": "stream",
          "text": [
            "WARNING:tensorflow:From /tensorflow-1.15.2/python3.6/tensorflow_core/python/ops/init_ops.py:97: calling Zeros.__init__ (from tensorflow.python.ops.init_ops) with dtype is deprecated and will be removed in a future version.\n",
            "Instructions for updating:\n",
            "Call initializer instance with the dtype argument instead of passing it to the constructor\n"
          ],
          "name": "stdout"
        },
        {
          "output_type": "stream",
          "text": [
            "WARNING:tensorflow:From /tensorflow-1.15.2/python3.6/tensorflow_core/python/ops/init_ops.py:97: calling Zeros.__init__ (from tensorflow.python.ops.init_ops) with dtype is deprecated and will be removed in a future version.\n",
            "Instructions for updating:\n",
            "Call initializer instance with the dtype argument instead of passing it to the constructor\n"
          ],
          "name": "stderr"
        },
        {
          "output_type": "stream",
          "text": [
            "WARNING:tensorflow:From /tensorflow-1.15.2/python3.6/tensorflow_core/python/ops/math_grad.py:1424: where (from tensorflow.python.ops.array_ops) is deprecated and will be removed in a future version.\n",
            "Instructions for updating:\n",
            "Use tf.where in 2.0, which has the same broadcast rule as np.where\n"
          ],
          "name": "stdout"
        },
        {
          "output_type": "stream",
          "text": [
            "WARNING:tensorflow:From /tensorflow-1.15.2/python3.6/tensorflow_core/python/ops/math_grad.py:1424: where (from tensorflow.python.ops.array_ops) is deprecated and will be removed in a future version.\n",
            "Instructions for updating:\n",
            "Use tf.where in 2.0, which has the same broadcast rule as np.where\n"
          ],
          "name": "stderr"
        },
        {
          "output_type": "stream",
          "text": [
            "INFO:tensorflow:Saver not created because there are no variables in the graph to restore\n"
          ],
          "name": "stdout"
        },
        {
          "output_type": "stream",
          "text": [
            "INFO:tensorflow:Saver not created because there are no variables in the graph to restore\n"
          ],
          "name": "stderr"
        },
        {
          "output_type": "stream",
          "text": [
            "INFO:tensorflow:Saver not created because there are no variables in the graph to restore\n"
          ],
          "name": "stdout"
        },
        {
          "output_type": "stream",
          "text": [
            "INFO:tensorflow:Saver not created because there are no variables in the graph to restore\n"
          ],
          "name": "stderr"
        }
      ]
    },
    {
      "cell_type": "code",
      "metadata": {
        "id": "E0_rsfB0Pn8g"
      },
      "source": [
        "anger = pd.read_csv('insta_anger3.csv',encoding='cp949')\r\n",
        "anger = pd.concat([anger, pd.read_csv('insta_anger2.csv', encoding = 'cp949')])\r\n",
        "# anger = pd.concat([anger, pd.read_csv('insta_anger3.csv', encoding = 'cp949')])\r\n"
      ],
      "execution_count": null,
      "outputs": []
    },
    {
      "cell_type": "code",
      "metadata": {
        "id": "vLqrR-iZQ8s-"
      },
      "source": [
        "anger = anger.dropna()['senten']"
      ],
      "execution_count": null,
      "outputs": []
    },
    {
      "cell_type": "code",
      "metadata": {
        "id": "mtOPPs7PQ-3x"
      },
      "source": [
        "sad = pd.read_csv('insta_sadness.csv', encoding = 'cp949')\r\n",
        "sad = pd.concat([sad, pd.read_csv('insta_sadness3.csv', encoding = 'cp949')])\r\n",
        "sad = pd.concat([sad, pd.read_csv('insta_sadness4.csv', encoding = 'cp949')])\r\n",
        "#sad= pd.concat([sad, pd.read_csv('insta_sadness2.csv', encoding = 'cp949')])\r\n",
        "sad = sad.dropna()['senten']"
      ],
      "execution_count": null,
      "outputs": []
    },
    {
      "cell_type": "code",
      "metadata": {
        "id": "rjzmK866RKZH"
      },
      "source": [
        "happy = pd.read_csv('insta_happy5.csv', encoding = 'cp949')\r\n",
        "happy = pd.concat([happy, pd.read_csv('insta_happy2.csv', encoding = 'cp949')])\r\n",
        "happy = pd.concat([happy, pd.read_csv('insta_happy3.csv', encoding = 'cp949')])\r\n",
        "happy = happy.dropna()['senten']"
      ],
      "execution_count": null,
      "outputs": []
    },
    {
      "cell_type": "code",
      "metadata": {
        "id": "gl7Lt_eW634b"
      },
      "source": [
        "# meh = pd.read_csv('insta_meh.csv', encoding='cp949')\r\n",
        "# meh = meh.dropna()['senten']"
      ],
      "execution_count": null,
      "outputs": []
    },
    {
      "cell_type": "code",
      "metadata": {
        "id": "lu36pLfXRPr_",
        "colab": {
          "base_uri": "https://localhost:8080/"
        },
        "outputId": "dcc48683-33ed-43bc-e188-742918df14dd"
      },
      "source": [
        "len(sad)#335 -> 282 ->205->419\r\n",
        "len(happy)#240 ->258 -> 501-> 632 ->187 ->566\r\n",
        "#len(anger)#119 -> 262 ->564 ->458\r\n",
        "#len(meh)#302"
      ],
      "execution_count": null,
      "outputs": [
        {
          "output_type": "execute_result",
          "data": {
            "text/plain": [
              "566"
            ]
          },
          "metadata": {
            "tags": []
          },
          "execution_count": 33
        }
      ]
    },
    {
      "cell_type": "code",
      "metadata": {
        "id": "dPtpUB_SRQdo",
        "colab": {
          "base_uri": "https://localhost:8080/"
        },
        "outputId": "ce4b6ef2-4f2a-4372-e137-b667d312b2ca"
      },
      "source": [
        "test_D = []\r\n",
        "test_D.extend(sad)\r\n",
        "test_D.extend(happy)\r\n",
        "test_D.extend(anger)\r\n",
        "#test_D.extend(meh)\r\n",
        "len(test_D) #1157 -> 1531 -1086"
      ],
      "execution_count": null,
      "outputs": [
        {
          "output_type": "execute_result",
          "data": {
            "text/plain": [
              "1443"
            ]
          },
          "metadata": {
            "tags": []
          },
          "execution_count": 38
        }
      ]
    },
    {
      "cell_type": "code",
      "metadata": {
        "id": "ge4c_ROJSW1J",
        "colab": {
          "base_uri": "https://localhost:8080/"
        },
        "outputId": "982d2246-84bf-4bc7-d82c-b9ed3036c605"
      },
      "source": [
        "#화남 슬픔 중립  행복\r\n",
        "sad_L = [1] * len(sad)\r\n",
        "happy_L = [3] * len(happy)\r\n",
        "anger_L = [0] * len(anger)\r\n",
        "#meh_L = [2] * len(meh)\r\n",
        "test_L = []\r\n",
        "test_L.extend(sad_L)\r\n",
        "test_L.extend(happy_L)\r\n",
        "test_L.extend(anger_L)\r\n",
        "#test_L.extend(meh_L)\r\n",
        "len(test_L)"
      ],
      "execution_count": null,
      "outputs": [
        {
          "output_type": "execute_result",
          "data": {
            "text/plain": [
              "1443"
            ]
          },
          "metadata": {
            "tags": []
          },
          "execution_count": 39
        }
      ]
    },
    {
      "cell_type": "code",
      "metadata": {
        "id": "AU4GBSYTSLhC"
      },
      "source": [
        "new_dataset = {}\r\n",
        "new_dataset['Emotion'] = test_L\r\n",
        "new_dataset['Sentence'] = test_D\r\n",
        "pd.DataFrame(new_dataset).to_csv('insta_dataset.csv', index = False)"
      ],
      "execution_count": null,
      "outputs": []
    },
    {
      "cell_type": "code",
      "metadata": {
        "id": "mKdxtQhQGg77"
      },
      "source": [
        "aihub_dataset = pd.read_csv('AIHub_test_dataset.csv')\r\n",
        "hub_test_D = aihub_dataset['Sentence']\r\n",
        "hub_test_L = aihub_dataset['Emotion']"
      ],
      "execution_count": null,
      "outputs": []
    },
    {
      "cell_type": "code",
      "metadata": {
        "id": "vUVrFVNq5akR"
      },
      "source": [
        "print(len(new_dataset))\r\n",
        "print(len(aihub_dataset))"
      ],
      "execution_count": null,
      "outputs": []
    },
    {
      "cell_type": "code",
      "metadata": {
        "id": "k0M7MDxJrDXG"
      },
      "source": [
        "prediction_hub = []\r\n",
        "percentage_hub = []\r\n",
        "for test in hub_test_D:\r\n",
        "  pred, percent = predict_class.predict(test)\r\n",
        "  prediction_hub.append(pred)\r\n",
        "  percentage_hub.append(percent)\r\n",
        "# = predict_class.predict(test_D)"
      ],
      "execution_count": null,
      "outputs": []
    },
    {
      "cell_type": "code",
      "metadata": {
        "id": "knIjLqJjS71a"
      },
      "source": [
        "prediction = []\r\n",
        "percentage = []\r\n",
        "for test in test_D:\r\n",
        "  pred, percent = predict_class.predict(test)\r\n",
        "  prediction.append(pred)\r\n",
        "  percentage.append(percent)\r\n",
        "# = predict_class.predict(test_D)"
      ],
      "execution_count": null,
      "outputs": []
    },
    {
      "cell_type": "code",
      "metadata": {
        "colab": {
          "base_uri": "https://localhost:8080/"
        },
        "id": "DePOdkklIwzN",
        "outputId": "b7ac65e1-58d5-4a31-d474-e4aeefeda900"
      },
      "source": [
        "# from sklearn.metrics import precision_recall_fscore_support, accuracy_score, confusion_matrix\r\n",
        "# print('accuracy:', accuracy_score(sad_L, prediction)) #0.61"
      ],
      "execution_count": null,
      "outputs": [
        {
          "output_type": "stream",
          "text": [
            "accuracy: 0.6420047732696897\n"
          ],
          "name": "stdout"
        }
      ]
    },
    {
      "cell_type": "code",
      "metadata": {
        "id": "yWar04x4L6o3",
        "colab": {
          "base_uri": "https://localhost:8080/"
        },
        "outputId": "c0bdd12e-ef3a-465f-84df-821c8be901c9"
      },
      "source": [
        "# pred  = predict_class.predict('한번 아프고 나더니')\r\n",
        "# print(pred)\r\n"
      ],
      "execution_count": null,
      "outputs": [
        {
          "output_type": "stream",
          "text": [
            "(1, 0.94688046)\n"
          ],
          "name": "stdout"
        }
      ]
    },
    {
      "cell_type": "code",
      "metadata": {
        "colab": {
          "base_uri": "https://localhost:8080/"
        },
        "id": "_GkLSIM46Z2Z",
        "outputId": "129b884c-69d3-4f52-e068-c395589d2490"
      },
      "source": [
        "np.array(prediction).shape"
      ],
      "execution_count": null,
      "outputs": [
        {
          "output_type": "execute_result",
          "data": {
            "text/plain": [
              "(1767,)"
            ]
          },
          "metadata": {
            "tags": []
          },
          "execution_count": 21
        }
      ]
    },
    {
      "cell_type": "code",
      "metadata": {
        "id": "OBDIJjO5CZ1g"
      },
      "source": [
        "# pred = []\r\n",
        "# for p in prediction:\r\n",
        "#   pred.append(np.argmax(p))\r\n",
        "# prediction = pred"
      ],
      "execution_count": null,
      "outputs": []
    },
    {
      "cell_type": "code",
      "metadata": {
        "id": "FU6jVGm_S892",
        "colab": {
          "base_uri": "https://localhost:8080/",
          "height": 771
        },
        "outputId": "1e80e54c-4465-4a1c-ddd3-9826bee5adf6"
      },
      "source": [
        "from sklearn.metrics import precision_recall_fscore_support, accuracy_score, confusion_matrix\r\n",
        "# prediction = []\r\n",
        "# for p in pred:\r\n",
        "#   prediction.append(np.argmax(p))\r\n",
        "\r\n",
        "print('accuracy:', accuracy_score(test_L, prediction))\r\n",
        "#test_L\r\n",
        "#prediction\r\n",
        "confusion = confusion_matrix(test_L, prediction)\r\n",
        "import seaborn as sns\r\n",
        "import matplotlib.pyplot as plt \r\n",
        "plt.figure(figsize = (12,12))\r\n",
        "sns.heatmap(confusion, annot = True)\r\n",
        "accuracy_result = accuracy_score(test_L, prediction)\r\n",
        "result = precision_recall_fscore_support(test_L, prediction)\r\n",
        "confusion = confusion_matrix(test_L, prediction)"
      ],
      "execution_count": null,
      "outputs": [
        {
          "output_type": "stream",
          "text": [
            "accuracy: 0.6243936243936244\n"
          ],
          "name": "stdout"
        },
        {
          "output_type": "stream",
          "text": [
            "/usr/local/lib/python3.6/dist-packages/sklearn/metrics/_classification.py:1272: UndefinedMetricWarning: Recall and F-score are ill-defined and being set to 0.0 in labels with no true samples. Use `zero_division` parameter to control this behavior.\n",
            "  _warn_prf(average, modifier, msg_start, len(result))\n"
          ],
          "name": "stderr"
        },
        {
          "output_type": "display_data",
          "data": {
            "image/png": "[encoded data removed]",
            "text/plain": [
              "<Figure size 864x864 with 2 Axes>"
            ]
          },
          "metadata": {
            "tags": [],
            "needs_background": "light"
          }
        }
      ]
    },
    {
      "cell_type": "code",
      "metadata": {
        "id": "1vWGQT1uUYr-",
        "colab": {
          "base_uri": "https://localhost:8080/",
          "height": 717
        },
        "outputId": "aaa39b48-fdba-44da-906a-895acf0bc7cf"
      },
      "source": [
        "from sklearn.metrics import precision_recall_fscore_support, accuracy_score, confusion_matrix\r\n",
        "# prediction = []\r\n",
        "# for p in pred:\r\n",
        "#   prediction.append(np.argmax(p))\r\n",
        "\r\n",
        "print('accuracy:', accuracy_score(hub_test_L, prediction_hub))\r\n",
        "#test_L\r\n",
        "#prediction\r\n",
        "confusion = confusion_matrix(hub_test_L, prediction_hub)\r\n",
        "import seaborn as sns\r\n",
        "import matplotlib.pyplot as plt \r\n",
        "plt.figure(figsize = (12,12))\r\n",
        "sns.heatmap(confusion, annot = True)\r\n",
        "hub_accuracy_result = accuracy_score(hub_test_L, prediction_hub)\r\n",
        "hub_result = precision_recall_fscore_support(hub_test_L, prediction_hub)\r\n",
        "hub_confusion = confusion_matrix(hub_test_L, prediction_hub)"
      ],
      "execution_count": null,
      "outputs": [
        {
          "output_type": "stream",
          "text": [
            "accuracy: 0.6121559633027523\n"
          ],
          "name": "stdout"
        },
        {
          "output_type": "display_data",
          "data": {
            "image/png": "[encoded data removed]",
            "text/plain": [
              "<Figure size 864x864 with 2 Axes>"
            ]
          },
          "metadata": {
            "tags": [],
            "needs_background": "light"
          }
        }
      ]
    },
    {
      "cell_type": "code",
      "metadata": {
        "id": "oUiyxHtTU6nu",
        "colab": {
          "base_uri": "https://localhost:8080/"
        },
        "outputId": "5b2ed620-47eb-4231-a59c-e20e3964e821"
      },
      "source": [
        "print(accuracy_result)\r\n",
        "print(result) #precision, recall, fbeta_score, support"
      ],
      "execution_count": null,
      "outputs": [
        {
          "output_type": "stream",
          "text": [
            "0.6243936243936244\n",
            "(array([0.78277154, 0.57725322, 0.        , 0.78333333]), array([0.45633188, 0.64200477, 0.        , 0.74734982]), array([0.57655172, 0.6079096 , 0.        , 0.76491863]), array([458, 419,   0, 566]))\n"
          ],
          "name": "stdout"
        }
      ]
    },
    {
      "cell_type": "code",
      "metadata": {
        "id": "LlcKBbHTVwgR",
        "colab": {
          "base_uri": "https://localhost:8080/"
        },
        "outputId": "e63de8d0-ec3b-4cab-d3b2-9bae89c7584f"
      },
      "source": [
        "print(hub_accuracy_result)\r\n",
        "print(hub_result)"
      ],
      "execution_count": null,
      "outputs": [
        {
          "output_type": "stream",
          "text": [
            "0.6121559633027523\n",
            "(array([0.62707641, 0.5689243 , 0.43302991, 0.76590106]), array([0.63820795, 0.71543086, 0.33704453, 0.7279597 ]), array([0.63259321, 0.63382157, 0.37905521, 0.74644856]), array([1183,  998,  988, 1191]))\n"
          ],
          "name": "stdout"
        }
      ]
    },
    {
      "cell_type": "code",
      "metadata": {
        "id": "cGIcz458b-5a",
        "colab": {
          "base_uri": "https://localhost:8080/"
        },
        "outputId": "5a2c5202-ddbd-4ba0-cb27-41a2babbd2ab"
      },
      "source": [
        "happy"
      ],
      "execution_count": null,
      "outputs": [
        {
          "output_type": "execute_result",
          "data": {
            "text/plain": [
              "1      메리 크리스마스 바람이 엄청 부네요 장박에 금사리 속닥 하이 둘이서 파티 너무 따뜻...\n",
              "2      케이크 풍년이어라 코코에서 케이크 선물 주신 분 복받으실 거예요 저는 작은 한 조각...\n",
              "3      직징인고마워미희야구름녹차라떼뷰브케이크존맛탱비쥬얼짱카페민트제이홍데입구역브러치카페앉자서...\n",
              "4      집콕클수마스끗월요일이라니이번생일은가족과함께하구축하도많이받아너무행복했떠요이번주도일만더...\n",
              "5      직장인 고마워 미희야 내 인생 상큼한 휴식 직장으로 이젠 삶 속 사진 추억 매일 사...\n",
              "                             ...                        \n",
              "490                                           행복했던 크리스마스\n",
              "491                                         그녀와 함께 여행 일차\n",
              "493                                              좋았었던 그날\n",
              "495                                             메리 크리스마스\n",
              "496                                       함께 보내는 첫 크리스마스\n",
              "Name: senten, Length: 566, dtype: object"
            ]
          },
          "metadata": {
            "tags": []
          },
          "execution_count": 27
        }
      ]
    },
    {
      "cell_type": "code",
      "metadata": {
        "id": "QuiQMCHpcib9"
      },
      "source": [
        ""
      ],
      "execution_count": null,
      "outputs": []
    }
  ]
}