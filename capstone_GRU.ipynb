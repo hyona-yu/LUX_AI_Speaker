{
  "nbformat": 4,
  "nbformat_minor": 0,
  "metadata": {
    "colab": {
      "name": "capstone_GRU.ipynb",
      "provenance": [],
      "collapsed_sections": [],
      "toc_visible": true,
      "authorship_tag": "ABX9TyP1dDpGzM8IcAnhjStPh3mg",
      "include_colab_link": true
    },
    "kernelspec": {
      "name": "python3",
      "display_name": "Python 3"
    }
  },
  "cells": [
    {
      "cell_type": "markdown",
      "metadata": {
        "id": "view-in-github",
        "colab_type": "text"
      },
      "source": [
        "<a href=\"https://colab.research.google.com/github/hyona-yu/LUX_AI_Speaker/blob/main/capstone_GRU.ipynb\" target=\"_parent\"><img src=\"https://colab.research.google.com/assets/colab-badge.svg\" alt=\"Open In Colab\"/></a>"
      ]
    },
    {
      "cell_type": "code",
      "metadata": {
        "id": "eIKhOXFS_Leq",
        "colab": {
          "base_uri": "https://localhost:8080/"
        },
        "outputId": "e9fd948a-9e81-44b5-b947-dea37c87645f"
      },
      "source": [
        "%tensorflow_version 1.x"
      ],
      "execution_count": null,
      "outputs": [
        {
          "output_type": "stream",
          "text": [
            "TensorFlow 1.x selected.\n"
          ],
          "name": "stdout"
        }
      ]
    },
    {
      "cell_type": "code",
      "metadata": {
        "id": "2bZcbXcFPONm",
        "colab": {
          "base_uri": "https://localhost:8080/"
        },
        "outputId": "6b0f25c0-fc70-460f-9772-04ba8549a7d0"
      },
      "source": [
        "! pip install konlpy"
      ],
      "execution_count": null,
      "outputs": [
        {
          "output_type": "stream",
          "text": [
            "Collecting konlpy\n",
            "\u001b[?25l  Downloading https://files.pythonhosted.org/packages/85/0e/f385566fec837c0b83f216b2da65db9997b35dd675e107752005b7d392b1/konlpy-0.5.2-py2.py3-none-any.whl (19.4MB)\n",
            "\u001b[K     |████████████████████████████████| 19.4MB 1.2MB/s \n",
            "\u001b[?25hRequirement already satisfied: lxml>=4.1.0 in /usr/local/lib/python3.6/dist-packages (from konlpy) (4.2.6)\n",
            "Collecting JPype1>=0.7.0\n",
            "\u001b[?25l  Downloading https://files.pythonhosted.org/packages/fd/96/1030895dea70855a2e1078e3fe0d6a63dcb7c212309e07dc9ee39d33af54/JPype1-1.1.2-cp36-cp36m-manylinux2010_x86_64.whl (450kB)\n",
            "\u001b[K     |████████████████████████████████| 460kB 46.9MB/s \n",
            "\u001b[?25hCollecting colorama\n",
            "  Downloading https://files.pythonhosted.org/packages/44/98/5b86278fbbf250d239ae0ecb724f8572af1c91f4a11edf4d36a206189440/colorama-0.4.4-py2.py3-none-any.whl\n",
            "Collecting tweepy>=3.7.0\n",
            "  Downloading https://files.pythonhosted.org/packages/bb/7c/99d51f80f3b77b107ebae2634108717362c059a41384a1810d13e2429a81/tweepy-3.9.0-py2.py3-none-any.whl\n",
            "Collecting beautifulsoup4==4.6.0\n",
            "\u001b[?25l  Downloading https://files.pythonhosted.org/packages/9e/d4/10f46e5cfac773e22707237bfcd51bbffeaf0a576b0a847ec7ab15bd7ace/beautifulsoup4-4.6.0-py3-none-any.whl (86kB)\n",
            "\u001b[K     |████████████████████████████████| 92kB 11.1MB/s \n",
            "\u001b[?25hRequirement already satisfied: numpy>=1.6 in /usr/local/lib/python3.6/dist-packages (from konlpy) (1.18.5)\n",
            "Requirement already satisfied: typing-extensions; python_version < \"3.8\" in /usr/local/lib/python3.6/dist-packages (from JPype1>=0.7.0->konlpy) (3.7.4.3)\n",
            "Requirement already satisfied: requests-oauthlib>=0.7.0 in /usr/local/lib/python3.6/dist-packages (from tweepy>=3.7.0->konlpy) (1.3.0)\n",
            "Requirement already satisfied: requests[socks]>=2.11.1 in /usr/local/lib/python3.6/dist-packages (from tweepy>=3.7.0->konlpy) (2.23.0)\n",
            "Requirement already satisfied: six>=1.10.0 in /usr/local/lib/python3.6/dist-packages (from tweepy>=3.7.0->konlpy) (1.15.0)\n",
            "Requirement already satisfied: oauthlib>=3.0.0 in /usr/local/lib/python3.6/dist-packages (from requests-oauthlib>=0.7.0->tweepy>=3.7.0->konlpy) (3.1.0)\n",
            "Requirement already satisfied: chardet<4,>=3.0.2 in /usr/local/lib/python3.6/dist-packages (from requests[socks]>=2.11.1->tweepy>=3.7.0->konlpy) (3.0.4)\n",
            "Requirement already satisfied: certifi>=2017.4.17 in /usr/local/lib/python3.6/dist-packages (from requests[socks]>=2.11.1->tweepy>=3.7.0->konlpy) (2020.6.20)\n",
            "Requirement already satisfied: urllib3!=1.25.0,!=1.25.1,<1.26,>=1.21.1 in /usr/local/lib/python3.6/dist-packages (from requests[socks]>=2.11.1->tweepy>=3.7.0->konlpy) (1.24.3)\n",
            "Requirement already satisfied: idna<3,>=2.5 in /usr/local/lib/python3.6/dist-packages (from requests[socks]>=2.11.1->tweepy>=3.7.0->konlpy) (2.10)\n",
            "Requirement already satisfied: PySocks!=1.5.7,>=1.5.6; extra == \"socks\" in /usr/local/lib/python3.6/dist-packages (from requests[socks]>=2.11.1->tweepy>=3.7.0->konlpy) (1.7.1)\n",
            "Installing collected packages: JPype1, colorama, tweepy, beautifulsoup4, konlpy\n",
            "  Found existing installation: tweepy 3.6.0\n",
            "    Uninstalling tweepy-3.6.0:\n",
            "      Successfully uninstalled tweepy-3.6.0\n",
            "  Found existing installation: beautifulsoup4 4.6.3\n",
            "    Uninstalling beautifulsoup4-4.6.3:\n",
            "      Successfully uninstalled beautifulsoup4-4.6.3\n",
            "Successfully installed JPype1-1.1.2 beautifulsoup4-4.6.0 colorama-0.4.4 konlpy-0.5.2 tweepy-3.9.0\n"
          ],
          "name": "stdout"
        }
      ]
    },
    {
      "cell_type": "code",
      "metadata": {
        "id": "cVcskUbkPCMJ"
      },
      "source": [
        "import pandas as pd\n",
        "import numpy as np\n",
        "%matplotlib inline\n",
        "import matplotlib.pyplot as plt\n",
        "import re\n",
        "import urllib.request\n",
        "from konlpy.tag import Okt\n",
        "from tensorflow.keras.preprocessing.text import Tokenizer\n",
        "from tensorflow.keras.preprocessing.sequence import pad_sequences\n",
        "import re"
      ],
      "execution_count": null,
      "outputs": []
    },
    {
      "cell_type": "code",
      "metadata": {
        "id": "fbkFMXkkPTnE"
      },
      "source": [
        "class Emotion:\n",
        "  def __init__(self, data, test_data, data_label, test_label):\n",
        "    self.tokenizer = Tokenizer()\n",
        "    self.okt = Okt()\n",
        "    self. stopwords = ['백주부','ㅋ','ㅎ','ㅠ','ㅜㅜ','^^','의','(','가','이','은','들','는','좀','잘','걍','과','도','를','으로','자','에','와','한','하다', 'ㄴ','ㅠ',',','0',';','ㅜ','/','~','!','?','♥♥','♡♡','♡','♥']\n",
        "\n",
        "    self.train_D = self.tokenize(data)\n",
        "    self.test_D = self.tokenize(test_data)\n",
        "    self.train_L = np.array(data_label)\n",
        "    self.test_L = np.array(test_label)\n",
        "    self.tokenizer.fit_on_texts(self.train_D)\n",
        "\n",
        "\n",
        "    #drop_train = [index for index, sentence in enumerate(X_train) if len(sentence) < 1]\n",
        "\n",
        "  def tokenize(self, data):\n",
        "    emoji_pattern = re.compile(\"[\"\n",
        "        u\"\\U0001F600-\\U0001F64F\"  # emoticons\n",
        "        u\"\\U0001F300-\\U0001F5FF\"  # symbols & pictographs\n",
        "        u\"\\U0001F680-\\U0001F6FF\"  # transport & map symbols\n",
        "        u\"\\U0001F1E0-\\U0001F1FF\"  # flags (iOS)\n",
        "                           \"]+\", flags=re.UNICODE)\n",
        "    han = re.compile(r'[ㄱ-ㅎㅏ-ㅣ!?~,\".\\n\\r#\\ufeff\\u200d]')\n",
        "\n",
        "    arr  =[]\n",
        "    for sen in data:\n",
        "      sen = re.sub(emoji_pattern, \"\", sen)\n",
        "      sen = re.sub(han, \"\", sen)\n",
        "      temp = self.okt.morphs(sen, stem = True)#True\n",
        "      temp = [word for word in temp if not word in self.stopwords]\n",
        "      arr.append(temp)\n",
        "    return arr\n",
        "\n"
      ],
      "execution_count": null,
      "outputs": []
    },
    {
      "cell_type": "code",
      "metadata": {
        "id": "0l-0mLNAS9xL"
      },
      "source": [
        "import pandas as pd \n",
        "dataset = pd.read_excel('한국어_단발성_대화_데이터셋.xlsx', usecols = ['Sentence','Emotion'],)"
      ],
      "execution_count": null,
      "outputs": []
    },
    {
      "cell_type": "code",
      "metadata": {
        "id": "bHhxIONgVo_M"
      },
      "source": [
        "data_csv = pd.DataFrame(dataset)"
      ],
      "execution_count": null,
      "outputs": []
    },
    {
      "cell_type": "code",
      "metadata": {
        "id": "ZWIRCStaWkKs"
      },
      "source": [
        "#공포 놀람 분노 슬픔 중립 행복 혐오 "
      ],
      "execution_count": null,
      "outputs": []
    },
    {
      "cell_type": "code",
      "metadata": {
        "id": "JRTwnyUojd22"
      },
      "source": [
        "#분노 슬픔 중립 행복"
      ],
      "execution_count": null,
      "outputs": []
    },
    {
      "cell_type": "code",
      "metadata": {
        "id": "t6jf8fOzV7qV",
        "colab": {
          "base_uri": "https://localhost:8080/"
        },
        "outputId": "dcbe15ab-3714-42d7-a7ec-86e3a002e027"
      },
      "source": [
        "from sklearn.preprocessing import LabelEncoder\n",
        "one = LabelEncoder()\n",
        "data_csv['Emotion'] = one.fit_transform(np.array(data_csv['Emotion']).reshape(-1,1))\n"
      ],
      "execution_count": null,
      "outputs": [
        {
          "output_type": "stream",
          "text": [
            "/usr/local/lib/python3.6/dist-packages/sklearn/preprocessing/_label.py:251: DataConversionWarning: A column-vector y was passed when a 1d array was expected. Please change the shape of y to (n_samples, ), for example using ravel().\n",
            "  y = column_or_1d(y, warn=True)\n"
          ],
          "name": "stderr"
        }
      ]
    },
    {
      "cell_type": "code",
      "metadata": {
        "id": "d0s1t2ANi_MQ",
        "colab": {
          "base_uri": "https://localhost:8080/",
          "height": 399
        },
        "outputId": "e1e88130-7f94-4e4e-b2ec-7dd0145c75c4"
      },
      "source": [
        "data_csv[data_csv['Emotion']== 1]"
      ],
      "execution_count": null,
      "outputs": [
        {
          "output_type": "execute_result",
          "data": {
            "text/html": [
              "<div>\n",
              "<style scoped>\n",
              "    .dataframe tbody tr th:only-of-type {\n",
              "        vertical-align: middle;\n",
              "    }\n",
              "\n",
              "    .dataframe tbody tr th {\n",
              "        vertical-align: top;\n",
              "    }\n",
              "\n",
              "    .dataframe thead th {\n",
              "        text-align: right;\n",
              "    }\n",
              "</style>\n",
              "<table border=\"1\" class=\"dataframe\">\n",
              "  <thead>\n",
              "    <tr style=\"text-align: right;\">\n",
              "      <th></th>\n",
              "      <th>Sentence</th>\n",
              "      <th>Emotion</th>\n",
              "    </tr>\n",
              "  </thead>\n",
              "  <tbody>\n",
              "    <tr>\n",
              "      <th>5468</th>\n",
              "      <td>7로 나온다든데 아니었나</td>\n",
              "      <td>1</td>\n",
              "    </tr>\n",
              "    <tr>\n",
              "      <th>5469</th>\n",
              "      <td>의사양반 내가고자라니!</td>\n",
              "      <td>1</td>\n",
              "    </tr>\n",
              "    <tr>\n",
              "      <th>5470</th>\n",
              "      <td>이 사람 얼굴이 약간 전라도 사람처럼 생겼네</td>\n",
              "      <td>1</td>\n",
              "    </tr>\n",
              "    <tr>\n",
              "      <th>5471</th>\n",
              "      <td>아직도 안잡았냐??</td>\n",
              "      <td>1</td>\n",
              "    </tr>\n",
              "    <tr>\n",
              "      <th>5472</th>\n",
              "      <td>이분 ~~진짜 욕먹는건 이제 신의 영역에 들어선거같다~~ㅋㅋ</td>\n",
              "      <td>1</td>\n",
              "    </tr>\n",
              "    <tr>\n",
              "      <th>...</th>\n",
              "      <td>...</td>\n",
              "      <td>...</td>\n",
              "    </tr>\n",
              "    <tr>\n",
              "      <th>11361</th>\n",
              "      <td>시대가 어느시대인데 사람이 뽑냐</td>\n",
              "      <td>1</td>\n",
              "    </tr>\n",
              "    <tr>\n",
              "      <th>11362</th>\n",
              "      <td>진심 내 인생 드라마임..</td>\n",
              "      <td>1</td>\n",
              "    </tr>\n",
              "    <tr>\n",
              "      <th>11363</th>\n",
              "      <td>대단하다... 진짜</td>\n",
              "      <td>1</td>\n",
              "    </tr>\n",
              "    <tr>\n",
              "      <th>11364</th>\n",
              "      <td>헐 김종민이가 대상급인가?</td>\n",
              "      <td>1</td>\n",
              "    </tr>\n",
              "    <tr>\n",
              "      <th>11365</th>\n",
              "      <td>7로 나온다든데 아니었나</td>\n",
              "      <td>1</td>\n",
              "    </tr>\n",
              "  </tbody>\n",
              "</table>\n",
              "<p>5898 rows × 2 columns</p>\n",
              "</div>"
            ],
            "text/plain": [
              "                                Sentence  Emotion\n",
              "5468                       7로 나온다든데 아니었나        1\n",
              "5469                        의사양반 내가고자라니!        1\n",
              "5470            이 사람 얼굴이 약간 전라도 사람처럼 생겼네        1\n",
              "5471                          아직도 안잡았냐??        1\n",
              "5472   이분 ~~진짜 욕먹는건 이제 신의 영역에 들어선거같다~~ㅋㅋ        1\n",
              "...                                  ...      ...\n",
              "11361                  시대가 어느시대인데 사람이 뽑냐        1\n",
              "11362                     진심 내 인생 드라마임..        1\n",
              "11363                         대단하다... 진짜        1\n",
              "11364                     헐 김종민이가 대상급인가?        1\n",
              "11365                      7로 나온다든데 아니었나        1\n",
              "\n",
              "[5898 rows x 2 columns]"
            ]
          },
          "metadata": {
            "tags": []
          },
          "execution_count": 1162
        }
      ]
    },
    {
      "cell_type": "code",
      "metadata": {
        "id": "uoDtMFD-kHEo"
      },
      "source": [
        "for i in range(len(data_csv)):\n",
        "  if data_csv['Emotion'][i] == 0 or data_csv['Emotion'][i] == 1 or data_csv['Emotion'][i] == 6: #or data_csv['Emotion'][i] == 2:\n",
        "    data_csv = data_csv.drop(i)"
      ],
      "execution_count": null,
      "outputs": []
    },
    {
      "cell_type": "code",
      "metadata": {
        "id": "dTGyxvALkyCz"
      },
      "source": [
        "data_csv.to_csv('dataset.csv', index = False)"
      ],
      "execution_count": null,
      "outputs": []
    },
    {
      "cell_type": "code",
      "metadata": {
        "id": "Ebvv5JzWmQnj"
      },
      "source": [
        "data  = pd.read_csv('dataset.csv')"
      ],
      "execution_count": null,
      "outputs": []
    },
    {
      "cell_type": "code",
      "metadata": {
        "id": "cubTCpxw6tzs"
      },
      "source": [
        "#data.loc[data['Emotion'] ==3, 'Emotion']=2 #슬픔 화남 합치자"
      ],
      "execution_count": null,
      "outputs": []
    },
    {
      "cell_type": "code",
      "metadata": {
        "id": "Ibb3TDjjmSqA",
        "colab": {
          "base_uri": "https://localhost:8080/",
          "height": 399
        },
        "outputId": "f60f800a-e53a-49e6-cb47-c2f88fe82349"
      },
      "source": [
        "data"
      ],
      "execution_count": null,
      "outputs": [
        {
          "output_type": "execute_result",
          "data": {
            "text/html": [
              "<div>\n",
              "<style scoped>\n",
              "    .dataframe tbody tr th:only-of-type {\n",
              "        vertical-align: middle;\n",
              "    }\n",
              "\n",
              "    .dataframe tbody tr th {\n",
              "        vertical-align: top;\n",
              "    }\n",
              "\n",
              "    .dataframe thead th {\n",
              "        text-align: right;\n",
              "    }\n",
              "</style>\n",
              "<table border=\"1\" class=\"dataframe\">\n",
              "  <thead>\n",
              "    <tr style=\"text-align: right;\">\n",
              "      <th></th>\n",
              "      <th>Sentence</th>\n",
              "      <th>Emotion</th>\n",
              "    </tr>\n",
              "  </thead>\n",
              "  <tbody>\n",
              "    <tr>\n",
              "      <th>0</th>\n",
              "      <td>서해 수자원도 한류라서 그동안 불법조업 방치했나?</td>\n",
              "      <td>2</td>\n",
              "    </tr>\n",
              "    <tr>\n",
              "      <th>1</th>\n",
              "      <td>니가 인간이가.</td>\n",
              "      <td>2</td>\n",
              "    </tr>\n",
              "    <tr>\n",
              "      <th>2</th>\n",
              "      <td>강아지를 때리고 유기하는것만 학대는 아닙니다!</td>\n",
              "      <td>2</td>\n",
              "    </tr>\n",
              "    <tr>\n",
              "      <th>3</th>\n",
              "      <td>하여간 우리나라 교육엔 미래가 없어!!</td>\n",
              "      <td>2</td>\n",
              "    </tr>\n",
              "    <tr>\n",
              "      <th>4</th>\n",
              "      <td>채널에이 군부 개인거 인증하냐 동아일보야!!</td>\n",
              "      <td>2</td>\n",
              "    </tr>\n",
              "    <tr>\n",
              "      <th>...</th>\n",
              "      <td>...</td>\n",
              "      <td>...</td>\n",
              "    </tr>\n",
              "    <tr>\n",
              "      <th>21859</th>\n",
              "      <td>그냥 그래</td>\n",
              "      <td>4</td>\n",
              "    </tr>\n",
              "    <tr>\n",
              "      <th>21860</th>\n",
              "      <td>그저 그런 정도?</td>\n",
              "      <td>4</td>\n",
              "    </tr>\n",
              "    <tr>\n",
              "      <th>21861</th>\n",
              "      <td>좋아</td>\n",
              "      <td>5</td>\n",
              "    </tr>\n",
              "    <tr>\n",
              "      <th>21862</th>\n",
              "      <td>오 그거 좋은데?</td>\n",
              "      <td>5</td>\n",
              "    </tr>\n",
              "    <tr>\n",
              "      <th>21863</th>\n",
              "      <td>아주 훌륭해 그렇게 진행해</td>\n",
              "      <td>5</td>\n",
              "    </tr>\n",
              "  </tbody>\n",
              "</table>\n",
              "<p>21864 rows × 2 columns</p>\n",
              "</div>"
            ],
            "text/plain": [
              "                          Sentence  Emotion\n",
              "0      서해 수자원도 한류라서 그동안 불법조업 방치했나?        2\n",
              "1                         니가 인간이가.        2\n",
              "2        강아지를 때리고 유기하는것만 학대는 아닙니다!        2\n",
              "3            하여간 우리나라 교육엔 미래가 없어!!        2\n",
              "4         채널에이 군부 개인거 인증하냐 동아일보야!!        2\n",
              "...                            ...      ...\n",
              "21859                        그냥 그래        4\n",
              "21860                    그저 그런 정도?        4\n",
              "21861                           좋아        5\n",
              "21862                    오 그거 좋은데?        5\n",
              "21863               아주 훌륭해 그렇게 진행해        5\n",
              "\n",
              "[21864 rows x 2 columns]"
            ]
          },
          "metadata": {
            "tags": []
          },
          "execution_count": 1167
        }
      ]
    },
    {
      "cell_type": "code",
      "metadata": {
        "id": "x3H3eo_bdtB-",
        "colab": {
          "base_uri": "https://localhost:8080/"
        },
        "outputId": "41dedea1-a149-494e-f8a9-8c60d4121d43"
      },
      "source": [
        "from sklearn.preprocessing import LabelEncoder\n",
        "one2 = LabelEncoder()\n",
        "data['Emotion'] = one2.fit_transform(np.array(data['Emotion']).reshape(-1,1))"
      ],
      "execution_count": null,
      "outputs": [
        {
          "output_type": "stream",
          "text": [
            "/usr/local/lib/python3.6/dist-packages/sklearn/preprocessing/_label.py:251: DataConversionWarning: A column-vector y was passed when a 1d array was expected. Please change the shape of y to (n_samples, ), for example using ravel().\n",
            "  y = column_or_1d(y, warn=True)\n"
          ],
          "name": "stderr"
        }
      ]
    },
    {
      "cell_type": "code",
      "metadata": {
        "id": "J5V2L6vfxs4p",
        "colab": {
          "base_uri": "https://localhost:8080/",
          "height": 399
        },
        "outputId": "342907d9-29f4-4b81-87b1-3f3ec286d59e"
      },
      "source": [
        "data"
      ],
      "execution_count": null,
      "outputs": [
        {
          "output_type": "execute_result",
          "data": {
            "text/html": [
              "<div>\n",
              "<style scoped>\n",
              "    .dataframe tbody tr th:only-of-type {\n",
              "        vertical-align: middle;\n",
              "    }\n",
              "\n",
              "    .dataframe tbody tr th {\n",
              "        vertical-align: top;\n",
              "    }\n",
              "\n",
              "    .dataframe thead th {\n",
              "        text-align: right;\n",
              "    }\n",
              "</style>\n",
              "<table border=\"1\" class=\"dataframe\">\n",
              "  <thead>\n",
              "    <tr style=\"text-align: right;\">\n",
              "      <th></th>\n",
              "      <th>Sentence</th>\n",
              "      <th>Emotion</th>\n",
              "    </tr>\n",
              "  </thead>\n",
              "  <tbody>\n",
              "    <tr>\n",
              "      <th>0</th>\n",
              "      <td>서해 수자원도 한류라서 그동안 불법조업 방치했나?</td>\n",
              "      <td>0</td>\n",
              "    </tr>\n",
              "    <tr>\n",
              "      <th>1</th>\n",
              "      <td>니가 인간이가.</td>\n",
              "      <td>0</td>\n",
              "    </tr>\n",
              "    <tr>\n",
              "      <th>2</th>\n",
              "      <td>강아지를 때리고 유기하는것만 학대는 아닙니다!</td>\n",
              "      <td>0</td>\n",
              "    </tr>\n",
              "    <tr>\n",
              "      <th>3</th>\n",
              "      <td>하여간 우리나라 교육엔 미래가 없어!!</td>\n",
              "      <td>0</td>\n",
              "    </tr>\n",
              "    <tr>\n",
              "      <th>4</th>\n",
              "      <td>채널에이 군부 개인거 인증하냐 동아일보야!!</td>\n",
              "      <td>0</td>\n",
              "    </tr>\n",
              "    <tr>\n",
              "      <th>...</th>\n",
              "      <td>...</td>\n",
              "      <td>...</td>\n",
              "    </tr>\n",
              "    <tr>\n",
              "      <th>21859</th>\n",
              "      <td>그냥 그래</td>\n",
              "      <td>2</td>\n",
              "    </tr>\n",
              "    <tr>\n",
              "      <th>21860</th>\n",
              "      <td>그저 그런 정도?</td>\n",
              "      <td>2</td>\n",
              "    </tr>\n",
              "    <tr>\n",
              "      <th>21861</th>\n",
              "      <td>좋아</td>\n",
              "      <td>3</td>\n",
              "    </tr>\n",
              "    <tr>\n",
              "      <th>21862</th>\n",
              "      <td>오 그거 좋은데?</td>\n",
              "      <td>3</td>\n",
              "    </tr>\n",
              "    <tr>\n",
              "      <th>21863</th>\n",
              "      <td>아주 훌륭해 그렇게 진행해</td>\n",
              "      <td>3</td>\n",
              "    </tr>\n",
              "  </tbody>\n",
              "</table>\n",
              "<p>21864 rows × 2 columns</p>\n",
              "</div>"
            ],
            "text/plain": [
              "                          Sentence  Emotion\n",
              "0      서해 수자원도 한류라서 그동안 불법조업 방치했나?        0\n",
              "1                         니가 인간이가.        0\n",
              "2        강아지를 때리고 유기하는것만 학대는 아닙니다!        0\n",
              "3            하여간 우리나라 교육엔 미래가 없어!!        0\n",
              "4         채널에이 군부 개인거 인증하냐 동아일보야!!        0\n",
              "...                            ...      ...\n",
              "21859                        그냥 그래        2\n",
              "21860                    그저 그런 정도?        2\n",
              "21861                           좋아        3\n",
              "21862                    오 그거 좋은데?        3\n",
              "21863               아주 훌륭해 그렇게 진행해        3\n",
              "\n",
              "[21864 rows x 2 columns]"
            ]
          },
          "metadata": {
            "tags": []
          },
          "execution_count": 1169
        }
      ]
    },
    {
      "cell_type": "code",
      "metadata": {
        "id": "PGXtwz7Md1F_"
      },
      "source": [
        "rdata = data[:-65].sample(frac=1).reset_index(drop=True)"
      ],
      "execution_count": null,
      "outputs": []
    },
    {
      "cell_type": "code",
      "metadata": {
        "id": "dzCM899FldOW",
        "colab": {
          "base_uri": "https://localhost:8080/",
          "height": 399
        },
        "outputId": "b4232129-c6a2-4846-a052-7923b577c53f"
      },
      "source": [
        "rdata"
      ],
      "execution_count": null,
      "outputs": [
        {
          "output_type": "execute_result",
          "data": {
            "text/html": [
              "<div>\n",
              "<style scoped>\n",
              "    .dataframe tbody tr th:only-of-type {\n",
              "        vertical-align: middle;\n",
              "    }\n",
              "\n",
              "    .dataframe tbody tr th {\n",
              "        vertical-align: top;\n",
              "    }\n",
              "\n",
              "    .dataframe thead th {\n",
              "        text-align: right;\n",
              "    }\n",
              "</style>\n",
              "<table border=\"1\" class=\"dataframe\">\n",
              "  <thead>\n",
              "    <tr style=\"text-align: right;\">\n",
              "      <th></th>\n",
              "      <th>Sentence</th>\n",
              "      <th>Emotion</th>\n",
              "    </tr>\n",
              "  </thead>\n",
              "  <tbody>\n",
              "    <tr>\n",
              "      <th>0</th>\n",
              "      <td>sns마케팅하면 스베누지 질은 쓰레기</td>\n",
              "      <td>0</td>\n",
              "    </tr>\n",
              "    <tr>\n",
              "      <th>1</th>\n",
              "      <td>그냥 편의점이라 생각했는뎅 로또가 있더라구요... ㅠㅠ</td>\n",
              "      <td>1</td>\n",
              "    </tr>\n",
              "    <tr>\n",
              "      <th>2</th>\n",
              "      <td>개인정보 사용자 동의 없는 유출로 법적 처벌 받아야 한다</td>\n",
              "      <td>2</td>\n",
              "    </tr>\n",
              "    <tr>\n",
              "      <th>3</th>\n",
              "      <td>즉각 퇴진ㆍ구속 수사!!</td>\n",
              "      <td>0</td>\n",
              "    </tr>\n",
              "    <tr>\n",
              "      <th>4</th>\n",
              "      <td>헐~ 이게 2016년???????</td>\n",
              "      <td>2</td>\n",
              "    </tr>\n",
              "    <tr>\n",
              "      <th>...</th>\n",
              "      <td>...</td>\n",
              "      <td>...</td>\n",
              "    </tr>\n",
              "    <tr>\n",
              "      <th>21794</th>\n",
              "      <td>은숙작가는 한번쓴배우 또 쓰는편인듯</td>\n",
              "      <td>2</td>\n",
              "    </tr>\n",
              "    <tr>\n",
              "      <th>21795</th>\n",
              "      <td>솔저 오브 포츈이 생각난다.</td>\n",
              "      <td>2</td>\n",
              "    </tr>\n",
              "    <tr>\n",
              "      <th>21796</th>\n",
              "      <td>몰카가 진짜면 큰일인데요.....</td>\n",
              "      <td>0</td>\n",
              "    </tr>\n",
              "    <tr>\n",
              "      <th>21797</th>\n",
              "      <td>전 이공연 조명,음향등 억대로 들어가는데 누가 이돈을 내고 있는지 참 궁금합니다.</td>\n",
              "      <td>2</td>\n",
              "    </tr>\n",
              "    <tr>\n",
              "      <th>21798</th>\n",
              "      <td>한국선 절대 불가능한 일이지</td>\n",
              "      <td>0</td>\n",
              "    </tr>\n",
              "  </tbody>\n",
              "</table>\n",
              "<p>21799 rows × 2 columns</p>\n",
              "</div>"
            ],
            "text/plain": [
              "                                            Sentence  Emotion\n",
              "0                               sns마케팅하면 스베누지 질은 쓰레기        0\n",
              "1                     그냥 편의점이라 생각했는뎅 로또가 있더라구요... ㅠㅠ        1\n",
              "2                    개인정보 사용자 동의 없는 유출로 법적 처벌 받아야 한다        2\n",
              "3                                      즉각 퇴진ㆍ구속 수사!!        0\n",
              "4                                 헐~ 이게 2016년???????        2\n",
              "...                                              ...      ...\n",
              "21794                            은숙작가는 한번쓴배우 또 쓰는편인듯        2\n",
              "21795                                솔저 오브 포츈이 생각난다.        2\n",
              "21796                             몰카가 진짜면 큰일인데요.....        0\n",
              "21797  전 이공연 조명,음향등 억대로 들어가는데 누가 이돈을 내고 있는지 참 궁금합니다.        2\n",
              "21798                                한국선 절대 불가능한 일이지        0\n",
              "\n",
              "[21799 rows x 2 columns]"
            ]
          },
          "metadata": {
            "tags": []
          },
          "execution_count": 1171
        }
      ]
    },
    {
      "cell_type": "code",
      "metadata": {
        "id": "Y6NPiEbekNn9"
      },
      "source": [
        "#rdata = pd.concat([rdata[:10000],data[-65:]], axis = 0, ignore_index=True)"
      ],
      "execution_count": null,
      "outputs": []
    },
    {
      "cell_type": "code",
      "metadata": {
        "id": "vsu5jYqt6ezx"
      },
      "source": [
        "rdata.to_csv('train.csv', index = False, header = True)"
      ],
      "execution_count": null,
      "outputs": []
    },
    {
      "cell_type": "code",
      "metadata": {
        "id": "A0GjG3frmsqM"
      },
      "source": [
        "#rdata = data[-65:].sample(frac = 1).reset_index(drop=True)"
      ],
      "execution_count": null,
      "outputs": []
    },
    {
      "cell_type": "code",
      "metadata": {
        "id": "RrvyV-r_mz-D"
      },
      "source": [
        "rdata = rdata.sample(frac = 1).reset_index(drop = True)"
      ],
      "execution_count": null,
      "outputs": []
    },
    {
      "cell_type": "code",
      "metadata": {
        "id": "rvUFZC7-l5nc"
      },
      "source": [
        "#!pip install git+https://github.com/ssut/py-hanspell.git\n"
      ],
      "execution_count": null,
      "outputs": []
    },
    {
      "cell_type": "code",
      "metadata": {
        "id": "8SemjKHXlqi_"
      },
      "source": [
        "# from hanspell import spell_checker\n",
        "\n",
        "# for i in range(len(data)):\n",
        "#   spelled_sent = spell_checker.check(data['Sentence'][i])\n",
        "\n",
        "#   data['Sentence'][i] = spelled_sent.checked"
      ],
      "execution_count": null,
      "outputs": []
    },
    {
      "cell_type": "code",
      "metadata": {
        "id": "2Iz6LOgu5ldU"
      },
      "source": [
        "rdata =pd.read_csv('train.csv')"
      ],
      "execution_count": null,
      "outputs": []
    },
    {
      "cell_type": "code",
      "metadata": {
        "id": "_4Gd-SLaZups"
      },
      "source": [
        "from sklearn.model_selection import train_test_split\n",
        "#train_D, test_D , train_L, test_L = train_test_split(rdata['Sentence'], rdata['Emotion'], train_size = 0.8, random_state = 42, shuffle = True)"
      ],
      "execution_count": null,
      "outputs": []
    },
    {
      "cell_type": "code",
      "metadata": {
        "id": "vFCa7x1Pa7wz"
      },
      "source": [
        "dataset2 = pd.read_excel('train_ver.xlsx', usecols = ['Sentence','Label'])"
      ],
      "execution_count": null,
      "outputs": []
    },
    {
      "cell_type": "code",
      "metadata": {
        "id": "6xUi4kNKCSoq"
      },
      "source": [
        "dataset3 = pd.read_excel('train_ver_2.xlsx', usecols = ['Sentence', 'Label'])"
      ],
      "execution_count": null,
      "outputs": []
    },
    {
      "cell_type": "code",
      "metadata": {
        "id": "qRNQQhx07tMQ"
      },
      "source": [
        "#dataset2.loc[dataset2['Label'] ==1, 'Label']= 0 #슬픔 화남 합치자"
      ],
      "execution_count": null,
      "outputs": []
    },
    {
      "cell_type": "code",
      "metadata": {
        "id": "miVI7uhMciXE"
      },
      "source": [
        "#dataset3.loc[dataset3['Label']==1, 'Label'] = 0"
      ],
      "execution_count": null,
      "outputs": []
    },
    {
      "cell_type": "code",
      "metadata": {
        "id": "xlBYrgI3H88W"
      },
      "source": [
        "dataset2.rename(columns = {'Label' : 'Emotion'}, inplace = True)\n",
        "\n",
        "dataset3.rename(columns =  {'Label': 'Emotion'}, inplace = True )"
      ],
      "execution_count": null,
      "outputs": []
    },
    {
      "cell_type": "code",
      "metadata": {
        "id": "4D2j646b8DRR"
      },
      "source": [
        "#one2 = LabelEncoder()\n",
        "#dataset2['Emotion'] = one2.fit_transform(np.array(dataset2['Emotion']).reshape(-1,1))"
      ],
      "execution_count": null,
      "outputs": []
    },
    {
      "cell_type": "code",
      "metadata": {
        "id": "jbr9RcKY8PFs"
      },
      "source": [
        "#dataset3['Emotion'] = one2.fit_transform(np.array(dataset3['Emotion']).reshape(-1,1))"
      ],
      "execution_count": null,
      "outputs": []
    },
    {
      "cell_type": "code",
      "metadata": {
        "id": "q2ML1dwga3lF"
      },
      "source": [
        "data2 = pd.concat([data[-65:], pd.DataFrame(dataset2)], ignore_index = True)#.sample(frac = 1).reset_index(drop=True)"
      ],
      "execution_count": null,
      "outputs": []
    },
    {
      "cell_type": "code",
      "metadata": {
        "id": "E8In_pjrCZWM"
      },
      "source": [
        "data2 = pd.concat([data2, dataset3], ignore_index= True)"
      ],
      "execution_count": null,
      "outputs": []
    },
    {
      "cell_type": "code",
      "metadata": {
        "id": "EN6o6kZXc4tk",
        "colab": {
          "base_uri": "https://localhost:8080/",
          "height": 399
        },
        "outputId": "5e2d9e54-af43-4821-badd-31a0dfe12b42"
      },
      "source": [
        "data2"
      ],
      "execution_count": null,
      "outputs": [
        {
          "output_type": "execute_result",
          "data": {
            "text/html": [
              "<div>\n",
              "<style scoped>\n",
              "    .dataframe tbody tr th:only-of-type {\n",
              "        vertical-align: middle;\n",
              "    }\n",
              "\n",
              "    .dataframe tbody tr th {\n",
              "        vertical-align: top;\n",
              "    }\n",
              "\n",
              "    .dataframe thead th {\n",
              "        text-align: right;\n",
              "    }\n",
              "</style>\n",
              "<table border=\"1\" class=\"dataframe\">\n",
              "  <thead>\n",
              "    <tr style=\"text-align: right;\">\n",
              "      <th></th>\n",
              "      <th>Sentence</th>\n",
              "      <th>Emotion</th>\n",
              "    </tr>\n",
              "  </thead>\n",
              "  <tbody>\n",
              "    <tr>\n",
              "      <th>0</th>\n",
              "      <td>그 사람이 죽어버렸으면 좋겠어요</td>\n",
              "      <td>0</td>\n",
              "    </tr>\n",
              "    <tr>\n",
              "      <th>1</th>\n",
              "      <td>오늘 진짜 짜증나</td>\n",
              "      <td>0</td>\n",
              "    </tr>\n",
              "    <tr>\n",
              "      <th>2</th>\n",
              "      <td>맛집이라 해서 갔는데 맛이 쓰레기야</td>\n",
              "      <td>0</td>\n",
              "    </tr>\n",
              "    <tr>\n",
              "      <th>3</th>\n",
              "      <td>과제가 너무 많아</td>\n",
              "      <td>0</td>\n",
              "    </tr>\n",
              "    <tr>\n",
              "      <th>4</th>\n",
              "      <td>오늘도 야근이야</td>\n",
              "      <td>0</td>\n",
              "    </tr>\n",
              "    <tr>\n",
              "      <th>...</th>\n",
              "      <td>...</td>\n",
              "      <td>...</td>\n",
              "    </tr>\n",
              "    <tr>\n",
              "      <th>582</th>\n",
              "      <td>나아지고 있는 거 같아</td>\n",
              "      <td>3</td>\n",
              "    </tr>\n",
              "    <tr>\n",
              "      <th>583</th>\n",
              "      <td>주말이야</td>\n",
              "      <td>3</td>\n",
              "    </tr>\n",
              "    <tr>\n",
              "      <th>584</th>\n",
              "      <td>너무 고마워</td>\n",
              "      <td>3</td>\n",
              "    </tr>\n",
              "    <tr>\n",
              "      <th>585</th>\n",
              "      <td>결혼할 거 같아</td>\n",
              "      <td>3</td>\n",
              "    </tr>\n",
              "    <tr>\n",
              "      <th>586</th>\n",
              "      <td>행복한 하루야</td>\n",
              "      <td>3</td>\n",
              "    </tr>\n",
              "  </tbody>\n",
              "</table>\n",
              "<p>587 rows × 2 columns</p>\n",
              "</div>"
            ],
            "text/plain": [
              "                Sentence  Emotion\n",
              "0      그 사람이 죽어버렸으면 좋겠어요        0\n",
              "1              오늘 진짜 짜증나        0\n",
              "2    맛집이라 해서 갔는데 맛이 쓰레기야        0\n",
              "3              과제가 너무 많아        0\n",
              "4               오늘도 야근이야        0\n",
              "..                   ...      ...\n",
              "582         나아지고 있는 거 같아        3\n",
              "583                 주말이야        3\n",
              "584               너무 고마워        3\n",
              "585             결혼할 거 같아        3\n",
              "586              행복한 하루야        3\n",
              "\n",
              "[587 rows x 2 columns]"
            ]
          },
          "metadata": {
            "tags": []
          },
          "execution_count": 1189
        }
      ]
    },
    {
      "cell_type": "code",
      "metadata": {
        "id": "6EjHo4GJNCOy"
      },
      "source": [
        "#data2[data2['Emotion']==3] #77 389 , , 90"
      ],
      "execution_count": null,
      "outputs": []
    },
    {
      "cell_type": "code",
      "metadata": {
        "id": "hTvDuOCANUa-"
      },
      "source": [
        ""
      ],
      "execution_count": null,
      "outputs": []
    },
    {
      "cell_type": "code",
      "metadata": {
        "id": "mvdbt_Pnc7PO"
      },
      "source": [
        "#data2.to_csv('train2.csv', header = True, index = False)\n",
        "data2 = pd.read_csv(\"train2.csv\")"
      ],
      "execution_count": null,
      "outputs": []
    },
    {
      "cell_type": "code",
      "metadata": {
        "id": "VxJLd56j6xnQ"
      },
      "source": [
        "#data_real = pd.concat([rdata, data2], axis = 0)"
      ],
      "execution_count": null,
      "outputs": []
    },
    {
      "cell_type": "code",
      "metadata": {
        "id": "LnyP6b8P62cI",
        "colab": {
          "base_uri": "https://localhost:8080/",
          "height": 399
        },
        "outputId": "d57ac287-5005-4a60-d248-e3a85b76c235"
      },
      "source": [
        "#data_real"
      ],
      "execution_count": null,
      "outputs": [
        {
          "output_type": "execute_result",
          "data": {
            "text/html": [
              "<div>\n",
              "<style scoped>\n",
              "    .dataframe tbody tr th:only-of-type {\n",
              "        vertical-align: middle;\n",
              "    }\n",
              "\n",
              "    .dataframe tbody tr th {\n",
              "        vertical-align: top;\n",
              "    }\n",
              "\n",
              "    .dataframe thead th {\n",
              "        text-align: right;\n",
              "    }\n",
              "</style>\n",
              "<table border=\"1\" class=\"dataframe\">\n",
              "  <thead>\n",
              "    <tr style=\"text-align: right;\">\n",
              "      <th></th>\n",
              "      <th>Sentence</th>\n",
              "      <th>Emotion</th>\n",
              "    </tr>\n",
              "  </thead>\n",
              "  <tbody>\n",
              "    <tr>\n",
              "      <th>0</th>\n",
              "      <td>마약검사도 추가해주시면 땡큐~</td>\n",
              "      <td>2</td>\n",
              "    </tr>\n",
              "    <tr>\n",
              "      <th>1</th>\n",
              "      <td>설현 기획사에서 넘 밀어주는듯..</td>\n",
              "      <td>2</td>\n",
              "    </tr>\n",
              "    <tr>\n",
              "      <th>2</th>\n",
              "      <td>김연아 선수를 알게 된 건 행운입니다.</td>\n",
              "      <td>3</td>\n",
              "    </tr>\n",
              "    <tr>\n",
              "      <th>3</th>\n",
              "      <td>나나 첨부터 외모가 냉철해보이긴하는데 예능에서 애교떠는거 놀랬음</td>\n",
              "      <td>3</td>\n",
              "    </tr>\n",
              "    <tr>\n",
              "      <th>4</th>\n",
              "      <td>박주영이 대표팀복귀 해야 한다</td>\n",
              "      <td>2</td>\n",
              "    </tr>\n",
              "    <tr>\n",
              "      <th>...</th>\n",
              "      <td>...</td>\n",
              "      <td>...</td>\n",
              "    </tr>\n",
              "    <tr>\n",
              "      <th>582</th>\n",
              "      <td>나아지고 있는 거 같아</td>\n",
              "      <td>3</td>\n",
              "    </tr>\n",
              "    <tr>\n",
              "      <th>583</th>\n",
              "      <td>주말이야</td>\n",
              "      <td>3</td>\n",
              "    </tr>\n",
              "    <tr>\n",
              "      <th>584</th>\n",
              "      <td>너무 고마워</td>\n",
              "      <td>3</td>\n",
              "    </tr>\n",
              "    <tr>\n",
              "      <th>585</th>\n",
              "      <td>결혼할 거 같아</td>\n",
              "      <td>3</td>\n",
              "    </tr>\n",
              "    <tr>\n",
              "      <th>586</th>\n",
              "      <td>행복한 하루야</td>\n",
              "      <td>3</td>\n",
              "    </tr>\n",
              "  </tbody>\n",
              "</table>\n",
              "<p>22386 rows × 2 columns</p>\n",
              "</div>"
            ],
            "text/plain": [
              "                                Sentence  Emotion\n",
              "0                       마약검사도 추가해주시면 땡큐~        2\n",
              "1                     설현 기획사에서 넘 밀어주는듯..        2\n",
              "2                  김연아 선수를 알게 된 건 행운입니다.        3\n",
              "3    나나 첨부터 외모가 냉철해보이긴하는데 예능에서 애교떠는거 놀랬음        3\n",
              "4                       박주영이 대표팀복귀 해야 한다        2\n",
              "..                                   ...      ...\n",
              "582                         나아지고 있는 거 같아        3\n",
              "583                                 주말이야        3\n",
              "584                               너무 고마워        3\n",
              "585                             결혼할 거 같아        3\n",
              "586                              행복한 하루야        3\n",
              "\n",
              "[22386 rows x 2 columns]"
            ]
          },
          "metadata": {
            "tags": []
          },
          "execution_count": 40
        }
      ]
    },
    {
      "cell_type": "markdown",
      "metadata": {
        "id": "rn_sYSRhCRqB"
      },
      "source": [
        "###"
      ]
    },
    {
      "cell_type": "code",
      "metadata": {
        "id": "hmyZFi42CSPi"
      },
      "source": [
        "data2 = pd.read_csv('train2.csv')\n"
      ],
      "execution_count": null,
      "outputs": []
    },
    {
      "cell_type": "code",
      "metadata": {
        "id": "YTNuXDxy6-kx"
      },
      "source": [
        "from sklearn.model_selection import train_test_split\n",
        "\n",
        "train_D, test_D , train_L, test_L = train_test_split(data2['Sentence'], data2['Emotion'], train_size = 0.8, random_state = 42, shuffle = True)"
      ],
      "execution_count": null,
      "outputs": []
    },
    {
      "cell_type": "code",
      "metadata": {
        "id": "ipfR9EAjvNQW"
      },
      "source": [
        "#train_D2, test_D2 , train_L2, test_L2 = train_test_split(data2['Sentence'], data2['Emotion'], train_size = 0.99, random_state = 42, shuffle = True)"
      ],
      "execution_count": null,
      "outputs": []
    },
    {
      "cell_type": "code",
      "metadata": {
        "id": "1JMgWAlybZ5e"
      },
      "source": [
        "# train_D.append(train_D2)\n",
        "# test_D.append(test_D2)\n",
        "# train_L.append(train_L2)\n",
        "# test_L.append(test_L2)"
      ],
      "execution_count": null,
      "outputs": []
    },
    {
      "cell_type": "code",
      "metadata": {
        "id": "NOQIvf6UaR-Z"
      },
      "source": [
        "emotion = Emotion(train_D, test_D, train_L, test_L)"
      ],
      "execution_count": null,
      "outputs": []
    },
    {
      "cell_type": "code",
      "metadata": {
        "id": "0NFBenyZLNLS"
      },
      "source": [
        "#emotion2 = Emotion(train_D2, test_D2, train_L2, test_L2)"
      ],
      "execution_count": null,
      "outputs": []
    },
    {
      "cell_type": "code",
      "metadata": {
        "id": "kxbXqaO4rRgN"
      },
      "source": [
        "# from sklearn.feature_extraction.text import CountVectorizer\n",
        "# from sklearn.feature_extraction.text import TfidfTransformer\n",
        "# from sklearn.feature_extraction.text import TfidfVectorizer"
      ],
      "execution_count": null,
      "outputs": []
    },
    {
      "cell_type": "code",
      "metadata": {
        "id": "mXSdbMYgrTXC"
      },
      "source": [
        "\n",
        "# def tfidf_featurizer(corpus_train,corpus_test):\n",
        "#     count_vectorizer = CountVectorizer()\n",
        "#     count_vectorizer.fit_transform(corpus_train)\n",
        "#     freq_term_matrix = count_vectorizer.transform(corpus_train)\n",
        "#     tfidf = TfidfTransformer(norm=\"l2\")\n",
        "#     tfidf.fit(freq_term_matrix)\n",
        "#     # unigram features\n",
        "#     tfidf_token = TfidfVectorizer(ngram_range=(1,1),max_features=3000)\n",
        "#     token_tfidf_total = tfidf_token.fit_transform(corpus_train+corpus_test)\n",
        "#     token_tfidf_total_mat = token_tfidf_total.toarray()\n",
        "#     # bigram features\n",
        "#     tfidf_bi_token = TfidfVectorizer(ngram_range=(1,2),max_features=3000)\n",
        "#     token_tfidf_bi_total = tfidf_bi_token.fit_transform(corpus_train+corpus_test)\n",
        "#     token_tfidf_bi_total_mat = token_tfidf_bi_total.toarray()\n",
        "#     return token_tfidf_total_mat,token_tfidf_bi_total_mat"
      ],
      "execution_count": null,
      "outputs": []
    },
    {
      "cell_type": "code",
      "metadata": {
        "id": "86O8cYtA8DCI"
      },
      "source": [
        "word_index = emotion.tokenizer.word_index"
      ],
      "execution_count": null,
      "outputs": []
    },
    {
      "cell_type": "code",
      "metadata": {
        "id": "KH8cj829avC8",
        "colab": {
          "base_uri": "https://localhost:8080/"
        },
        "outputId": "10b7fcf1-f82b-422b-fe43-4f7aaf082f94"
      },
      "source": [
        "#emotion.train_D\n",
        "emotion.train_D"
      ],
      "execution_count": null,
      "outputs": [
        {
          "output_type": "execute_result",
          "data": {
            "text/plain": [
              "[['돈', '빌리다', '잠수', '타다'],\n",
              " ['황당하다', '말', '안나'],\n",
              " ['마스크', '벗다', '싶다'],\n",
              " ['미련', '거', '같다'],\n",
              " ['선택', '어렵다'],\n",
              " ['가슴', '너무', '아프다'],\n",
              " ['쉬', '고', '싶다'],\n",
              " ['기분', '꿀꿀하다'],\n",
              " ['뒷', '통수', '맞다'],\n",
              " ['쳇바퀴', '돌다', '하루', '돌아가다'],\n",
              " ['허무하다', '오늘'],\n",
              " ['수강신청', '망하다'],\n",
              " ['불면증', '인가', '보다'],\n",
              " ['논문', '쓰기', '싫다'],\n",
              " ['남자친구', '랑', '헤어지다'],\n",
              " ['힘드다', '시기', '지나가다'],\n",
              " ['다', '들다', '힘드다', '겠다'],\n",
              " ['마음', '싱숭생숭하다'],\n",
              " ['너무', '외롭다'],\n",
              " ['스트레스', '너무', '받다'],\n",
              " ['사람', '다', '떠나가다'],\n",
              " ['하루', '일', '년', '같다'],\n",
              " ['성', '과금', '들어오다'],\n",
              " ['그', '사람', '죽다', '버리다', '좋다'],\n",
              " ['그', '사람', '너무', '좋다'],\n",
              " ['제', '정신', '아니다'],\n",
              " ['젊다', '싶다'],\n",
              " ['철', '너무', '일찍', '들다', '보다'],\n",
              " ['취업', '있다'],\n",
              " ['배', '너무', '나오다'],\n",
              " ['생각', '보다', '나쁘다', '않다'],\n",
              " ['마음', '정리', '어렵다'],\n",
              " ['집', '너무', '더럽다'],\n",
              " ['너무', '후회', '돼다'],\n",
              " ['시간', '아깝다'],\n",
              " ['드디어', '면허', '따다'],\n",
              " ['너무', '우울하다'],\n",
              " ['기대하다', '말', '걸', '그렇다'],\n",
              " ['인생', '헛산듯해'],\n",
              " ['자꾸', '보다', '기어오르다'],\n",
              " ['올해', '왜', '이렇게', '엉망', '이지'],\n",
              " ['아침', '일어나다', '힘들다'],\n",
              " ['같이', '수영장', '가기', '로'],\n",
              " ['중간', '없다'],\n",
              " ['무력하다'],\n",
              " ['쉬다', '변하다'],\n",
              " ['심리상담', '받다'],\n",
              " ['푸른', '하늘', '을', '보고', '싶다'],\n",
              " ['화가', '나다'],\n",
              " ['내일', '스키장', '간다'],\n",
              " ['배', '고프다'],\n",
              " ['술', '말다', '싶다'],\n",
              " ['오늘', '화장', '자다', '먹다'],\n",
              " ['오랜', '만', '보', '니까', '떨리다'],\n",
              " ['절망', '적', '이야'],\n",
              " ['행복하다', '하루', '야'],\n",
              " ['아무', '일도', '없다', '것', '처럼', '살', '고', '싶다'],\n",
              " ['무너지다'],\n",
              " ['달동', '안', '자고', '싶다'],\n",
              " ['병', '걸리다', '걸다', '무섭다'],\n",
              " ['길이', '맞다', '끄다'],\n",
              " ['판도라', '상자', '연', '거', '같다'],\n",
              " ['뭐', '부터', '바꾸다'],\n",
              " ['취미', '만들다', '보다'],\n",
              " ['또', '라이', '같다', '사람', '많다'],\n",
              " ['사람', '모두', '변하다', '보다'],\n",
              " ['내일', '예쁘다', '가야', '지'],\n",
              " ['열심히', '거', '같다', '왜', '이르다'],\n",
              " ['울적하다', '밖에', '나가다', '싶다'],\n",
              " ['그만', '두다', '나오다', '싶다'],\n",
              " ['물가', '너무', '비싸다'],\n",
              " ['항상', '자기', '맘대로', '야'],\n",
              " ['나', '내버리다', '두다', '좋다'],\n",
              " ['여행', '너무', '좋다'],\n",
              " ['밤', '자주', '깨'],\n",
              " ['밖에', '나가다', '싶다'],\n",
              " ['너무', '괴롭다'],\n",
              " ['견디다', '너무', '힘들다'],\n",
              " ['밑바닥', '까지', '보다', '버리다'],\n",
              " ['소문', '안좋다'],\n",
              " ['대출', '언제', '다', '갚다'],\n",
              " ['놀다', '사람', '없다'],\n",
              " ['이제', '한계', '점', '인', '듯', '해'],\n",
              " ['오늘', '공휴일', '이야'],\n",
              " ['믿다', '내', '바보', '지'],\n",
              " ['택시', '비', '너무', '많이', '나오다'],\n",
              " ['난', '머리', '너무', '나쁘다'],\n",
              " ['걔', '늦다', '나오다'],\n",
              " ['적응', '을', '못'],\n",
              " ['걔', '꼴다', '보기', '싫다'],\n",
              " ['다른', '게임', '없다'],\n",
              " ['돈', '없다'],\n",
              " ['나르다', '무시'],\n",
              " ['다', '부질없다'],\n",
              " ['언제', '까지', '래야'],\n",
              " ['간만', '쇼핑'],\n",
              " ['돈', '모으다', '재미', '있다'],\n",
              " ['결혼', '거', '같다'],\n",
              " ['이벤트', '당첨', '돼다'],\n",
              " ['이건', '위기', '야'],\n",
              " ['오다', '미치다', '게', '사다'],\n",
              " ['장식품', '을', '하나', '사보다'],\n",
              " ['좋다', '꿈', '을', '끄다'],\n",
              " ['새', '옷', '사다'],\n",
              " ['친구', '보다'],\n",
              " ['비타민', '먹다'],\n",
              " ['과거', '얽매이다', '있다'],\n",
              " ['퇴근'],\n",
              " ['화', '못내'],\n",
              " ['아침', '부터', '눈물나다'],\n",
              " ['다음주', '너무', '무섭다'],\n",
              " ['어리다', '때', '로', '돌아가다', '싶다'],\n",
              " ['완전', '설레다'],\n",
              " ['친구', '사귀다', '싶다'],\n",
              " ['바람나다'],\n",
              " ['내', '험담'],\n",
              " ['건후', '너무', '귀엽다'],\n",
              " ['전화하다', '사람', '없다'],\n",
              " ['어디', '론', '떠나다', '싶다'],\n",
              " ['걱정', '없이', '살', '고', '싶다'],\n",
              " ['드디어', '종강'],\n",
              " ['걔', '철', '들다', '좋다'],\n",
              " ['아무', '생각', '없다'],\n",
              " ['퇴사', '하고', '싶다'],\n",
              " ['핸드폰', '고장', '나다'],\n",
              " ['외', '롭고', '우울하다'],\n",
              " ['마음', '아프다'],\n",
              " ['멀리', '떠나다', '싶다'],\n",
              " ['다시', '연애', '수', '있다'],\n",
              " ['날', '내버리다', '두다'],\n",
              " ['기분', '날아가다', '것', '같다'],\n",
              " ['상사', '한테', '혼나다'],\n",
              " ['요즘', '지루하다'],\n",
              " ['내', '인생', '관심', '끄다', '좋다'],\n",
              " ['에너지', '없다'],\n",
              " ['산책', '가다', '오다'],\n",
              " ['자꾸', '자다', '깨'],\n",
              " ['위로', '받다', '싶다'],\n",
              " ['욜', '로'],\n",
              " ['기념일', '못', '챙기다'],\n",
              " ['인간관계', '제일', '어렵다', '같다'],\n",
              " ['스키', '배우다', '보다'],\n",
              " ['아무', '리해', '안', '되다'],\n",
              " ['술', '필요하다'],\n",
              " ['살다', '너무', '답답하다'],\n",
              " ['마음', '조급하다'],\n",
              " ['뒤', '처지다', '느낌', '이야'],\n",
              " ['늙다', '거', '같다'],\n",
              " ['배', '너무', '고프다'],\n",
              " ['벌써', '밤', '이네'],\n",
              " ['죽다', '못', '살다', '싫다'],\n",
              " ['연락', '사람', '하나', '없다'],\n",
              " ['밑', '에서', '치고', '올라오다'],\n",
              " ['한강', '뛰어들다', '싶다'],\n",
              " ['오다', '미치다', '게', '되다'],\n",
              " ['친구', '초대'],\n",
              " ['혼자', '여전하다', '힘드다'],\n",
              " ['과제', '너무', '많다'],\n",
              " ['아직', '붙잡다', '싶다'],\n",
              " ['나르다', '괴롭히다'],\n",
              " ['먹다', '없다'],\n",
              " ['내', '무능력하다', '가보다'],\n",
              " ['엄청나다', '맛있다', '저녁', '을', '먹다'],\n",
              " ['아무', '것', '싫다'],\n",
              " ['월급', '들어오다'],\n",
              " ['햇빛', '을', '보다'],\n",
              " ['우리', '팀', '야스오', '뭐'],\n",
              " ['엿', '먹이', '고', '싶다'],\n",
              " ['단체', '생활', '힘들다'],\n",
              " ['목소리', '좋다', '거', '같다'],\n",
              " ['내일', '겁나다'],\n",
              " ['나', '매번', '왜', '이렇다'],\n",
              " ['정답', '뭘', '끄다'],\n",
              " ['기분', '더럽다'],\n",
              " ['숨', '쉬', '고', '싶다'],\n",
              " ['방', '청소', '끝내다'],\n",
              " ['정말', '나', '한테', '너무하다'],\n",
              " ['군대', '가기', '싫다'],\n",
              " ['파혼'],\n",
              " ['맘', '상한', '게', '안', '풀다'],\n",
              " ['너무', '멋있다'],\n",
              " ['참고', '있다', '거', '너무', '힘들다'],\n",
              " ['돈', '없다'],\n",
              " ['헛소리'],\n",
              " ['그만', '혼나다', '좋다'],\n",
              " ['재미없다', '하루', '이다'],\n",
              " ['멘탈', '나가다'],\n",
              " ['진짜', '친구', '없다', '같다'],\n",
              " ['치킨', '시키다'],\n",
              " ['밥', '먹다'],\n",
              " ['자꾸', '눈물', '나오다'],\n",
              " ['감정', '조절', '안', '돼다'],\n",
              " ['살', '빠지다'],\n",
              " ['거지', '같이', '일해', '놓다', '가다'],\n",
              " ['내', '작아지다', '기분', '이야'],\n",
              " ['항상', '똑같다', '애'],\n",
              " ['앞', '힘드다', '시간', '이다', '같다'],\n",
              " ['병원', '가야', '되다', '해'],\n",
              " ['주제', '넘다', '짓', '거', '같다'],\n",
              " ['한숨', '만', '자꾸', '나오다'],\n",
              " ['전역', '언제'],\n",
              " ['친구', '부럽다'],\n",
              " ['재밌다', '드라마', '없다'],\n",
              " ['최선', '다한', '거', '같다'],\n",
              " ['기획서', '또', '수정', '돼다'],\n",
              " ['층간소음', '때문', '미치다'],\n",
              " ['상황', '최악', '이야'],\n",
              " ['사가', '야', '돼다'],\n",
              " ['별', '탈', '없이', '살', '고', '싶다'],\n",
              " ['나쁘다', '꿈', '을', '끄다'],\n",
              " ['소중하다', '인연', '이야'],\n",
              " ['상처', '받다', '싫다'],\n",
              " ['책', '읽다'],\n",
              " ['쓸모', '없다', '느껴지다'],\n",
              " ['세뱃돈', '받다'],\n",
              " ['은퇴', '후', '걱정', '이야'],\n",
              " ['날', '쉬다', '생각'],\n",
              " ['아쉽다'],\n",
              " ['길가', '다', '돈', '줍다'],\n",
              " ['중간고사', '한번', '더', '보다'],\n",
              " ['나르다', '생각', '이나', '해주다'],\n",
              " ['성공하다', '수', '있다'],\n",
              " ['데이트', '가다', '싶다'],\n",
              " ['오늘이', '꿈', '만', '같다'],\n",
              " ['저주'],\n",
              " ['요가', '가야', '지'],\n",
              " ['적당하다', '모르다'],\n",
              " ['세월', '무색'],\n",
              " ['이제', '더', '이상', '못', '참다'],\n",
              " ['성격', '안', '맞다'],\n",
              " ['나', '건', '지', '마'],\n",
              " ['지치다', '있다', '거', '같다'],\n",
              " ['인생', '허무하다'],\n",
              " ['말', '을', '계속', '바꾸다'],\n",
              " ['낙엽', '지고', '있다'],\n",
              " ['최고', '몸무게', '경신', '중이', '야'],\n",
              " ['장례식', '가다', '오다'],\n",
              " ['자존감', '바닥', '을', '치다'],\n",
              " ['완벽하다', '사람', '되다', '싶다'],\n",
              " ['웃', '을', '일이', '없다'],\n",
              " ['별', '너무', '예쁘다'],\n",
              " ['나', '가지', '고', '장난', '치다'],\n",
              " ['공부', '더', '걸', '그렇다'],\n",
              " ['말실수', '거', '같다'],\n",
              " ['자신감', '을', '갖다', '싶다'],\n",
              " ['방학', '필요하다'],\n",
              " ['희망이', '없다'],\n",
              " ['씁쓸하다'],\n",
              " ['살다', '지옥', '같다'],\n",
              " ['흐지부지', '야'],\n",
              " ['염색', '해보다'],\n",
              " ['겁', '나'],\n",
              " ['나', '대해', '함부로', '말', '하고', '다니다'],\n",
              " ['허전하다'],\n",
              " ['내', '편이', '없다', '거', '같다'],\n",
              " ['조심하다', '많다'],\n",
              " ['씨발', '뒤지다'],\n",
              " ['낭만', '사라지다', '거', '같다'],\n",
              " ['예의', '지키다', '주다', '좋다'],\n",
              " ['고기', '먹다'],\n",
              " ['팀', '플', '안', '좋다'],\n",
              " ['남', '도와주다', '좋다'],\n",
              " ['나', '정말', '한심하다'],\n",
              " ['편두통', '오다'],\n",
              " ['어떻다', '마음', '인지', '모르다'],\n",
              " ['피곤하다', '잠', '안'],\n",
              " ['자꾸', '일', '을', '까먹다'],\n",
              " ['모든', '일', '의욕', '없다'],\n",
              " ['일상', '돌아가다', '싶다'],\n",
              " ['천재', '같다'],\n",
              " ['택배', '오다'],\n",
              " ['고민', '있다'],\n",
              " ['비참하다'],\n",
              " ['비', '오', '니까', '또', '생각나다'],\n",
              " ['멘탈', '무너지다', '있다'],\n",
              " ['친구', '라고', '생각'],\n",
              " ['익숙해지다', '않다'],\n",
              " ['불만', '왜', '이렇게', '많다'],\n",
              " ['치맥'],\n",
              " ['세상', '불공평하다'],\n",
              " ['인턴', '때리다', '싶다'],\n",
              " ['괜찮다', '지지', '않다'],\n",
              " ['결혼', '수', '있다'],\n",
              " ['자극', '필요하다'],\n",
              " ['상사', '갈구다'],\n",
              " ['기회', '놓치다'],\n",
              " ['인형', '뽑다'],\n",
              " ['속', '거', '같다'],\n",
              " ['사람', '만나다', '기', '빨다'],\n",
              " ['비트코인', '괜히', '보다'],\n",
              " ['고집', '너무', '세'],\n",
              " ['이불', '너무', '포근하다'],\n",
              " ['카톡', '씹히다'],\n",
              " ['편하다', '쉬', '고', '싶다'],\n",
              " ['기대', '너무', '많이', '보다'],\n",
              " ['오늘', '보름달', '뜨다'],\n",
              " ['받아들이다', '기', '많이', '힘드다'],\n",
              " ['죽다', '아무', '모르다'],\n",
              " ['뒤', '에서', '내', '욕'],\n",
              " ['햇빛', '너무', '좋다'],\n",
              " ['쓸쓸하다'],\n",
              " ['선물', '받다'],\n",
              " ['저', '사람', '힘들다'],\n",
              " ['방학', '놀다', '갈다'],\n",
              " ['아무', '못', '믿다'],\n",
              " ['다시', '가라앉다', '중이', '야'],\n",
              " ['막말'],\n",
              " ['나', '한테', '실망', '스럽다'],\n",
              " ['과제', '안', '끝나다'],\n",
              " ['학교생활', '조금', '더', '재밌다', '좋다'],\n",
              " ['주식', '떡락했어'],\n",
              " ['왜', '살', '지'],\n",
              " ['놀다', '돈', '벌다', '싶다'],\n",
              " ['말', '을', '예쁘다', '좋다'],\n",
              " ['좋다', '시절', '다', '지나가다', '같다'],\n",
              " ['소개팅', '나가다'],\n",
              " ['이용', '당하다'],\n",
              " ['울', '고', '싶다'],\n",
              " ['우리', '미드', '뭐'],\n",
              " ['오늘', '데이트'],\n",
              " ['배려', '없다'],\n",
              " ['맨날', '동문서답'],\n",
              " ['나', '만', '행복하다', '않다', '같다'],\n",
              " ['완전하다', '끝나다'],\n",
              " ['극복', '하고', '싶다'],\n",
              " ['내', '마음', '을', '알아주다', '좋다'],\n",
              " ['고양이', '동영상', '보다', '중이', '야'],\n",
              " ['한숨', '만', '나오다'],\n",
              " ['시발', '씨발', '지랄'],\n",
              " ['여유', '없다'],\n",
              " ['난', '구제불', '능인', '가보다'],\n",
              " ['승진', '누락', '돼다'],\n",
              " ['혼술', '하고', '있다'],\n",
              " ['방학', '너무', '짧다'],\n",
              " ['브런치', '먹다'],\n",
              " ['엄마', '보고', '싶다'],\n",
              " ['승진'],\n",
              " ['요즘', '추워지다'],\n",
              " ['있다', '걸다'],\n",
              " ['하루', '에도', '몇번', '씩', '마음', '바', '끼다'],\n",
              " ['속이다', '안', '좋다'],\n",
              " ['집중', '안', '돼다'],\n",
              " ['여행', '가다', '싶다'],\n",
              " ['서류', '에서', '떨어지다'],\n",
              " ['집', '에만', '있다', '싫다'],\n",
              " ['오늘', '야근', '이야'],\n",
              " ['소리', '지르다', '싶다'],\n",
              " ['일', '을', '끝내다'],\n",
              " ['중국어', '배우다', '보다'],\n",
              " ['다시', '원점', '인거', '같다'],\n",
              " ['사주', '보다', '가보다'],\n",
              " ['너무', '초라하다'],\n",
              " ['살다'],\n",
              " ['기회', '잡다'],\n",
              " ['나', '만', '야근', '이야'],\n",
              " ['착하다', '살', '면', '안되다', '같다'],\n",
              " ['감기', '걸리다', '거', '같다'],\n",
              " ['쉬', '고', '싶다'],\n",
              " ['사람', '무섭다'],\n",
              " ['나', '만', '제자리걸음', '이야'],\n",
              " ['그저', '그렇다', '정도'],\n",
              " ['감정', '무', '뎌', '질', '때', '돼다'],\n",
              " ['밥', '뭐', '먹다'],\n",
              " ['플렉스', '해', '버리다', '뭐', '야'],\n",
              " ['이별', '을', '준비', '중', '이야'],\n",
              " ['아직', '많이', '부족하다', '가보다'],\n",
              " ['못', '돼다', '버리다'],\n",
              " ['꿈', '이뤄지다'],\n",
              " ['참견', '그만'],\n",
              " ['친구', '만나다', '놀다'],\n",
              " ['청소'],\n",
              " ['마스크', '없이', '밖에', '나가다', '싶다'],\n",
              " ['점점', '심해지다', '거', '같다'],\n",
              " ['시간', '버리다'],\n",
              " ['키', '조금', '만', '더', '크다', '좋다'],\n",
              " ['왜', '이렇게', '태어나다'],\n",
              " ['기다리다', '지치다'],\n",
              " ['돈', '을', '안', '갚다'],\n",
              " ['싶다', '없다'],\n",
              " ['근사하다', '레스토랑', '알아내다'],\n",
              " ['행복하다', '질', '수', '있다'],\n",
              " ['유튜브', '광고', '없애다', '버리다', '좋다'],\n",
              " ['좋다'],\n",
              " ['억지로', '살', '고', '있다'],\n",
              " ['말', '을', '비꼬다', '듣다'],\n",
              " ['첫', '출근', '이야'],\n",
              " ['그', '사람', '차다', '뻔', '뻔하다'],\n",
              " ['첫', '눈', '이야'],\n",
              " ['웃다', '얼굴', '침', '뱉다', '싶다'],\n",
              " ['자다', '수', '있다'],\n",
              " ['주눅', '들다', '말', '을', '못'],\n",
              " ['아주', '훌륭하다', '그렇게', '진행'],\n",
              " ['도망가다', '싶다'],\n",
              " ['너무', '지치다'],\n",
              " ['그', '사람', '최악', '이야'],\n",
              " ['집', '가다', '싶다'],\n",
              " ['사람', '그립다'],\n",
              " ['통장', '잔고', '하나', '안', '남다'],\n",
              " ['그냥', '혼자', '있다', '싶다'],\n",
              " ['나', '만', '친구', '라고', '생각', '보다'],\n",
              " ['엿같', '네'],\n",
              " ['점심시간', '너무', '짧다'],\n",
              " ['기분', '울적하다'],\n",
              " ['사람', '만나다', '피곤하다'],\n",
              " ['혼자', '있다', '무섭다'],\n",
              " ['시간', '을', '되돌리다', '싶다'],\n",
              " ['너무', '고맙다'],\n",
              " ['앞', '뭐', '하고', '살', '지'],\n",
              " ['내', '너무', '소심하다'],\n",
              " ['내껄', '훔치다', '가다'],\n",
              " ['혼자', '앞서서', '생각'],\n",
              " ['오늘', '최악', '인거', '같다'],\n",
              " ['휴가', '가다', '날', '이야'],\n",
              " ['피부', '푸석푸석하다'],\n",
              " ['오늘', '진짜', '짜증나다'],\n",
              " ['너무', '예쁘다'],\n",
              " ['인생', '지루하다'],\n",
              " ['이제', '인정', '받다', '싶다'],\n",
              " ['아니다', '미치다', '알다'],\n",
              " ['운동'],\n",
              " ['내', '예민하다', '걸다'],\n",
              " ['슬프다', '예감', '대로', '되어다'],\n",
              " ['취업', '준비', '힘들다'],\n",
              " ['머리', '속이다', '복잡하다'],\n",
              " ['정리', '안', '돼다'],\n",
              " ['주름', '생기다'],\n",
              " ['마음', '을', '정리', '중', '이야'],\n",
              " ['노력', '되다', '일이', '있다'],\n",
              " ['입다', '나가다', '옷', '없다'],\n",
              " ['프로젝트', '빨리', '끝나다', '좋다'],\n",
              " ['영어', '자다', '좋다'],\n",
              " ['하늘', '보다', '언', '젠', '지'],\n",
              " ['네일', '자다', '되다', '해'],\n",
              " ['이유', '라도', '알다', '좋다'],\n",
              " ['내', '예쁘다'],\n",
              " ['불', '켜다'],\n",
              " ['못', '너무', '많다'],\n",
              " ['기', '너무', '빨렸어'],\n",
              " ['오늘', '하루', '겨우', '버티다'],\n",
              " ['내일', '도서관', '가야', '지'],\n",
              " ['너무', '우울하다'],\n",
              " ['자다', '버티고', '있다', '끄다'],\n",
              " ['너무', '지치다'],\n",
              " ['그냥', '그렇다'],\n",
              " ['계속', '일이', '쌓이네'],\n",
              " ['날', '혼자', '두다'],\n",
              " ['사람', '너무', '계산', '적', '이야'],\n",
              " ['퇴근길', '너무', '막히다'],\n",
              " ['기대', '무너지다'],\n",
              " ['포기'],\n",
              " ['헛된', '희망', '을', '꿈꾸다'],\n",
              " ['복합', '적', '힘드다'],\n",
              " ['좌절', '중이', '야'],\n",
              " ['그게', '가능하다'],\n",
              " ['돈', '가지', '고', '유세', '부리다'],\n",
              " ['겨울', '이야'],\n",
              " ['계속', '비교', '돼다'],\n",
              " ['고민', '많다'],\n",
              " ['성격', '을', '고치다'],\n",
              " ['전공', '을', '잘못', '고르다', '보다'],\n",
              " ['내', '이상하다', '사람', '이래'],\n",
              " ['앞', '캄캄하다'],\n",
              " ['나', '한테', '관심', '끄다', '좋다'],\n",
              " ['내', '못', '뭘', '끄다'],\n",
              " ['피해', '그만', '주다'],\n",
              " ['방학', '이다'],\n",
              " ['미래', '너무', '어둡다'],\n",
              " ['모든', '것', '의미', '없다', '같다'],\n",
              " ['신', '서유기', '꿀잼']]"
            ]
          },
          "metadata": {
            "tags": []
          },
          "execution_count": 62
        }
      ]
    },
    {
      "cell_type": "code",
      "metadata": {
        "id": "hF3Hwbo0cBcq",
        "colab": {
          "base_uri": "https://localhost:8080/"
        },
        "outputId": "8ad48783-f807-405b-8287-cdeafb7f1d2e"
      },
      "source": [
        "len(emotion.tokenizer.word_index)"
      ],
      "execution_count": null,
      "outputs": [
        {
          "output_type": "execute_result",
          "data": {
            "text/plain": [
              "705"
            ]
          },
          "metadata": {
            "tags": []
          },
          "execution_count": 63
        }
      ]
    },
    {
      "cell_type": "code",
      "metadata": {
        "id": "AmTkrlDWfRWH",
        "colab": {
          "base_uri": "https://localhost:8080/"
        },
        "outputId": "163e58d6-50bb-4054-de93-f0d12b70dc65"
      },
      "source": [
        "threshold = 1\n",
        "total_cnt = len(emotion.tokenizer.word_index) # 단어의 수\n",
        "rare_cnt = 0 # 등장 빈도수가 threshold보다 작은 단어의 개수를 카운트\n",
        "total_freq = 0 # 훈련 데이터의 전체 단어 빈도수 총 합\n",
        "rare_freq = 0 # 등장 빈도수가 threshold보다 작은 단어의 등장 빈도수의 총 합\n",
        "\n",
        "# 단어와 빈도수의 쌍(pair)을 key와 value로 받는다.\n",
        "for key, value in emotion.tokenizer.word_counts.items():\n",
        "    total_freq = total_freq + value\n",
        "\n",
        "    # 단어의 등장 빈도수가 threshold보다 작으면\n",
        "    if(value < threshold):\n",
        "        rare_cnt = rare_cnt + 1\n",
        "        rare_freq = rare_freq + value\n",
        "\n",
        "print('단어 집합(vocabulary)의 크기 :',total_cnt)\n",
        "print('등장 빈도가 %s번 이하인 희귀 단어의 수: %s'%(threshold - 1, rare_cnt))\n",
        "print(\"단어 집합에서 희귀 단어의 비율:\", (rare_cnt / total_cnt)*100)\n",
        "print(\"전체 등장 빈도에서 희귀 단어 등장 빈도 비율:\", (rare_freq / total_freq)*100)"
      ],
      "execution_count": null,
      "outputs": [
        {
          "output_type": "stream",
          "text": [
            "단어 집합(vocabulary)의 크기 : 705\n",
            "등장 빈도가 0번 이하인 희귀 단어의 수: 0\n",
            "단어 집합에서 희귀 단어의 비율: 0.0\n",
            "전체 등장 빈도에서 희귀 단어 등장 빈도 비율: 0.0\n"
          ],
          "name": "stdout"
        }
      ]
    },
    {
      "cell_type": "code",
      "metadata": {
        "id": "Zn1iTG_sdlTB",
        "colab": {
          "base_uri": "https://localhost:8080/"
        },
        "outputId": "113ed57f-8b92-4181-f8e9-e5866bc29270"
      },
      "source": [
        "vocab_size = total_cnt - rare_cnt + 2 + len(emotion.tokenizer.word_index)\n",
        "print('단어 집합의 크기 :',vocab_size)"
      ],
      "execution_count": null,
      "outputs": [
        {
          "output_type": "stream",
          "text": [
            "단어 집합의 크기 : 1412\n"
          ],
          "name": "stdout"
        }
      ]
    },
    {
      "cell_type": "code",
      "metadata": {
        "id": "0-pceIW09Xh1",
        "colab": {
          "base_uri": "https://localhost:8080/",
          "height": 231
        },
        "outputId": "0355f2dc-1d56-4cc9-c800-a5196585cc96"
      },
      "source": [
        "import json\n",
        "json = json.dumps(base_tokenizer.word_index)\n",
        "f3 = open(\"base_wordIndex.json\", \"w\")\n",
        "f3.write(json)\n",
        "f3.close()"
      ],
      "execution_count": null,
      "outputs": [
        {
          "output_type": "error",
          "ename": "NameError",
          "evalue": "ignored",
          "traceback": [
            "\u001b[0;31m---------------------------------------------------------------------------\u001b[0m",
            "\u001b[0;31mNameError\u001b[0m                                 Traceback (most recent call last)",
            "\u001b[0;32m<ipython-input-66-f21080516491>\u001b[0m in \u001b[0;36m<module>\u001b[0;34m()\u001b[0m\n\u001b[1;32m      1\u001b[0m \u001b[0;32mimport\u001b[0m \u001b[0mjson\u001b[0m\u001b[0;34m\u001b[0m\u001b[0;34m\u001b[0m\u001b[0m\n\u001b[0;32m----> 2\u001b[0;31m \u001b[0mjson\u001b[0m \u001b[0;34m=\u001b[0m \u001b[0mjson\u001b[0m\u001b[0;34m.\u001b[0m\u001b[0mdumps\u001b[0m\u001b[0;34m(\u001b[0m\u001b[0mbase_tokenizer\u001b[0m\u001b[0;34m.\u001b[0m\u001b[0mword_index\u001b[0m\u001b[0;34m)\u001b[0m\u001b[0;34m\u001b[0m\u001b[0;34m\u001b[0m\u001b[0m\n\u001b[0m\u001b[1;32m      3\u001b[0m \u001b[0mf3\u001b[0m \u001b[0;34m=\u001b[0m \u001b[0mopen\u001b[0m\u001b[0;34m(\u001b[0m\u001b[0;34m\"base_wordIndex.json\"\u001b[0m\u001b[0;34m,\u001b[0m \u001b[0;34m\"w\"\u001b[0m\u001b[0;34m)\u001b[0m\u001b[0;34m\u001b[0m\u001b[0;34m\u001b[0m\u001b[0m\n\u001b[1;32m      4\u001b[0m \u001b[0mf3\u001b[0m\u001b[0;34m.\u001b[0m\u001b[0mwrite\u001b[0m\u001b[0;34m(\u001b[0m\u001b[0mjson\u001b[0m\u001b[0;34m)\u001b[0m\u001b[0;34m\u001b[0m\u001b[0;34m\u001b[0m\u001b[0m\n\u001b[1;32m      5\u001b[0m \u001b[0mf3\u001b[0m\u001b[0;34m.\u001b[0m\u001b[0mclose\u001b[0m\u001b[0;34m(\u001b[0m\u001b[0;34m)\u001b[0m\u001b[0;34m\u001b[0m\u001b[0;34m\u001b[0m\u001b[0m\n",
            "\u001b[0;31mNameError\u001b[0m: name 'base_tokenizer' is not defined"
          ]
        }
      ]
    },
    {
      "cell_type": "code",
      "metadata": {
        "id": "8VZni0Np8tVV"
      },
      "source": [
        "f3"
      ],
      "execution_count": null,
      "outputs": []
    },
    {
      "cell_type": "code",
      "metadata": {
        "id": "1cxi4wk1d2Gf"
      },
      "source": [
        "tokenizer = Tokenizer(vocab_size, oov_token = 'OOV') \n",
        "tokenizer.fit_on_texts(emotion.train_D)\n",
        "X_train = tokenizer.texts_to_sequences(emotion.train_D)\n",
        "X_test = tokenizer.texts_to_sequences(emotion.test_D)"
      ],
      "execution_count": null,
      "outputs": []
    },
    {
      "cell_type": "code",
      "metadata": {
        "id": "nXV0WOUjd_Vs"
      },
      "source": [
        "drop_train = [index for index, sentence in enumerate(X_train) if len(sentence) < 1]"
      ],
      "execution_count": null,
      "outputs": []
    },
    {
      "cell_type": "code",
      "metadata": {
        "id": "ukxz7_2E27AI"
      },
      "source": [
        "# tokenizer2 = Tokenizer(vocab_size, oov_token ='OOV')\n",
        "# tokenizer2.fit_on_texts(emotion2.train_D)\n",
        "# X_train_2 = tokenizer2.texts_to_sequences(emotion2.train_D)\n",
        "# X_test_2 = tokenizer2.texts_to_sequences(emotion2.test_D)"
      ],
      "execution_count": null,
      "outputs": []
    },
    {
      "cell_type": "code",
      "metadata": {
        "id": "Hs5zDOby3geE",
        "colab": {
          "base_uri": "https://localhost:8080/"
        },
        "outputId": "24b79d3f-07f3-4110-8b9b-77b3965234d3"
      },
      "source": [
        "drop_train"
      ],
      "execution_count": null,
      "outputs": [
        {
          "output_type": "execute_result",
          "data": {
            "text/plain": [
              "[]"
            ]
          },
          "metadata": {
            "tags": []
          },
          "execution_count": 13
        }
      ]
    },
    {
      "cell_type": "code",
      "metadata": {
        "id": "Hkmthxb02nGa",
        "colab": {
          "base_uri": "https://localhost:8080/"
        },
        "outputId": "afcd74b3-7be5-48e7-dcdc-9df39e680254"
      },
      "source": [
        "print(np.asarray(X_train).shape)"
      ],
      "execution_count": null,
      "outputs": [
        {
          "output_type": "stream",
          "text": [
            "(469,)\n"
          ],
          "name": "stdout"
        }
      ]
    },
    {
      "cell_type": "code",
      "metadata": {
        "id": "duJlExWT3kUp"
      },
      "source": [
        "#X_train.extend(X_train_2)"
      ],
      "execution_count": null,
      "outputs": []
    },
    {
      "cell_type": "code",
      "metadata": {
        "id": "GbPpRn4K3mRm",
        "colab": {
          "base_uri": "https://localhost:8080/"
        },
        "outputId": "584be5c0-04e2-43c8-feb1-f0d9c398e3b7"
      },
      "source": [
        "print(np.asarray(X_train).shape)"
      ],
      "execution_count": null,
      "outputs": [
        {
          "output_type": "stream",
          "text": [
            "(469,)\n"
          ],
          "name": "stdout"
        }
      ]
    },
    {
      "cell_type": "code",
      "metadata": {
        "id": "rapCNb0730NL"
      },
      "source": [
        "#X_test.extend(X_test_2)"
      ],
      "execution_count": null,
      "outputs": []
    },
    {
      "cell_type": "code",
      "metadata": {
        "id": "dShJo6c22NCw"
      },
      "source": [
        "#train_L = np.append(emotion.train_L, emotion2.train_L ,axis = 0)"
      ],
      "execution_count": null,
      "outputs": []
    },
    {
      "cell_type": "code",
      "metadata": {
        "id": "-goLFf2f34rH"
      },
      "source": [
        "#test_L = np.append(emotion.test_L, emotion2.test_L, axis= 0)"
      ],
      "execution_count": null,
      "outputs": []
    },
    {
      "cell_type": "code",
      "metadata": {
        "id": "ekvgPCl22uwL",
        "colab": {
          "base_uri": "https://localhost:8080/"
        },
        "outputId": "d8fa3625-2638-453b-bbb1-0f8fac05b5a0"
      },
      "source": [
        "train_L.shape"
      ],
      "execution_count": null,
      "outputs": [
        {
          "output_type": "execute_result",
          "data": {
            "text/plain": [
              "(469,)"
            ]
          },
          "metadata": {
            "tags": []
          },
          "execution_count": 20
        }
      ]
    },
    {
      "cell_type": "code",
      "metadata": {
        "id": "7FgPCthMeFmu",
        "colab": {
          "base_uri": "https://localhost:8080/"
        },
        "outputId": "7ec34743-9adf-4fb4-b175-c3e38dfbffeb"
      },
      "source": [
        "train_D = np.delete(X_train, drop_train, axis=0)\n",
        "train_L = np.delete(emotion.train_L, drop_train, axis=0)\n",
        "print(len(train_D))\n",
        "print(len(train_L))"
      ],
      "execution_count": null,
      "outputs": [
        {
          "output_type": "stream",
          "text": [
            "469\n",
            "469\n"
          ],
          "name": "stdout"
        }
      ]
    },
    {
      "cell_type": "code",
      "metadata": {
        "id": "XFcEDdG-efCU",
        "colab": {
          "base_uri": "https://localhost:8080/",
          "height": 313
        },
        "outputId": "78123656-cff3-48e8-9fb8-445326002a7f"
      },
      "source": [
        "print(' 최대 길이 :',max(len(l) for l in train_D))\n",
        "print(' 평균 길이 :',sum(map(len, train_D))/len(train_D))\n",
        "plt.hist([len(s) for s in train_D], bins=50)\n",
        "plt.xlabel('length of samples')\n",
        "plt.ylabel('number of samples')\n",
        "plt.show()"
      ],
      "execution_count": null,
      "outputs": [
        {
          "output_type": "stream",
          "text": [
            " 최대 길이 : 8\n",
            " 평균 길이 : 3.159914712153518\n"
          ],
          "name": "stdout"
        },
        {
          "output_type": "display_data",
          "data": {
            "image/png": "[encoded data removed]",
            "text/plain": [
              "<Figure size 432x288 with 1 Axes>"
            ]
          },
          "metadata": {
            "tags": [],
            "needs_background": "light"
          }
        }
      ]
    },
    {
      "cell_type": "code",
      "metadata": {
        "id": "0TQeSR9Te2H8"
      },
      "source": [
        "def below_threshold_len(max_len, nested_list):\n",
        "  cnt = 0\n",
        "  for s in nested_list:\n",
        "    if(len(s) <= max_len):\n",
        "        cnt = cnt + 1\n",
        "  print('전체 샘플 중 길이가 %s 이하인 샘플의 비율: %s'%(max_len, (cnt / len(nested_list))*100))"
      ],
      "execution_count": null,
      "outputs": []
    },
    {
      "cell_type": "code",
      "metadata": {
        "id": "siBVUBX_e3C6",
        "colab": {
          "base_uri": "https://localhost:8080/"
        },
        "outputId": "bee67a50-6cf5-468a-d46e-718714014ff1"
      },
      "source": [
        "max_len = 8\n",
        "below_threshold_len(max_len, train_D)"
      ],
      "execution_count": null,
      "outputs": [
        {
          "output_type": "stream",
          "text": [
            "전체 샘플 중 길이가 8 이하인 샘플의 비율: 100.0\n"
          ],
          "name": "stdout"
        }
      ]
    },
    {
      "cell_type": "code",
      "metadata": {
        "id": "0DfBO5EZe-vg"
      },
      "source": [
        "train_D = pad_sequences(train_D, maxlen = max_len)\n",
        "test_D = pad_sequences(X_test, maxlen = max_len)"
      ],
      "execution_count": null,
      "outputs": []
    },
    {
      "cell_type": "code",
      "metadata": {
        "id": "nZ1mV7o8Kl2U",
        "colab": {
          "base_uri": "https://localhost:8080/"
        },
        "outputId": "febd90ed-0cc0-42ac-aa0d-2fcb3f6ef088"
      },
      "source": [
        "train_L"
      ],
      "execution_count": null,
      "outputs": [
        {
          "output_type": "execute_result",
          "data": {
            "text/plain": [
              "array([0, 0, 1, 1, 1, 1, 1, 1, 0, 1, 1, 1, 1, 0, 1, 1, 1, 1, 1, 0, 1, 1,\n",
              "       3, 0, 3, 1, 1, 1, 1, 1, 2, 1, 0, 1, 1, 3, 1, 1, 1, 0, 1, 1, 3, 1,\n",
              "       1, 1, 1, 1, 0, 3, 2, 1, 3, 3, 1, 3, 1, 1, 1, 1, 1, 1, 1, 2, 0, 1,\n",
              "       3, 1, 1, 1, 1, 0, 0, 3, 1, 1, 1, 1, 1, 1, 1, 1, 1, 3, 1, 0, 1, 0,\n",
              "       1, 0, 2, 1, 1, 1, 1, 3, 3, 3, 3, 1, 3, 2, 3, 3, 1, 2, 1, 1, 1, 1,\n",
              "       1, 1, 3, 1, 0, 0, 3, 1, 1, 1, 3, 0, 2, 1, 1, 1, 1, 1, 1, 1, 3, 1,\n",
              "       1, 0, 1, 3, 1, 1, 3, 1, 1, 2, 1, 1, 1, 1, 1, 1, 0, 1, 1, 1, 1, 1,\n",
              "       3, 3, 1, 0, 1, 1, 1, 1, 3, 1, 3, 1, 0, 0, 1, 3, 1, 1, 1, 1, 1, 3,\n",
              "       1, 0, 1, 1, 3, 1, 1, 0, 1, 1, 1, 1, 3, 2, 1, 1, 3, 0, 1, 1, 1, 1,\n",
              "       1, 1, 1, 1, 2, 1, 0, 0, 1, 1, 1, 1, 3, 1, 2, 1, 3, 1, 0, 1, 3, 0,\n",
              "       1, 1, 1, 3, 0, 2, 0, 1, 1, 1, 0, 1, 1, 0, 1, 1, 1, 1, 1, 1, 3, 0,\n",
              "       1, 1, 1, 1, 1, 1, 1, 1, 2, 1, 0, 1, 1, 1, 0, 1, 0, 3, 1, 1, 1, 1,\n",
              "       1, 1, 1, 1, 1, 3, 3, 1, 1, 1, 1, 1, 1, 0, 3, 1, 1, 1, 1, 1, 0, 1,\n",
              "       3, 1, 1, 0, 0, 3, 1, 1, 1, 3, 1, 1, 0, 3, 1, 3, 1, 3, 1, 1, 0, 1,\n",
              "       1, 1, 0, 1, 1, 1, 1, 2, 0, 1, 0, 3, 1, 0, 1, 1, 1, 1, 3, 1, 0, 1,\n",
              "       1, 1, 1, 1, 2, 1, 3, 2, 1, 1, 1, 1, 1, 1, 1, 0, 1, 3, 2, 1, 2, 1,\n",
              "       1, 3, 1, 1, 1, 1, 1, 1, 2, 1, 2, 3, 1, 1, 1, 1, 0, 3, 2, 1, 1, 1,\n",
              "       1, 1, 1, 0, 1, 3, 1, 0, 3, 1, 0, 3, 0, 3, 0, 1, 1, 3, 1, 1, 0, 1,\n",
              "       1, 1, 1, 1, 0, 1, 1, 1, 1, 1, 3, 1, 1, 0, 1, 1, 3, 1, 0, 3, 1, 1,\n",
              "       0, 2, 1, 1, 1, 1, 1, 1, 1, 1, 1, 1, 1, 1, 3, 1, 3, 2, 1, 1, 1, 2,\n",
              "       1, 1, 1, 2, 1, 1, 0, 1, 1, 1, 1, 1, 1, 1, 0, 2, 1, 1, 1, 1, 1, 1,\n",
              "       0, 1, 0, 3, 1, 1, 3])"
            ]
          },
          "metadata": {
            "tags": []
          },
          "execution_count": 26
        }
      ]
    },
    {
      "cell_type": "code",
      "metadata": {
        "id": "Te_F5YXWhVGS"
      },
      "source": [
        "from sklearn.preprocessing import OneHotEncoder\n",
        "one = OneHotEncoder()\n",
        "train_L = one.fit_transform(np.array(train_L).reshape(-1,1)).toarray()\n",
        "test_L = one.transform(np.array(emotion.test_L).reshape(-1,1)).toarray()\n"
      ],
      "execution_count": null,
      "outputs": []
    },
    {
      "cell_type": "code",
      "metadata": {
        "id": "xy1kjSoMfhgr",
        "colab": {
          "base_uri": "https://localhost:8080/"
        },
        "outputId": "22e896da-53b4-4f7e-ca41-3ad317163bd8"
      },
      "source": [
        "from tensorflow.keras.layers import Embedding, Dense, LSTM, Dropout, GRU, Conv1D,Flatten,GlobalMaxPooling1D\n",
        "from tensorflow.keras.models import Sequential\n",
        "from tensorflow.keras.models import load_model\n",
        "from tensorflow.keras.callbacks import EarlyStopping, ModelCheckpoint\n",
        "from keras.layers import Bidirectional"
      ],
      "execution_count": null,
      "outputs": [
        {
          "output_type": "stream",
          "text": [
            "Using TensorFlow backend.\n"
          ],
          "name": "stderr"
        }
      ]
    },
    {
      "cell_type": "code",
      "metadata": {
        "id": "oFHIJ8aJpspK",
        "colab": {
          "base_uri": "https://localhost:8080/"
        },
        "outputId": "02a9abc4-6a77-48e9-e24a-ad71795cbebe"
      },
      "source": [
        "train_D.shape"
      ],
      "execution_count": null,
      "outputs": [
        {
          "output_type": "execute_result",
          "data": {
            "text/plain": [
              "(469, 8)"
            ]
          },
          "metadata": {
            "tags": []
          },
          "execution_count": 29
        }
      ]
    },
    {
      "cell_type": "code",
      "metadata": {
        "id": "gQZUitkSfihk"
      },
      "source": [
        "# model = Sequential()\n",
        "# model.add(Embedding(vocab_size, 100))\n",
        "# model.add(Conv1D(100, 3,activation = 'relu'))\n",
        "# model.add(GlobalMaxPooling1D())\n",
        "# model.add(Dropout(0.2))\n",
        "# model.add(Dense(64, activation = 'relu'))\n",
        "# model.add(Flatten())\n",
        "# model.add(Dense(train_L.shape[1], activation='softmax'))"
      ],
      "execution_count": null,
      "outputs": []
    },
    {
      "cell_type": "code",
      "metadata": {
        "id": "cHvutHnGHP7s"
      },
      "source": [
        "model = Sequential()\n",
        "model.add(Embedding(vocab_size, 50))#, trainable = True))\n",
        "model.add((GRU(32, activation = 'tanh')))\n",
        "model.add(Dropout(0.5))\n",
        "#model.add(Dense(32))\n",
        "#model.add(Dropout(0.5))\n",
        "model.add(Dense(train_L.shape[1], activation='softmax'))"
      ],
      "execution_count": null,
      "outputs": []
    },
    {
      "cell_type": "code",
      "metadata": {
        "id": "GPt5O01BpnSW",
        "colab": {
          "base_uri": "https://localhost:8080/"
        },
        "outputId": "ba0b50c2-a2bc-41cc-c002-75b7ae5f74b4"
      },
      "source": [
        "model.summary()"
      ],
      "execution_count": null,
      "outputs": [
        {
          "output_type": "stream",
          "text": [
            "Model: \"sequential_1\"\n",
            "_________________________________________________________________\n",
            "Layer (type)                 Output Shape              Param #   \n",
            "=================================================================\n",
            "embedding_1 (Embedding)      (None, None, 50)          70600     \n",
            "_________________________________________________________________\n",
            "gru_1 (GRU)                  (None, 32)                7968      \n",
            "_________________________________________________________________\n",
            "dropout_2 (Dropout)          (None, 32)                0         \n",
            "_________________________________________________________________\n",
            "dense_2 (Dense)              (None, 4)                 132       \n",
            "=================================================================\n",
            "Total params: 78,700\n",
            "Trainable params: 78,700\n",
            "Non-trainable params: 0\n",
            "_________________________________________________________________\n"
          ],
          "name": "stdout"
        }
      ]
    },
    {
      "cell_type": "code",
      "metadata": {
        "id": "U_TPuebag_JH"
      },
      "source": [
        "#test_L\n",
        "from keras import optimizers\n",
        "adam = optimizers.Adam(lr = 1e-3, clipvalue = 0.6)#lr = 1e-3, decay = 1e-5, clipvalue = 0.6)"
      ],
      "execution_count": null,
      "outputs": []
    },
    {
      "cell_type": "code",
      "metadata": {
        "id": "F9Iss5wYfj6D"
      },
      "source": [
        "es = EarlyStopping(monitor='val_loss', mode='min', verbose=1, patience=4)\n",
        "mc = ModelCheckpoint('base_model.h5', monitor='val_acc', mode='max', verbose=1, save_best_only=True)"
      ],
      "execution_count": null,
      "outputs": []
    },
    {
      "cell_type": "code",
      "metadata": {
        "id": "oO4LdBFGflSK",
        "colab": {
          "base_uri": "https://localhost:8080/"
        },
        "outputId": "63c93793-6581-415d-c551-e49aec2d4151"
      },
      "source": [
        "model.compile(optimizer='adam', loss='categorical_crossentropy', metrics=['acc'])\n",
        "history = model.fit(train_D, train_L, epochs=15, callbacks=[es, mc], batch_size=30, validation_split = 0.2)# 30, 2"
      ],
      "execution_count": null,
      "outputs": [
        {
          "output_type": "stream",
          "text": [
            "Train on 375 samples, validate on 94 samples\n",
            "Epoch 1/15\n",
            "210/375 [===============>..............] - ETA: 0s - loss: 1.3738 - acc: 0.4190\n",
            "Epoch 00001: val_acc improved from -inf to 0.67021, saving model to base_model.h5\n",
            "375/375 [==============================] - 1s 4ms/sample - loss: 1.3591 - acc: 0.5227 - val_loss: 1.3152 - val_acc: 0.6702\n",
            "Epoch 2/15\n",
            "210/375 [===============>..............] - ETA: 0s - loss: 1.2833 - acc: 0.6952\n",
            "Epoch 00002: val_acc did not improve from 0.67021\n",
            "375/375 [==============================] - 0s 360us/sample - loss: 1.2691 - acc: 0.6613 - val_loss: 1.1982 - val_acc: 0.6702\n",
            "Epoch 3/15\n",
            "210/375 [===============>..............] - ETA: 0s - loss: 1.1581 - acc: 0.6571\n",
            "Epoch 00003: val_acc did not improve from 0.67021\n",
            "375/375 [==============================] - 0s 333us/sample - loss: 1.1240 - acc: 0.6613 - val_loss: 1.0167 - val_acc: 0.6702\n",
            "Epoch 4/15\n",
            "210/375 [===============>..............] - ETA: 0s - loss: 0.9943 - acc: 0.6714\n",
            "Epoch 00004: val_acc did not improve from 0.67021\n",
            "375/375 [==============================] - 0s 344us/sample - loss: 1.0019 - acc: 0.6613 - val_loss: 0.9776 - val_acc: 0.6702\n",
            "Epoch 5/15\n",
            "210/375 [===============>..............] - ETA: 0s - loss: 0.9725 - acc: 0.6619\n",
            "Epoch 00005: val_acc did not improve from 0.67021\n",
            "375/375 [==============================] - 0s 332us/sample - loss: 0.9690 - acc: 0.6613 - val_loss: 0.9671 - val_acc: 0.6702\n",
            "Epoch 6/15\n",
            "210/375 [===============>..............] - ETA: 0s - loss: 0.9283 - acc: 0.6762\n",
            "Epoch 00006: val_acc did not improve from 0.67021\n",
            "375/375 [==============================] - 0s 347us/sample - loss: 0.9224 - acc: 0.6613 - val_loss: 0.9521 - val_acc: 0.6702\n",
            "Epoch 7/15\n",
            "210/375 [===============>..............] - ETA: 0s - loss: 0.8490 - acc: 0.6714\n",
            "Epoch 00007: val_acc did not improve from 0.67021\n",
            "375/375 [==============================] - 0s 319us/sample - loss: 0.8829 - acc: 0.6613 - val_loss: 0.9352 - val_acc: 0.6702\n",
            "Epoch 8/15\n",
            "210/375 [===============>..............] - ETA: 0s - loss: 0.8651 - acc: 0.6286\n",
            "Epoch 00008: val_acc did not improve from 0.67021\n",
            "375/375 [==============================] - 0s 333us/sample - loss: 0.8046 - acc: 0.6613 - val_loss: 0.9198 - val_acc: 0.6702\n",
            "Epoch 9/15\n",
            "210/375 [===============>..............] - ETA: 0s - loss: 0.7056 - acc: 0.6952\n",
            "Epoch 00009: val_acc did not improve from 0.67021\n",
            "375/375 [==============================] - 0s 348us/sample - loss: 0.7428 - acc: 0.6827 - val_loss: 0.9064 - val_acc: 0.6702\n",
            "Epoch 10/15\n",
            "210/375 [===============>..............] - ETA: 0s - loss: 0.7038 - acc: 0.6857\n",
            "Epoch 00010: val_acc did not improve from 0.67021\n",
            "375/375 [==============================] - 0s 344us/sample - loss: 0.6581 - acc: 0.7280 - val_loss: 0.9078 - val_acc: 0.6702\n",
            "Epoch 11/15\n",
            "210/375 [===============>..............] - ETA: 0s - loss: 0.5616 - acc: 0.7667\n",
            "Epoch 00011: val_acc did not improve from 0.67021\n",
            "375/375 [==============================] - 0s 324us/sample - loss: 0.5779 - acc: 0.7627 - val_loss: 0.9128 - val_acc: 0.6702\n",
            "Epoch 12/15\n",
            "210/375 [===============>..............] - ETA: 0s - loss: 0.5980 - acc: 0.7619\n",
            "Epoch 00012: val_acc improved from 0.67021 to 0.69149, saving model to base_model.h5\n",
            "375/375 [==============================] - 0s 395us/sample - loss: 0.5235 - acc: 0.8107 - val_loss: 0.9103 - val_acc: 0.6915\n",
            "Epoch 13/15\n",
            "210/375 [===============>..............] - ETA: 0s - loss: 0.4619 - acc: 0.8286\n",
            "Epoch 00013: val_acc improved from 0.69149 to 0.70213, saving model to base_model.h5\n",
            "375/375 [==============================] - 0s 372us/sample - loss: 0.4408 - acc: 0.8320 - val_loss: 0.9342 - val_acc: 0.7021\n",
            "Epoch 00013: early stopping\n"
          ],
          "name": "stdout"
        }
      ]
    },
    {
      "cell_type": "code",
      "metadata": {
        "id": "5VoNsxhX7czq"
      },
      "source": [
        "model.save('base_model.h5')"
      ],
      "execution_count": null,
      "outputs": []
    },
    {
      "cell_type": "code",
      "metadata": {
        "id": "ii0GUDG8OCEK"
      },
      "source": [
        "#model.compile()"
      ],
      "execution_count": null,
      "outputs": []
    },
    {
      "cell_type": "code",
      "metadata": {
        "id": "HDt4I-6Z8bN1",
        "colab": {
          "base_uri": "https://localhost:8080/"
        },
        "outputId": "cca4bd9d-375e-4156-bd27-14686f5ccbcf"
      },
      "source": [
        "test_D.shape"
      ],
      "execution_count": null,
      "outputs": [
        {
          "output_type": "execute_result",
          "data": {
            "text/plain": [
              "(118, 8)"
            ]
          },
          "metadata": {
            "tags": []
          },
          "execution_count": 63
        }
      ]
    },
    {
      "cell_type": "code",
      "metadata": {
        "id": "Ag7JGkdV8dct",
        "colab": {
          "base_uri": "https://localhost:8080/"
        },
        "outputId": "e77ed338-dcf1-4c23-c2fc-4ad5dc26bf2b"
      },
      "source": [
        "test_L.shape"
      ],
      "execution_count": null,
      "outputs": [
        {
          "output_type": "execute_result",
          "data": {
            "text/plain": [
              "(118, 4)"
            ]
          },
          "metadata": {
            "tags": []
          },
          "execution_count": 64
        }
      ]
    },
    {
      "cell_type": "code",
      "metadata": {
        "id": "piDkmFBTiXR1",
        "colab": {
          "base_uri": "https://localhost:8080/"
        },
        "outputId": "99c25339-65c9-441b-b41a-2fb1c1db99c6"
      },
      "source": [
        "loaded_model = load_model('base_model.h5')\n",
        "print(\"\\n 테스트 정확도: %.4f\" % (loaded_model.evaluate(test_D,test_L )[1]))"
      ],
      "execution_count": null,
      "outputs": [
        {
          "output_type": "stream",
          "text": [
            "118/118 [==============================] - 0s 1ms/sample - loss: 0.8972 - acc: 0.6780\n",
            "\n",
            " 테스트 정확도: 0.6780\n"
          ],
          "name": "stdout"
        }
      ]
    },
    {
      "cell_type": "code",
      "metadata": {
        "id": "f1A6x9tw7w7P"
      },
      "source": [
        "#loaded_model.get_config()"
      ],
      "execution_count": null,
      "outputs": []
    },
    {
      "cell_type": "code",
      "metadata": {
        "id": "tI2GISXloHcD"
      },
      "source": [
        "def sentiment_predict(new_sentence):\n",
        "  new_sentence = emotion.okt.morphs(new_sentence, stem=True) # 토큰화\n",
        "  new_sentence = [word for word in new_sentence if not word in emotion.stopwords] # 불용어 제거\n",
        "  print(new_sentence)\n",
        "  encoded = emotion.tokenizer.texts_to_sequences([new_sentence]) # 정수 인코딩\n",
        "  pad_new = pad_sequences(encoded, maxlen = max_len) # 패딩\n",
        "  #print(pad_new)\n",
        "\n",
        "  pred= loaded_model.predict(pad_new) # 예측\n",
        "  return pred"
      ],
      "execution_count": null,
      "outputs": []
    },
    {
      "cell_type": "code",
      "metadata": {
        "id": "MyE0GgftoS80",
        "colab": {
          "base_uri": "https://localhost:8080/"
        },
        "outputId": "df2b3a97-aa9f-4d9f-961f-7555c6fe3c65"
      },
      "source": [
        "(sentiment_predict('내가 얼마나 힘들었는지 알아?'))"
      ],
      "execution_count": null,
      "outputs": [
        {
          "output_type": "stream",
          "text": [
            "['내', '얼마나', '힘들다', '알', '아']\n"
          ],
          "name": "stdout"
        },
        {
          "output_type": "execute_result",
          "data": {
            "text/plain": [
              "array([[1.3088878e-03, 9.9256426e-01, 9.9120149e-04, 5.1357239e-03]],\n",
              "      dtype=float32)"
            ]
          },
          "metadata": {
            "tags": []
          },
          "execution_count": 84
        }
      ]
    },
    {
      "cell_type": "code",
      "metadata": {
        "id": "A0C1N4-l-CKB"
      },
      "source": [
        "#부정 중립 행복"
      ],
      "execution_count": null,
      "outputs": []
    },
    {
      "cell_type": "code",
      "metadata": {
        "id": "5HvlU6kHooTO"
      },
      "source": [
        "#화남 슬픔 중립  행복"
      ],
      "execution_count": null,
      "outputs": []
    },
    {
      "cell_type": "markdown",
      "metadata": {
        "id": "KCSkq7gAxI7l"
      },
      "source": [
        "#make_data"
      ]
    },
    {
      "cell_type": "code",
      "metadata": {
        "id": "BUaHbnOZ1Ju6"
      },
      "source": [
        "import lightgbm"
      ],
      "execution_count": null,
      "outputs": []
    },
    {
      "cell_type": "code",
      "metadata": {
        "id": "ceMFQkBd1pWU",
        "colab": {
          "base_uri": "https://localhost:8080/"
        },
        "outputId": "326e1d7e-8a08-4665-9a6b-e7aadd76364c"
      },
      "source": [
        "train_L.shape"
      ],
      "execution_count": null,
      "outputs": [
        {
          "output_type": "execute_result",
          "data": {
            "text/plain": [
              "(469, 4)"
            ]
          },
          "metadata": {
            "tags": []
          },
          "execution_count": 72
        }
      ]
    },
    {
      "cell_type": "code",
      "metadata": {
        "id": "PU98fNrF1M3o"
      },
      "source": [
        "lgbm = lightgbm.LGBMClassifier()"
      ],
      "execution_count": null,
      "outputs": []
    },
    {
      "cell_type": "code",
      "metadata": {
        "id": "rh3LTrg61R-A",
        "colab": {
          "base_uri": "https://localhost:8080/"
        },
        "outputId": "dad0f4f9-b753-4a40-b0c5-3713c0f50e28"
      },
      "source": [
        "lgbm.fit(train_D, np.argmax(train_L, axis= 1))"
      ],
      "execution_count": null,
      "outputs": [
        {
          "output_type": "execute_result",
          "data": {
            "text/plain": [
              "LGBMClassifier(boosting_type='gbdt', class_weight=None, colsample_bytree=1.0,\n",
              "               importance_type='split', learning_rate=0.1, max_depth=-1,\n",
              "               min_child_samples=20, min_child_weight=0.001, min_split_gain=0.0,\n",
              "               n_estimators=100, n_jobs=-1, num_leaves=31, objective=None,\n",
              "               random_state=None, reg_alpha=0.0, reg_lambda=0.0, silent=True,\n",
              "               subsample=1.0, subsample_for_bin=200000, subsample_freq=0)"
            ]
          },
          "metadata": {
            "tags": []
          },
          "execution_count": 74
        }
      ]
    },
    {
      "cell_type": "code",
      "metadata": {
        "id": "hK8N0Ezd2MPO"
      },
      "source": [
        "pred = lgbm.predict(test_D)#, np.argmax(test_L, axis =1))"
      ],
      "execution_count": null,
      "outputs": []
    },
    {
      "cell_type": "code",
      "metadata": {
        "id": "9TcqynqG2Q7_"
      },
      "source": [
        "from sklearn.metrics import classification_report\n",
        "from sklearn.metrics import confusion_matrix"
      ],
      "execution_count": null,
      "outputs": []
    },
    {
      "cell_type": "code",
      "metadata": {
        "id": "Fx5WXHNy2ZMD",
        "colab": {
          "base_uri": "https://localhost:8080/"
        },
        "outputId": "710a5098-e17d-4b78-8e21-0237d855bd40"
      },
      "source": [
        "confusion_matrix(pred, np.argmax(test_L, axis =1 ))"
      ],
      "execution_count": null,
      "outputs": [
        {
          "output_type": "execute_result",
          "data": {
            "text/plain": [
              "array([[ 1,  0,  0,  2],\n",
              "       [11, 74,  4, 17],\n",
              "       [ 0,  0,  1,  0],\n",
              "       [ 0,  4,  0,  4]])"
            ]
          },
          "metadata": {
            "tags": []
          },
          "execution_count": 77
        }
      ]
    },
    {
      "cell_type": "code",
      "metadata": {
        "id": "N7XZMJXZ2hRZ"
      },
      "source": [
        "from sklearn.metrics import accuracy_score"
      ],
      "execution_count": null,
      "outputs": []
    },
    {
      "cell_type": "code",
      "metadata": {
        "id": "U-QcAX2E38GG",
        "colab": {
          "base_uri": "https://localhost:8080/"
        },
        "outputId": "e8620011-8f01-455b-998d-8520567e15cd"
      },
      "source": [
        "accuracy_score(pred, np.argmax(test_L, axis =1))"
      ],
      "execution_count": null,
      "outputs": [
        {
          "output_type": "execute_result",
          "data": {
            "text/plain": [
              "0.6779661016949152"
            ]
          },
          "metadata": {
            "tags": []
          },
          "execution_count": 79
        }
      ]
    },
    {
      "cell_type": "code",
      "metadata": {
        "id": "wZXxGAHS3_ok"
      },
      "source": [
        "from sklearn.feature_extraction.text import TfidfVectorizer"
      ],
      "execution_count": null,
      "outputs": []
    }
  ]
}